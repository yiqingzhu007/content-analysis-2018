{
 "cells": [
  {
   "cell_type": "markdown",
   "metadata": {},
   "source": [
    "# Week 4 - Word Embeddings\n",
    "\n",
    "This week, we build on last week's topic modeling techniques by taking a text corpus we have developed, specifying an underlying number of dimensions, and training a model with a neural network auto-encoder (one of Google's word2vec  algorithms) that best describes corpus words in their local linguistic contexts, and exploring their locations in the resulting space to learn about the discursive culture that produced them. Documents here are represented as densely indexed locations in dimensions, rather than sparse mixtures of topics (as in LDA topic modeling), so that distances between those documents (and words) are consistently superior, though they require the full vector of dimension loadings (rather than just a few selected topic loadings) to describe. We will explore these spaces to understand complex, semantic relationships between words, index documents with descriptive words, identify the likelihood that a given document would have been produced by a given vector model, and explore how semantic categories can help us understand the cultures that produced them.\n",
    "\n",
    "For this notebook we will be using the following packages"
   ]
  },
  {
   "cell_type": "code",
   "execution_count": 1,
   "metadata": {
    "collapsed": true
   },
   "outputs": [],
   "source": [
    "#Special module written for this class\n",
    "#This provides access to data and to helper functions from previous weeks\n",
    "#Make sure you update it before starting this notebook\n",
    "import lucem_illud #pip install -U git+git://github.com/Computational-Content-Analysis-2018/lucem_illud.git\n",
    "\n",
    "#All these packages need to be installed from pip\n",
    "import gensim#For word2vec, etc\n",
    "import requests #For downloading our datasets\n",
    "import nltk #For stop words and stemmers\n",
    "import numpy as np #For arrays\n",
    "import pandas #Gives us DataFrames\n",
    "import matplotlib.pyplot as plt #For graphics\n",
    "import seaborn #Makes the graphics look nicer\n",
    "import sklearn.metrics.pairwise #For cosine similarity\n",
    "import sklearn.manifold #For T-SNE\n",
    "import sklearn.decomposition #For PCA\n",
    "\n",
    "#gensim uses a couple of deprecated features\n",
    "#we can't do anything about them so lets ignore them \n",
    "import warnings\n",
    "warnings.filterwarnings(\"ignore\", category=DeprecationWarning) \n",
    "\n",
    "#This 'magic' command makes the plots work better\n",
    "#in the notebook, don't use it outside of a notebook.\n",
    "#Also you can ignore the warning\n",
    "%matplotlib inline\n",
    "\n",
    "import os #For looking through files\n",
    "import os.path #For managing file paths"
   ]
  },
  {
   "cell_type": "markdown",
   "metadata": {},
   "source": [
    "# Getting our corpora\n",
    "\n",
    "Instead of downloading our corpora, we have download them in advance; a subset of the [senate press releases](https://github.com/lintool/GrimmerSenatePressReleases) are in `grimmerPressReleases`. We will load them into a DataFrame, using a function from a couple weeks ago `loadTextDirectory`:"
   ]
  },
  {
   "cell_type": "code",
   "execution_count": 2,
   "metadata": {
    "collapsed": false
   },
   "outputs": [
    {
     "data": {
      "text/html": [
       "<div>\n",
       "<style scoped>\n",
       "    .dataframe tbody tr th:only-of-type {\n",
       "        vertical-align: middle;\n",
       "    }\n",
       "\n",
       "    .dataframe tbody tr th {\n",
       "        vertical-align: top;\n",
       "    }\n",
       "\n",
       "    .dataframe thead th {\n",
       "        text-align: right;\n",
       "    }\n",
       "</style>\n",
       "<table border=\"1\" class=\"dataframe\">\n",
       "  <thead>\n",
       "    <tr style=\"text-align: right;\">\n",
       "      <th></th>\n",
       "      <th>text</th>\n",
       "    </tr>\n",
       "  </thead>\n",
       "  <tbody>\n",
       "    <tr>\n",
       "      <th>01Apr2005Kennedy14.txt</th>\n",
       "      <td>FOR IMMEDIATE RELEASE   FOR IMMEDIATE...</td>\n",
       "    </tr>\n",
       "    <tr>\n",
       "      <th>01Aug2005Kennedy12.txt</th>\n",
       "      <td>FOR IMMEDIATE RELEASE   FOR IMMEDIATE...</td>\n",
       "    </tr>\n",
       "    <tr>\n",
       "      <th>01Aug2006Kennedy10.txt</th>\n",
       "      <td>FOR IMMEDIATE RELEASE  FOR IMMEDIATE ...</td>\n",
       "    </tr>\n",
       "    <tr>\n",
       "      <th>01Aug2006Kennedy11.txt</th>\n",
       "      <td>FOR IMMEDIATE RELEASE  FOR IMMEDIATE ...</td>\n",
       "    </tr>\n",
       "    <tr>\n",
       "      <th>01Aug2006Kennedy12.txt</th>\n",
       "      <td>FOR IMMEDIATE RELEASE  FOR IMMEDIATE ...</td>\n",
       "    </tr>\n",
       "  </tbody>\n",
       "</table>\n",
       "</div>"
      ],
      "text/plain": [
       "                                                                     text\n",
       "01Apr2005Kennedy14.txt           FOR IMMEDIATE RELEASE   FOR IMMEDIATE...\n",
       "01Aug2005Kennedy12.txt           FOR IMMEDIATE RELEASE   FOR IMMEDIATE...\n",
       "01Aug2006Kennedy10.txt           FOR IMMEDIATE RELEASE  FOR IMMEDIATE ...\n",
       "01Aug2006Kennedy11.txt           FOR IMMEDIATE RELEASE  FOR IMMEDIATE ...\n",
       "01Aug2006Kennedy12.txt           FOR IMMEDIATE RELEASE  FOR IMMEDIATE ..."
      ]
     },
     "execution_count": 2,
     "metadata": {},
     "output_type": "execute_result"
    }
   ],
   "source": [
    "kennedyDF = lucem_illud.loadTextDirectory('../data/grimmerPressReleases/Kennedy/')\n",
    "kennedyDF[:5]"
   ]
  },
  {
   "cell_type": "markdown",
   "metadata": {},
   "source": [
    "This gets us one Senator's data, but with no metadata, we can add a category column with a simple command:"
   ]
  },
  {
   "cell_type": "code",
   "execution_count": 3,
   "metadata": {
    "collapsed": false
   },
   "outputs": [
    {
     "data": {
      "text/html": [
       "<div>\n",
       "<style scoped>\n",
       "    .dataframe tbody tr th:only-of-type {\n",
       "        vertical-align: middle;\n",
       "    }\n",
       "\n",
       "    .dataframe tbody tr th {\n",
       "        vertical-align: top;\n",
       "    }\n",
       "\n",
       "    .dataframe thead th {\n",
       "        text-align: right;\n",
       "    }\n",
       "</style>\n",
       "<table border=\"1\" class=\"dataframe\">\n",
       "  <thead>\n",
       "    <tr style=\"text-align: right;\">\n",
       "      <th></th>\n",
       "      <th>text</th>\n",
       "      <th>category</th>\n",
       "    </tr>\n",
       "  </thead>\n",
       "  <tbody>\n",
       "    <tr>\n",
       "      <th>01Apr2005Kennedy14.txt</th>\n",
       "      <td>FOR IMMEDIATE RELEASE   FOR IMMEDIATE...</td>\n",
       "      <td>Kennedy</td>\n",
       "    </tr>\n",
       "    <tr>\n",
       "      <th>01Aug2005Kennedy12.txt</th>\n",
       "      <td>FOR IMMEDIATE RELEASE   FOR IMMEDIATE...</td>\n",
       "      <td>Kennedy</td>\n",
       "    </tr>\n",
       "    <tr>\n",
       "      <th>01Aug2006Kennedy10.txt</th>\n",
       "      <td>FOR IMMEDIATE RELEASE  FOR IMMEDIATE ...</td>\n",
       "      <td>Kennedy</td>\n",
       "    </tr>\n",
       "    <tr>\n",
       "      <th>01Aug2006Kennedy11.txt</th>\n",
       "      <td>FOR IMMEDIATE RELEASE  FOR IMMEDIATE ...</td>\n",
       "      <td>Kennedy</td>\n",
       "    </tr>\n",
       "    <tr>\n",
       "      <th>01Aug2006Kennedy12.txt</th>\n",
       "      <td>FOR IMMEDIATE RELEASE  FOR IMMEDIATE ...</td>\n",
       "      <td>Kennedy</td>\n",
       "    </tr>\n",
       "  </tbody>\n",
       "</table>\n",
       "</div>"
      ],
      "text/plain": [
       "                                                                     text  \\\n",
       "01Apr2005Kennedy14.txt           FOR IMMEDIATE RELEASE   FOR IMMEDIATE...   \n",
       "01Aug2005Kennedy12.txt           FOR IMMEDIATE RELEASE   FOR IMMEDIATE...   \n",
       "01Aug2006Kennedy10.txt           FOR IMMEDIATE RELEASE  FOR IMMEDIATE ...   \n",
       "01Aug2006Kennedy11.txt           FOR IMMEDIATE RELEASE  FOR IMMEDIATE ...   \n",
       "01Aug2006Kennedy12.txt           FOR IMMEDIATE RELEASE  FOR IMMEDIATE ...   \n",
       "\n",
       "                       category  \n",
       "01Apr2005Kennedy14.txt  Kennedy  \n",
       "01Aug2005Kennedy12.txt  Kennedy  \n",
       "01Aug2006Kennedy10.txt  Kennedy  \n",
       "01Aug2006Kennedy11.txt  Kennedy  \n",
       "01Aug2006Kennedy12.txt  Kennedy  "
      ]
     },
     "execution_count": 3,
     "metadata": {},
     "output_type": "execute_result"
    }
   ],
   "source": [
    "kennedyDF['category'] = 'Kennedy'\n",
    "kennedyDF[:5]"
   ]
  },
  {
   "cell_type": "markdown",
   "metadata": {},
   "source": [
    "We also will be wanting to load all the senators so we will need to loop over all the directories"
   ]
  },
  {
   "cell_type": "code",
   "execution_count": 4,
   "metadata": {
    "collapsed": false
   },
   "outputs": [
    {
     "data": {
      "text/html": [
       "<div>\n",
       "<style scoped>\n",
       "    .dataframe tbody tr th:only-of-type {\n",
       "        vertical-align: middle;\n",
       "    }\n",
       "\n",
       "    .dataframe tbody tr th {\n",
       "        vertical-align: top;\n",
       "    }\n",
       "\n",
       "    .dataframe thead th {\n",
       "        text-align: right;\n",
       "    }\n",
       "</style>\n",
       "<table border=\"1\" class=\"dataframe\">\n",
       "  <thead>\n",
       "    <tr style=\"text-align: right;\">\n",
       "      <th></th>\n",
       "      <th>text</th>\n",
       "      <th>category</th>\n",
       "    </tr>\n",
       "  </thead>\n",
       "  <tbody>\n",
       "    <tr>\n",
       "      <th>01Apr2005Kennedy14.txt</th>\n",
       "      <td>FOR IMMEDIATE RELEASE   FOR IMMEDIATE...</td>\n",
       "      <td>Kennedy</td>\n",
       "    </tr>\n",
       "    <tr>\n",
       "      <th>01Aug2005Kennedy12.txt</th>\n",
       "      <td>FOR IMMEDIATE RELEASE   FOR IMMEDIATE...</td>\n",
       "      <td>Kennedy</td>\n",
       "    </tr>\n",
       "    <tr>\n",
       "      <th>01Aug2006Kennedy10.txt</th>\n",
       "      <td>FOR IMMEDIATE RELEASE  FOR IMMEDIATE ...</td>\n",
       "      <td>Kennedy</td>\n",
       "    </tr>\n",
       "    <tr>\n",
       "      <th>01Aug2006Kennedy11.txt</th>\n",
       "      <td>FOR IMMEDIATE RELEASE  FOR IMMEDIATE ...</td>\n",
       "      <td>Kennedy</td>\n",
       "    </tr>\n",
       "    <tr>\n",
       "      <th>01Aug2006Kennedy12.txt</th>\n",
       "      <td>FOR IMMEDIATE RELEASE  FOR IMMEDIATE ...</td>\n",
       "      <td>Kennedy</td>\n",
       "    </tr>\n",
       "  </tbody>\n",
       "</table>\n",
       "</div>"
      ],
      "text/plain": [
       "                                                                     text  \\\n",
       "01Apr2005Kennedy14.txt           FOR IMMEDIATE RELEASE   FOR IMMEDIATE...   \n",
       "01Aug2005Kennedy12.txt           FOR IMMEDIATE RELEASE   FOR IMMEDIATE...   \n",
       "01Aug2006Kennedy10.txt           FOR IMMEDIATE RELEASE  FOR IMMEDIATE ...   \n",
       "01Aug2006Kennedy11.txt           FOR IMMEDIATE RELEASE  FOR IMMEDIATE ...   \n",
       "01Aug2006Kennedy12.txt           FOR IMMEDIATE RELEASE  FOR IMMEDIATE ...   \n",
       "\n",
       "                       category  \n",
       "01Apr2005Kennedy14.txt  Kennedy  \n",
       "01Aug2005Kennedy12.txt  Kennedy  \n",
       "01Aug2006Kennedy10.txt  Kennedy  \n",
       "01Aug2006Kennedy11.txt  Kennedy  \n",
       "01Aug2006Kennedy12.txt  Kennedy  "
      ]
     },
     "execution_count": 4,
     "metadata": {},
     "output_type": "execute_result"
    }
   ],
   "source": [
    "dataDir = '../data/grimmerPressReleases'\n",
    "\n",
    "senReleasesDF = pandas.DataFrame()\n",
    "\n",
    "for senatorDir in (file for file in os.scandir(dataDir) if not file.name.startswith('.') and file.is_dir()):\n",
    "    senDF = lucem_illud.loadTextDirectory(senatorDir.path)\n",
    "    senDF['category'] = senatorDir.name\n",
    "    senReleasesDF = senReleasesDF.append(senDF, ignore_index = False)\n",
    "\n",
    "senReleasesDF[:5]"
   ]
  },
  {
   "cell_type": "markdown",
   "metadata": {},
   "source": [
    "We also want to remove stop words and stem. Tokenizing requires two steps. Word2Vec needs to retain the sentence structure so as to capture a \"continuous bag of words (CBOW)\" and all of the skip-grams within a word window. The algorithm tries to preserve the distances induced by one of these two local structures. This is very different from clustering and LDA topic modeling which extract unordered words alone. As such, tokenizing is slightly more involved, but we can still use `lucem_illud`."
   ]
  },
  {
   "cell_type": "code",
   "execution_count": 13,
   "metadata": {
    "collapsed": false
   },
   "outputs": [
    {
     "data": {
      "text/html": [
       "<div>\n",
       "<style scoped>\n",
       "    .dataframe tbody tr th:only-of-type {\n",
       "        vertical-align: middle;\n",
       "    }\n",
       "\n",
       "    .dataframe tbody tr th {\n",
       "        vertical-align: top;\n",
       "    }\n",
       "\n",
       "    .dataframe thead th {\n",
       "        text-align: right;\n",
       "    }\n",
       "</style>\n",
       "<table border=\"1\" class=\"dataframe\">\n",
       "  <thead>\n",
       "    <tr style=\"text-align: right;\">\n",
       "      <th></th>\n",
       "      <th>text</th>\n",
       "      <th>category</th>\n",
       "      <th>tokenized_sents</th>\n",
       "      <th>normalized_sents</th>\n",
       "    </tr>\n",
       "  </thead>\n",
       "  <tbody>\n",
       "    <tr>\n",
       "      <th>01Apr2005Kennedy14.txt</th>\n",
       "      <td>FOR IMMEDIATE RELEASE   FOR IMMEDIATE...</td>\n",
       "      <td>Kennedy</td>\n",
       "      <td>[[FOR, IMMEDIATE, RELEASE, FOR, IMMEDIATE, REL...</td>\n",
       "      <td>[[immediate, release, immediate, release, cont...</td>\n",
       "    </tr>\n",
       "    <tr>\n",
       "      <th>01Aug2005Kennedy12.txt</th>\n",
       "      <td>FOR IMMEDIATE RELEASE   FOR IMMEDIATE...</td>\n",
       "      <td>Kennedy</td>\n",
       "      <td>[[FOR, IMMEDIATE, RELEASE, FOR, IMMEDIATE, REL...</td>\n",
       "      <td>[[immediate, release, immediate, release, cont...</td>\n",
       "    </tr>\n",
       "    <tr>\n",
       "      <th>01Aug2006Kennedy10.txt</th>\n",
       "      <td>FOR IMMEDIATE RELEASE  FOR IMMEDIATE ...</td>\n",
       "      <td>Kennedy</td>\n",
       "      <td>[[FOR, IMMEDIATE, RELEASE, FOR, IMMEDIATE, REL...</td>\n",
       "      <td>[[immediate, release, immediate, release, wash...</td>\n",
       "    </tr>\n",
       "    <tr>\n",
       "      <th>01Aug2006Kennedy11.txt</th>\n",
       "      <td>FOR IMMEDIATE RELEASE  FOR IMMEDIATE ...</td>\n",
       "      <td>Kennedy</td>\n",
       "      <td>[[FOR, IMMEDIATE, RELEASE, FOR, IMMEDIATE, REL...</td>\n",
       "      <td>[[immediate, release, immediate, release, wash...</td>\n",
       "    </tr>\n",
       "    <tr>\n",
       "      <th>01Aug2006Kennedy12.txt</th>\n",
       "      <td>FOR IMMEDIATE RELEASE  FOR IMMEDIATE ...</td>\n",
       "      <td>Kennedy</td>\n",
       "      <td>[[FOR, IMMEDIATE, RELEASE, FOR, IMMEDIATE, REL...</td>\n",
       "      <td>[[immediate, release, immediate, release, cont...</td>\n",
       "    </tr>\n",
       "  </tbody>\n",
       "</table>\n",
       "</div>"
      ],
      "text/plain": [
       "                                                                     text  \\\n",
       "01Apr2005Kennedy14.txt           FOR IMMEDIATE RELEASE   FOR IMMEDIATE...   \n",
       "01Aug2005Kennedy12.txt           FOR IMMEDIATE RELEASE   FOR IMMEDIATE...   \n",
       "01Aug2006Kennedy10.txt           FOR IMMEDIATE RELEASE  FOR IMMEDIATE ...   \n",
       "01Aug2006Kennedy11.txt           FOR IMMEDIATE RELEASE  FOR IMMEDIATE ...   \n",
       "01Aug2006Kennedy12.txt           FOR IMMEDIATE RELEASE  FOR IMMEDIATE ...   \n",
       "\n",
       "                       category  \\\n",
       "01Apr2005Kennedy14.txt  Kennedy   \n",
       "01Aug2005Kennedy12.txt  Kennedy   \n",
       "01Aug2006Kennedy10.txt  Kennedy   \n",
       "01Aug2006Kennedy11.txt  Kennedy   \n",
       "01Aug2006Kennedy12.txt  Kennedy   \n",
       "\n",
       "                                                          tokenized_sents  \\\n",
       "01Apr2005Kennedy14.txt  [[FOR, IMMEDIATE, RELEASE, FOR, IMMEDIATE, REL...   \n",
       "01Aug2005Kennedy12.txt  [[FOR, IMMEDIATE, RELEASE, FOR, IMMEDIATE, REL...   \n",
       "01Aug2006Kennedy10.txt  [[FOR, IMMEDIATE, RELEASE, FOR, IMMEDIATE, REL...   \n",
       "01Aug2006Kennedy11.txt  [[FOR, IMMEDIATE, RELEASE, FOR, IMMEDIATE, REL...   \n",
       "01Aug2006Kennedy12.txt  [[FOR, IMMEDIATE, RELEASE, FOR, IMMEDIATE, REL...   \n",
       "\n",
       "                                                         normalized_sents  \n",
       "01Apr2005Kennedy14.txt  [[immediate, release, immediate, release, cont...  \n",
       "01Aug2005Kennedy12.txt  [[immediate, release, immediate, release, cont...  \n",
       "01Aug2006Kennedy10.txt  [[immediate, release, immediate, release, wash...  \n",
       "01Aug2006Kennedy11.txt  [[immediate, release, immediate, release, wash...  \n",
       "01Aug2006Kennedy12.txt  [[immediate, release, immediate, release, cont...  "
      ]
     },
     "execution_count": 13,
     "metadata": {},
     "output_type": "execute_result"
    }
   ],
   "source": [
    "#Apply our functions, notice each row is a list of lists now\n",
    "senReleasesDF['tokenized_sents'] = senReleasesDF['text'].apply(lambda x: \n",
    "                                                               [nltk.word_tokenize(s) for s in nltk.sent_tokenize(x)])\n",
    "senReleasesDF['normalized_sents'] = senReleasesDF['tokenized_sents'].apply(lambda x: \n",
    "                                                                           [lucem_illud.normalizeTokens(s, \n",
    "                                                                                           stopwordLst = lucem_illud.stop_words_basic, \n",
    "                                                                                           stemmer = None) \n",
    "                                                                            for s in x])\n",
    "\n",
    "senReleasesDF[:5]"
   ]
  },
  {
   "cell_type": "markdown",
   "metadata": {},
   "source": [
    "# Word2Vec\n",
    "\n",
    "We will be using the gensim implementation of [Word2Vec](https://radimrehurek.com/gensim/models/word2vec.html#gensim.models.word2vec.Word2Vec).\n",
    "\n",
    "To load our data, we give all the sentences to the trainer. We just need to add the words as a list of sentences:"
   ]
  },
  {
   "cell_type": "code",
   "execution_count": 14,
   "metadata": {
    "collapsed": true
   },
   "outputs": [],
   "source": [
    "senReleasesW2V = gensim.models.word2vec.Word2Vec(senReleasesDF['normalized_sents'].sum())"
   ]
  },
  {
   "cell_type": "markdown",
   "metadata": {},
   "source": [
    "Inside the word2vec object, the words each have a vector. To access the vector directly, use the square braces (`__getitem__`) method:"
   ]
  },
  {
   "cell_type": "code",
   "execution_count": 17,
   "metadata": {
    "collapsed": false
   },
   "outputs": [
    {
     "name": "stdout",
     "output_type": "stream",
     "text": [
      "A 100 dimesional vector:\n"
     ]
    },
    {
     "data": {
      "text/plain": [
       "array([ 3.5460165 ,  0.41809118,  1.004169  ,  2.3616884 , -2.162185  ,\n",
       "        0.8893318 , -2.7756996 , -0.48604497, -1.5412647 , -2.4820752 ,\n",
       "       -2.191929  , -1.2351776 , -1.1389152 ,  0.57342654, -0.30886894,\n",
       "       -0.03516562,  0.583807  , -2.4935198 , -1.0236382 , -0.24789475,\n",
       "        1.0060257 ,  1.6658496 ,  2.5120578 ,  1.500967  , -1.5576643 ,\n",
       "       -0.26666456, -1.944093  ,  0.3130546 ,  0.6157188 ,  1.0982636 ,\n",
       "       -0.22075763, -2.062883  ,  1.1328382 ,  0.6088256 , -1.2387737 ,\n",
       "       -0.02631386, -0.922476  , -0.13127568, -3.336613  , -0.12158246,\n",
       "        0.08792038,  0.30979073, -1.6543784 ,  1.6129528 , -1.936147  ,\n",
       "        1.2040673 , -0.10706139, -0.7415347 , -1.5792537 ,  2.03609   ,\n",
       "       -0.14990991, -0.3349012 , -2.5287454 , -1.3846538 , -0.8536681 ,\n",
       "       -0.40615597,  0.34818816,  2.4238064 ,  1.1106794 ,  0.2966778 ,\n",
       "        0.67986035, -1.5377877 ,  1.7259918 , -0.1161475 , -1.6125871 ,\n",
       "        0.29024813,  0.55948836, -0.23153718, -0.7294885 , -0.05757606,\n",
       "        0.3253363 , -1.5574887 , -0.40763253, -0.21809472,  0.411212  ,\n",
       "        0.35487676,  0.6986244 ,  0.4892101 , -1.2387593 , -2.287712  ,\n",
       "       -4.73806   , -0.4561634 , -0.8531654 , -1.9161798 ,  1.0300848 ,\n",
       "        0.289527  , -1.0449886 , -2.30223   ,  1.0552062 , -0.5392289 ,\n",
       "       -2.2824297 , -0.8576825 ,  2.1357548 ,  0.33363646, -2.1652367 ,\n",
       "        0.93436706,  0.78922457,  2.0339465 ,  0.769984  ,  0.39887664],\n",
       "      dtype=float32)"
      ]
     },
     "execution_count": 17,
     "metadata": {},
     "output_type": "execute_result"
    }
   ],
   "source": [
    "print(\"A {} dimesional vector:\".format(senReleasesW2V['president'].shape[0]))\n",
    "senReleasesW2V['president']"
   ]
  },
  {
   "cell_type": "markdown",
   "metadata": {},
   "source": [
    "If you want the full matrix, `syn0` stores all the vectors:"
   ]
  },
  {
   "cell_type": "code",
   "execution_count": 18,
   "metadata": {
    "collapsed": false
   },
   "outputs": [
    {
     "data": {
      "text/plain": [
       "array([[ 0.3777849 ,  0.87496865,  2.0689359 , ...,  2.0689502 ,\n",
       "         0.3220019 ,  0.6179193 ],\n",
       "       [-1.5793123 , -0.5776124 ,  1.1648496 , ..., -1.3696319 ,\n",
       "         1.8711114 , -0.6309839 ],\n",
       "       [ 2.0315065 ,  0.30653602,  0.44131815, ...,  2.516168  ,\n",
       "         1.3728797 ,  1.4435571 ],\n",
       "       ...,\n",
       "       [-0.02888496, -0.09518585, -0.00284636, ...,  0.04514617,\n",
       "        -0.04286274,  0.08588338],\n",
       "       [-0.00353373, -0.07759305, -0.01002607, ...,  0.07158931,\n",
       "        -0.09959304,  0.12945753],\n",
       "       [-0.03623074, -0.00643337,  0.03654654, ...,  0.05042213,\n",
       "         0.00470641,  0.02529114]], dtype=float32)"
      ]
     },
     "execution_count": 18,
     "metadata": {},
     "output_type": "execute_result"
    }
   ],
   "source": [
    "senReleasesW2V.wv.syn0"
   ]
  },
  {
   "cell_type": "markdown",
   "metadata": {},
   "source": [
    "Then, `index2word` lets you translate from the matrix to words"
   ]
  },
  {
   "cell_type": "code",
   "execution_count": 19,
   "metadata": {
    "collapsed": false
   },
   "outputs": [
    {
     "data": {
      "text/plain": [
       "'american'"
      ]
     },
     "execution_count": 19,
     "metadata": {},
     "output_type": "execute_result"
    }
   ],
   "source": [
    "senReleasesW2V.wv.index2word[10]"
   ]
  },
  {
   "cell_type": "markdown",
   "metadata": {},
   "source": [
    "Now we can look at a few things that come from the word vectors. The first is to find similar vectors (cosine similarity):"
   ]
  },
  {
   "cell_type": "code",
   "execution_count": 20,
   "metadata": {
    "collapsed": false
   },
   "outputs": [
    {
     "data": {
      "text/plain": [
       "[('administration', 0.7934373021125793),\n",
       " ('presidents', 0.7453551292419434),\n",
       " ('administrations', 0.6619491577148438),\n",
       " ('cheney', 0.6093978881835938),\n",
       " ('george', 0.6029247045516968),\n",
       " ('ronald', 0.5556784868240356),\n",
       " ('responds', 0.5381815433502197),\n",
       " ('quoting', 0.5368585586547852),\n",
       " ('lamont', 0.5256049036979675),\n",
       " ('rollback', 0.517457127571106)]"
      ]
     },
     "execution_count": 20,
     "metadata": {},
     "output_type": "execute_result"
    }
   ],
   "source": [
    "senReleasesW2V.most_similar('president')"
   ]
  },
  {
   "cell_type": "code",
   "execution_count": 21,
   "metadata": {
    "collapsed": false
   },
   "outputs": [
    {
     "data": {
      "text/plain": [
       "[('wars', 0.692754328250885),\n",
       " ('disobedience', 0.6844347715377808),\n",
       " ('unresisted', 0.6612114906311035),\n",
       " ('quagmire', 0.643332302570343),\n",
       " ('afghanistan', 0.6303823590278625),\n",
       " ('battle', 0.6238477230072021),\n",
       " ('descending', 0.609258234500885),\n",
       " ('chaos', 0.5934416055679321),\n",
       " ('insurgency', 0.5839394330978394),\n",
       " ('ticking', 0.5721606016159058)]"
      ]
     },
     "execution_count": 21,
     "metadata": {},
     "output_type": "execute_result"
    }
   ],
   "source": [
    "senReleasesW2V.most_similar('war')"
   ]
  },
  {
   "cell_type": "markdown",
   "metadata": {},
   "source": [
    "Or we can get this directly (calculated slightly differently):"
   ]
  },
  {
   "cell_type": "code",
   "execution_count": 22,
   "metadata": {
    "collapsed": true
   },
   "outputs": [],
   "source": [
    "def cos_difference(embedding,word1,word2):\n",
    "    return sklearn.metrics.pairwise.cosine_similarity(embedding[word1].reshape(1,-1),embedding[word2].reshape(1,-1))"
   ]
  },
  {
   "cell_type": "code",
   "execution_count": 23,
   "metadata": {
    "collapsed": false
   },
   "outputs": [
    {
     "data": {
      "text/plain": [
       "array([[0.5036833]], dtype=float32)"
      ]
     },
     "execution_count": 23,
     "metadata": {},
     "output_type": "execute_result"
    }
   ],
   "source": [
    "cos_difference(senReleasesW2V, 'war', 'unwinnable')"
   ]
  },
  {
   "cell_type": "markdown",
   "metadata": {},
   "source": [
    "We can also find which word least matches the others within a word set (cosine similarity):"
   ]
  },
  {
   "cell_type": "code",
   "execution_count": 25,
   "metadata": {
    "collapsed": false
   },
   "outputs": [
    {
     "data": {
      "text/plain": [
       "'washington'"
      ]
     },
     "execution_count": 25,
     "metadata": {},
     "output_type": "execute_result"
    }
   ],
   "source": [
    "senReleasesW2V.doesnt_match(['administration', 'administrations', 'presidents', 'president', 'washington'])"
   ]
  },
  {
   "cell_type": "markdown",
   "metadata": {},
   "source": [
    "Find which word best matches the result of a semantic *equation* (here, we seek the words whose vectors best fit the missing entry from the equation: **X + Y - Z = _**."
   ]
  },
  {
   "cell_type": "code",
   "execution_count": 26,
   "metadata": {
    "collapsed": false
   },
   "outputs": [
    {
     "data": {
      "text/plain": [
       "[('vetoed', 0.661482572555542),\n",
       " ('blocked', 0.6428155899047852),\n",
       " ('signed', 0.6352421641349792),\n",
       " ('bush', 0.6306736469268799),\n",
       " ('proposing', 0.6280951499938965),\n",
       " ('veto', 0.6224663853645325),\n",
       " ('signature', 0.6206871271133423),\n",
       " ('signing', 0.6172686219215393),\n",
       " ('desk', 0.5976161956787109),\n",
       " ('bushs', 0.5917327404022217)]"
      ]
     },
     "execution_count": 26,
     "metadata": {},
     "output_type": "execute_result"
    }
   ],
   "source": [
    "senReleasesW2V.most_similar(positive=['clinton', 'republican'], negative = ['democrat'])"
   ]
  },
  {
   "cell_type": "markdown",
   "metadata": {},
   "source": [
    "Here we see that **Clinton + Republican - Democrat = Bush**. In other words, in this dataset and period, **Clinton** was to **Democrat** as **Bush** was to **Republican**. Whoah!"
   ]
  },
  {
   "cell_type": "markdown",
   "metadata": {},
   "source": [
    " But how do we argue that these are stable distances or associations?"
   ]
  },
  {
   "cell_type": "markdown",
   "metadata": {},
   "source": [
    "## Establishing Credible or Confidence Intervals"
   ]
  },
  {
   "cell_type": "markdown",
   "metadata": {},
   "source": [
    "### Boostrapping approach"
   ]
  },
  {
   "cell_type": "markdown",
   "metadata": {},
   "source": [
    "We propose well-established bootstrapping and subsampling methods to nonparametrically demonstrate the stability and significance of word associations within our embedding model. These allow us to establish conservative confidence intervals to both (a) distances between words in a model and (b) projections of words onto an induced dimension (e.g., man-woman). If we assume that the texts (e.g., newspapers, books) underlying our word embedding model are observations drawn from an independent and identically distributed (i.i.d.) population of cultural observations, then bootstrapping allows us to estimate the variance of word distances and projections by measuring those properties through sampling the empirical distribution of texts with replacement (Efron and Tibshirani 1994; Efron 2003). Operationally, if we wanted to bootstrap a 90% confidence interval of a word-word distance or word-dimension projection, we would sample a corpus the same size as the original corpus, but with replacement, 20 times, estimate word embedding models on each sample. Then we take the 2nd order (2nd smallest) statistic $s_{(2)}$--either distance or projection--as our confidence interval’s lower bound, and 19th order statistic $s_{(19)}$ as its upper bound. The distance between $s_{(2)}$ and $s_{(19)}$ across 20 bootstrap samples span the 5th to the 95th percentiles of the statistic’s variance, bounding the 90th confidence interval. A 95% confidence interval would span $s_{(2)}$ and $s_{(39)}$ in word embedding distances or projections estimated on 40 bootstrap samples of a corpus, tracing the 2.5th to 97.5th percentiles. "
   ]
  },
  {
   "cell_type": "code",
   "execution_count": 31,
   "metadata": {
    "collapsed": false
   },
   "outputs": [
    {
     "data": {
      "text/plain": [
       "[0.2169547,\n",
       " 0.37356764,\n",
       " 0.37543947,\n",
       " 0.3982813,\n",
       " 0.40818596,\n",
       " 0.43098342,\n",
       " 0.45750836,\n",
       " 0.4729581,\n",
       " 0.49606565,\n",
       " 0.5220706,\n",
       " 0.52899224,\n",
       " 0.5637557,\n",
       " 0.6569015]"
      ]
     },
     "execution_count": 31,
     "metadata": {},
     "output_type": "execute_result"
    }
   ],
   "source": [
    "estimatesB=[]\n",
    "for x in range(20):\n",
    "    senReleasesW2VB = gensim.models.word2vec.Word2Vec(senReleasesDF['normalized_sents'].sample(frac=1.0, replace=True).sum())\n",
    "    try:\n",
    "        estimatesB.append(cos_difference(senReleasesW2VB, 'war', 'unwinnable')[0,0])\n",
    "    except KeyError:\n",
    "        #Missing one of the words from the vocab\n",
    "        pass\n",
    "                                                      \n",
    "estimatesB.sort()         \n",
    "estimatesB"
   ]
  },
  {
   "cell_type": "code",
   "execution_count": 32,
   "metadata": {
    "collapsed": false
   },
   "outputs": [
    {
     "name": "stdout",
     "output_type": "stream",
     "text": [
      "The 90% confidence interval for the cosine distance between war and unwinnable is:\n",
      " 0.37356764 0.5637557\n"
     ]
    }
   ],
   "source": [
    "print(\"The 90% confidence interval for the cosine distance between war and unwinnable is:\\n\",estimatesB[1], estimatesB[-2])"
   ]
  },
  {
   "cell_type": "markdown",
   "metadata": {},
   "source": [
    "### Subsampling approach"
   ]
  },
  {
   "cell_type": "markdown",
   "metadata": {},
   "source": [
    "If the corpus is large, then we may take a subsampling approach, which randomly partitions the corpus into non-overlapping samples, then estimates the word-embedding models on these subsets and calculates confidence intervals as a function of the empirical distribution of distance or projection statistics and number of texts in the subsample (Politis and Romano 1997). Subsampling requires the same i.i.d. assumption as the bootrap (Politis and Romano 1992; Politis and Romano 1994). For 90% confidence intervals, we randomly partition the corpus into 20 subcorpora, then calculate $B^k=\\sqrt{\\tau_k}\\left(s^k-\\bar{s}\\right)$ for each $k$th sample, where $k$ is the number of texts and $s^k$ is the embedding distance or projection for the $k$th sample, and $\\bar{s}$ is the average statistic for all samples. The 90% confidence interval spans the 5th to 95th percentile variances, inscribed by $\\bar{s}-\\frac{B_{(19)}^k}{\\sqrt{\\tau}}$ and $\\bar{s}-\\frac{B_{(2)}^k}{\\sqrt{\\tau}}$, where $\\tau$ the number of texts in the total corpus and $s$ is the average statistic across all subsamples. As with bootrapping, a 95% confidence interval would require 40 subsamples; a 99% confidence would require 200 (.5th to 99.5th percentiles)."
   ]
  },
  {
   "cell_type": "code",
   "execution_count": 139,
   "metadata": {
    "collapsed": false
   },
   "outputs": [
    {
     "name": "stdout",
     "output_type": "stream",
     "text": [
      "[0.99194902 0.95876276 0.99397326 0.98815084 0.94590795 0.97577226\n",
      " 0.99194419 0.99583137 0.90060079 0.96788305]\n",
      "[405. 401. 389. 384. 422. 352. 405. 399. 376. 371.]\n"
     ]
    }
   ],
   "source": [
    "n_samples = 10\n",
    "sample_indices = np.random.randint(0,n_samples,(len(senReleasesDF),))\n",
    "\n",
    "s_k =np.array([])\n",
    "tau_k=np.array([])\n",
    "\n",
    "for i in range(n_samples):\n",
    "    sample_w2v = gensim.models.word2vec.Word2Vec(senReleasesDF[sample_indices == i]['normalized_sents'].sum())\n",
    "    try:\n",
    "        #Need to use words present in most samples\n",
    "        s_k = np.append(s_k, cos_difference(sample_w2v, 'war', 'responsibility')[0,0])\n",
    "    except KeyError:\n",
    "        pass\n",
    "    else:\n",
    "        tau_k = np.append(tau_k, len(senReleasesDF[sample_indices == i]))\n",
    "\n",
    "print(s_k)\n",
    "print(tau_k)\n",
    "\n",
    "tau = tau_k.sum()\n",
    "s = s_k.mean()\n",
    "B_k = np.sqrt(tau_k) * s_k-s_k.mean()"
   ]
  },
  {
   "cell_type": "code",
   "execution_count": 140,
   "metadata": {
    "collapsed": false
   },
   "outputs": [
    {
     "name": "stdout",
     "output_type": "stream",
     "text": [
      "The 90% confidence interval for the cosine distance between war and responsibility is:\n",
      " 0.7071260051586976 0.6793434082216518\n"
     ]
    }
   ],
   "source": [
    "print(\"The 90% confidence interval for the cosine distance between war and responsibility is:\\n\",s-B_k[-2]/np.sqrt(tau), s-B_k[1]/np.sqrt(tau))"
   ]
  },
  {
   "cell_type": "markdown",
   "metadata": {},
   "source": [
    "We can also save the vectors for later use:"
   ]
  },
  {
   "cell_type": "code",
   "execution_count": 36,
   "metadata": {
    "collapsed": true
   },
   "outputs": [],
   "source": [
    "senReleasesW2V.save(\"senpressreleasesWORD2Vec.mm\")\n",
    "#Load with senReleasesW2V = gensim.models.word2vec.Word2Vec.load('senpressreleasesWORD2Vec.mm')"
   ]
  },
  {
   "cell_type": "markdown",
   "metadata": {},
   "source": [
    "## Visualize"
   ]
  },
  {
   "cell_type": "markdown",
   "metadata": {},
   "source": [
    "We can also use dimension reduction to visulize the vectors. We will start by selecting a subset we want to plot. Let's look at the top words from the set:"
   ]
  },
  {
   "cell_type": "code",
   "execution_count": 37,
   "metadata": {
    "collapsed": true
   },
   "outputs": [],
   "source": [
    "numWords = 150\n",
    "targetWords = senReleasesW2V.wv.index2word[:numWords]"
   ]
  },
  {
   "cell_type": "markdown",
   "metadata": {},
   "source": [
    "We can then extract their vectors and create our own smaller matrix that preserved the distances from the original:"
   ]
  },
  {
   "cell_type": "code",
   "execution_count": 38,
   "metadata": {
    "collapsed": false
   },
   "outputs": [
    {
     "data": {
      "text/plain": [
       "array([[ 0.3777849 ,  0.87496865,  2.0689359 , ...,  2.0689502 ,\n",
       "         0.3220019 ,  0.6179193 ],\n",
       "       [-1.5793123 , -0.5776124 ,  1.1648496 , ..., -1.3696319 ,\n",
       "         1.8711114 , -0.6309839 ],\n",
       "       [ 2.0315065 ,  0.30653602,  0.44131815, ...,  2.516168  ,\n",
       "         1.3728797 ,  1.4435571 ],\n",
       "       ...,\n",
       "       [-2.2403295 , -1.5251727 ,  0.4827413 , ..., -1.4645983 ,\n",
       "        -2.2096786 ,  0.70928687],\n",
       "       [ 0.53037655, -0.7792348 , -1.1864738 , ...,  0.4179504 ,\n",
       "        -0.17344733,  1.2693027 ],\n",
       "       [-0.48476684, -1.1274242 , -1.4650321 , ..., -0.9106411 ,\n",
       "         1.2983727 , -0.35903326]], dtype=float32)"
      ]
     },
     "execution_count": 38,
     "metadata": {},
     "output_type": "execute_result"
    }
   ],
   "source": [
    "wordsSubMatrix = []\n",
    "for word in targetWords:\n",
    "    wordsSubMatrix.append(senReleasesW2V[word])\n",
    "wordsSubMatrix = np.array(wordsSubMatrix)\n",
    "wordsSubMatrix"
   ]
  },
  {
   "cell_type": "markdown",
   "metadata": {},
   "source": [
    "Then we can use PCA to reduce the dimesions (e.g., to 50), and [T-SNE](https://en.wikipedia.org/wiki/T-distributed_stochastic_neighbor_embedding) to project them down to the two we will visualize. We note that this is nondeterministic process, and so you can repeat and achieve alternative projectsions/visualizations of the words:"
   ]
  },
  {
   "cell_type": "code",
   "execution_count": 39,
   "metadata": {
    "collapsed": true
   },
   "outputs": [],
   "source": [
    "pcaWords = sklearn.decomposition.PCA(n_components = 50).fit(wordsSubMatrix)\n",
    "reducedPCA_data = pcaWords.transform(wordsSubMatrix)\n",
    "#T-SNE is theoretically better, but you should experiment\n",
    "tsneWords = sklearn.manifold.TSNE(n_components = 2, early_exaggeration = 25).fit_transform(reducedPCA_data)"
   ]
  },
  {
   "cell_type": "markdown",
   "metadata": {},
   "source": [
    "We now can plot the points"
   ]
  },
  {
   "cell_type": "code",
   "execution_count": 40,
   "metadata": {
    "collapsed": false
   },
   "outputs": [
    {
     "data": {
      "image/png": "[encoded data removed]",
      "text/plain": [
       "<matplotlib.figure.Figure at 0x122689da0>"
      ]
     },
     "metadata": {},
     "output_type": "display_data"
    }
   ],
   "source": [
    "fig = plt.figure(figsize = (15,10))\n",
    "ax = fig.add_subplot(111)\n",
    "ax.set_frame_on(False)\n",
    "plt.scatter(tsneWords[:, 0], tsneWords[:, 1], alpha = 0)#Making the points invisible \n",
    "for i, word in enumerate(targetWords):\n",
    "    ax.annotate(word, \n",
    "                (tsneWords[:, 0][i],tsneWords[:, 1][i]), \n",
    "                size =  20 * (numWords - i) / numWords, \n",
    "                alpha = .8 * (numWords - i) / numWords + .2)\n",
    "plt.xticks(())\n",
    "plt.yticks(())\n",
    "plt.show()"
   ]
  },
  {
   "cell_type": "markdown",
   "metadata": {},
   "source": [
    "My visualization above puts ``iraq`` next to ``time`` and ``bill`` near ``help``. <img src='../data/examplewordcloud.svg'>"
   ]
  },
  {
   "cell_type": "markdown",
   "metadata": {},
   "source": [
    "What if a new senator come along with whose names starts with K? Could we analyse their releases too without rerunning the entire embedding? Lets try with Cardin in `../data/grimmerPressReleases_extra/Cardin`. First we need to load and proccess the releases:"
   ]
  },
  {
   "cell_type": "code",
   "execution_count": 41,
   "metadata": {
    "collapsed": false
   },
   "outputs": [
    {
     "data": {
      "text/html": [
       "<div>\n",
       "<style scoped>\n",
       "    .dataframe tbody tr th:only-of-type {\n",
       "        vertical-align: middle;\n",
       "    }\n",
       "\n",
       "    .dataframe tbody tr th {\n",
       "        vertical-align: top;\n",
       "    }\n",
       "\n",
       "    .dataframe thead th {\n",
       "        text-align: right;\n",
       "    }\n",
       "</style>\n",
       "<table border=\"1\" class=\"dataframe\">\n",
       "  <thead>\n",
       "    <tr style=\"text-align: right;\">\n",
       "      <th></th>\n",
       "      <th>text</th>\n",
       "      <th>category</th>\n",
       "      <th>tokenized_sents</th>\n",
       "      <th>normalized_sents</th>\n",
       "    </tr>\n",
       "  </thead>\n",
       "  <tbody>\n",
       "    <tr>\n",
       "      <th>01Aug2007Cardin156.txt</th>\n",
       "      <td>...</td>\n",
       "      <td>Cardin</td>\n",
       "      <td>[[CARDIN, MIKULSKI, PRAISES, PASSAGE, OF, STRO...</td>\n",
       "      <td>[[cardin, mikulski, praises, passage, strong, ...</td>\n",
       "    </tr>\n",
       "    <tr>\n",
       "      <th>01Feb2007Cardin297.txt</th>\n",
       "      <td>...</td>\n",
       "      <td>Cardin</td>\n",
       "      <td>[[CARDIN, VOTES, TO, INCREASE, MINIMUM, WAGE, ...</td>\n",
       "      <td>[[cardin, votes, increase, minimum, wage, pay,...</td>\n",
       "    </tr>\n",
       "    <tr>\n",
       "      <th>01Feb2007Cardin298.txt</th>\n",
       "      <td>...</td>\n",
       "      <td>Cardin</td>\n",
       "      <td>[[S, 453, SEN, CARDIN, CO, SPONSORS, BILL, TO,...</td>\n",
       "      <td>[[sen, cardin, co, sponsors, bill, protect, vo...</td>\n",
       "    </tr>\n",
       "    <tr>\n",
       "      <th>01Feb2007Cardin299.txt</th>\n",
       "      <td>...</td>\n",
       "      <td>Cardin</td>\n",
       "      <td>[[S, 450, CARDIN, INTRODUCES, BILL, TO, ELIMIN...</td>\n",
       "      <td>[[cardin, introduces, bill, eliminate, arbitra...</td>\n",
       "    </tr>\n",
       "    <tr>\n",
       "      <th>01Jun2007Cardin199.txt</th>\n",
       "      <td>...</td>\n",
       "      <td>Cardin</td>\n",
       "      <td>[[CARDIN, MIKULSKI, ANNOUNCE, 7, 3, MILLION, F...</td>\n",
       "      <td>[[cardin, mikulski, announce, million, hagerst...</td>\n",
       "    </tr>\n",
       "    <tr>\n",
       "      <th>01Jun2007Cardin200.txt</th>\n",
       "      <td>...</td>\n",
       "      <td>Cardin</td>\n",
       "      <td>[[CARDIN, MIKULSKI, ANNOUNCE, 4, 6, MILLION, F...</td>\n",
       "      <td>[[cardin, mikulski, announce, million, salisbu...</td>\n",
       "    </tr>\n",
       "    <tr>\n",
       "      <th>01Mar2007Cardin279.txt</th>\n",
       "      <td>...</td>\n",
       "      <td>Cardin</td>\n",
       "      <td>[[SEN, CARDIN, FIGHTS, TO, IMPROVE, SECURITY, ...</td>\n",
       "      <td>[[sen, cardin, fights, improve, security, amer...</td>\n",
       "    </tr>\n",
       "    <tr>\n",
       "      <th>01Mar2007Cardin280.txt</th>\n",
       "      <td>...</td>\n",
       "      <td>Cardin</td>\n",
       "      <td>[[CARDIN, MIKULSKI, ANNOUNCE, 35, 000, FOR, WE...</td>\n",
       "      <td>[[cardin, mikulski, announce, western, marylan...</td>\n",
       "    </tr>\n",
       "    <tr>\n",
       "      <th>01May2007Cardin228.txt</th>\n",
       "      <td>...</td>\n",
       "      <td>Cardin</td>\n",
       "      <td>[[STATEMENT, BY, U, S, SENATOR, BENJAMIN, L, C...</td>\n",
       "      <td>[[statement, u, senator, benjamin, l, cardin, ...</td>\n",
       "    </tr>\n",
       "    <tr>\n",
       "      <th>01May2007Cardin229.txt</th>\n",
       "      <td>...</td>\n",
       "      <td>Cardin</td>\n",
       "      <td>[[CARDIN, TELLS, THE, AG, COMMITTEE, THAT, THE...</td>\n",
       "      <td>[[cardin, tells, ag, committee, farm, bill, co...</td>\n",
       "    </tr>\n",
       "  </tbody>\n",
       "</table>\n",
       "</div>"
      ],
      "text/plain": [
       "                                                                     text  \\\n",
       "01Aug2007Cardin156.txt                                                ...   \n",
       "01Feb2007Cardin297.txt                                                ...   \n",
       "01Feb2007Cardin298.txt                                                ...   \n",
       "01Feb2007Cardin299.txt                                                ...   \n",
       "01Jun2007Cardin199.txt                                                ...   \n",
       "01Jun2007Cardin200.txt                                                ...   \n",
       "01Mar2007Cardin279.txt                                                ...   \n",
       "01Mar2007Cardin280.txt                                                ...   \n",
       "01May2007Cardin228.txt                                                ...   \n",
       "01May2007Cardin229.txt                                                ...   \n",
       "\n",
       "                       category  \\\n",
       "01Aug2007Cardin156.txt   Cardin   \n",
       "01Feb2007Cardin297.txt   Cardin   \n",
       "01Feb2007Cardin298.txt   Cardin   \n",
       "01Feb2007Cardin299.txt   Cardin   \n",
       "01Jun2007Cardin199.txt   Cardin   \n",
       "01Jun2007Cardin200.txt   Cardin   \n",
       "01Mar2007Cardin279.txt   Cardin   \n",
       "01Mar2007Cardin280.txt   Cardin   \n",
       "01May2007Cardin228.txt   Cardin   \n",
       "01May2007Cardin229.txt   Cardin   \n",
       "\n",
       "                                                          tokenized_sents  \\\n",
       "01Aug2007Cardin156.txt  [[CARDIN, MIKULSKI, PRAISES, PASSAGE, OF, STRO...   \n",
       "01Feb2007Cardin297.txt  [[CARDIN, VOTES, TO, INCREASE, MINIMUM, WAGE, ...   \n",
       "01Feb2007Cardin298.txt  [[S, 453, SEN, CARDIN, CO, SPONSORS, BILL, TO,...   \n",
       "01Feb2007Cardin299.txt  [[S, 450, CARDIN, INTRODUCES, BILL, TO, ELIMIN...   \n",
       "01Jun2007Cardin199.txt  [[CARDIN, MIKULSKI, ANNOUNCE, 7, 3, MILLION, F...   \n",
       "01Jun2007Cardin200.txt  [[CARDIN, MIKULSKI, ANNOUNCE, 4, 6, MILLION, F...   \n",
       "01Mar2007Cardin279.txt  [[SEN, CARDIN, FIGHTS, TO, IMPROVE, SECURITY, ...   \n",
       "01Mar2007Cardin280.txt  [[CARDIN, MIKULSKI, ANNOUNCE, 35, 000, FOR, WE...   \n",
       "01May2007Cardin228.txt  [[STATEMENT, BY, U, S, SENATOR, BENJAMIN, L, C...   \n",
       "01May2007Cardin229.txt  [[CARDIN, TELLS, THE, AG, COMMITTEE, THAT, THE...   \n",
       "\n",
       "                                                         normalized_sents  \n",
       "01Aug2007Cardin156.txt  [[cardin, mikulski, praises, passage, strong, ...  \n",
       "01Feb2007Cardin297.txt  [[cardin, votes, increase, minimum, wage, pay,...  \n",
       "01Feb2007Cardin298.txt  [[sen, cardin, co, sponsors, bill, protect, vo...  \n",
       "01Feb2007Cardin299.txt  [[cardin, introduces, bill, eliminate, arbitra...  \n",
       "01Jun2007Cardin199.txt  [[cardin, mikulski, announce, million, hagerst...  \n",
       "01Jun2007Cardin200.txt  [[cardin, mikulski, announce, million, salisbu...  \n",
       "01Mar2007Cardin279.txt  [[sen, cardin, fights, improve, security, amer...  \n",
       "01Mar2007Cardin280.txt  [[cardin, mikulski, announce, western, marylan...  \n",
       "01May2007Cardin228.txt  [[statement, u, senator, benjamin, l, cardin, ...  \n",
       "01May2007Cardin229.txt  [[cardin, tells, ag, committee, farm, bill, co...  "
      ]
     },
     "execution_count": 41,
     "metadata": {},
     "output_type": "execute_result"
    }
   ],
   "source": [
    "cardinDF = lucem_illud.loadTextDirectory('../data/grimmerPressReleases_extra/Cardin')\n",
    "cardinDF['category'] = 'Cardin'\n",
    "\n",
    "cardinDF['tokenized_sents'] = cardinDF['text'].apply(lambda x: \n",
    "                                                               [nltk.word_tokenize(s) for s in nltk.sent_tokenize(x)])\n",
    "cardinDF['normalized_sents'] = cardinDF['tokenized_sents'].apply(lambda x: \n",
    "                                                                           [lucem_illud.normalizeTokens(s, \n",
    "                                                                                           stopwordLst = lucem_illud.stop_words_basic, \n",
    "                                                                                           stemmer = None) \n",
    "                                                                            for s in x])\n",
    "\n",
    "cardinDF[:10]"
   ]
  },
  {
   "cell_type": "markdown",
   "metadata": {},
   "source": [
    "We can now merge Cardin's releases with the rest. This can update all the weights in *w2v* model, so be careful."
   ]
  },
  {
   "cell_type": "code",
   "execution_count": 42,
   "metadata": {
    "collapsed": true
   },
   "outputs": [],
   "source": [
    "#This is using a newer API so we have to tell it a little bit more for it to work right\n",
    "senReleasesW2V.build_vocab(cardinDF['normalized_sents'].sum(), update=True)\n",
    "senReleasesW2V.train(cardinDF['normalized_sents'].sum(), \n",
    "                     total_examples=senReleasesW2V.corpus_count, \n",
    "                     epochs=senReleasesW2V.iter)\n",
    "senReleasesW2V.save(\"senpressreleasesWORD2Vec_new.mm\")"
   ]
  },
  {
   "cell_type": "markdown",
   "metadata": {},
   "source": [
    "As the model is updated by this, we need to load our old copy to do a comparison."
   ]
  },
  {
   "cell_type": "code",
   "execution_count": 43,
   "metadata": {
    "collapsed": true
   },
   "outputs": [],
   "source": [
    "senReleasesW2V_old = gensim.models.word2vec.Word2Vec.load('senpressreleasesWORD2Vec.mm')"
   ]
  },
  {
   "cell_type": "code",
   "execution_count": 44,
   "metadata": {
    "collapsed": false
   },
   "outputs": [
    {
     "name": "stdout",
     "output_type": "stream",
     "text": [
      "A 100 dimesional vector:\n"
     ]
    },
    {
     "data": {
      "text/plain": [
       "array([ 3.3056014 ,  0.758792  ,  1.5243504 ,  2.4831243 , -2.4748645 ,\n",
       "        0.91773814, -2.60475   , -0.64155287, -1.9403723 , -2.462215  ],\n",
       "      dtype=float32)"
      ]
     },
     "execution_count": 44,
     "metadata": {},
     "output_type": "execute_result"
    }
   ],
   "source": [
    "print(\"A {} dimesional vector:\".format(senReleasesW2V['president'].shape[0]))\n",
    "senReleasesW2V['president'][:10]"
   ]
  },
  {
   "cell_type": "code",
   "execution_count": 45,
   "metadata": {
    "collapsed": false
   },
   "outputs": [
    {
     "name": "stdout",
     "output_type": "stream",
     "text": [
      "A 100 dimesional vector:\n"
     ]
    },
    {
     "data": {
      "text/plain": [
       "array([ 3.5460165 ,  0.41809118,  1.004169  ,  2.3616884 , -2.162185  ,\n",
       "        0.8893318 , -2.7756996 , -0.48604497, -1.5412647 , -2.4820752 ],\n",
       "      dtype=float32)"
      ]
     },
     "execution_count": 45,
     "metadata": {},
     "output_type": "execute_result"
    }
   ],
   "source": [
    "print(\"A {} dimesional vector:\".format(senReleasesW2V_old['president'].shape[0]))\n",
    "senReleasesW2V_old['president'][:10]"
   ]
  },
  {
   "cell_type": "code",
   "execution_count": 46,
   "metadata": {
    "collapsed": false
   },
   "outputs": [
    {
     "data": {
      "text/plain": [
       "array([ 0.2404151 , -0.3407008 , -0.5201814 , -0.12143588,  0.31267953,\n",
       "       -0.02840632, -0.1709497 ,  0.15550789,  0.3991077 , -0.01986027],\n",
       "      dtype=float32)"
      ]
     },
     "execution_count": 46,
     "metadata": {},
     "output_type": "execute_result"
    }
   ],
   "source": [
    "(senReleasesW2V_old['president'] - senReleasesW2V['president'])[:10]"
   ]
  },
  {
   "cell_type": "markdown",
   "metadata": {},
   "source": [
    "As you can see the vector for 'president' has changed a little bit and the word cloud should also be a bit different too"
   ]
  },
  {
   "cell_type": "code",
   "execution_count": 47,
   "metadata": {
    "collapsed": true
   },
   "outputs": [],
   "source": [
    "pcaWords = sklearn.decomposition.PCA(n_components = 50).fit(wordsSubMatrix)\n",
    "reducedPCA_data = pcaWords.transform(wordsSubMatrix)\n",
    "#T-SNE is theoretically better, but you should experiment\n",
    "tsneWords = sklearn.manifold.TSNE(n_components = 2, early_exaggeration = 25).fit_transform(reducedPCA_data)"
   ]
  },
  {
   "cell_type": "code",
   "execution_count": 48,
   "metadata": {
    "collapsed": false
   },
   "outputs": [
    {
     "data": {
      "image/png": "[encoded data removed]",
      "text/plain": [
       "<matplotlib.figure.Figure at 0x124cfe518>"
      ]
     },
     "metadata": {},
     "output_type": "display_data"
    }
   ],
   "source": [
    "fig = plt.figure(figsize = (15,10))\n",
    "ax = fig.add_subplot(111)\n",
    "ax.set_frame_on(False)\n",
    "plt.scatter(tsneWords[:, 0], tsneWords[:, 1], alpha = 0)#Making the points invisible \n",
    "for i, word in enumerate(targetWords):\n",
    "    ax.annotate(word, \n",
    "                (tsneWords[:, 0][i],tsneWords[:, 1][i]), \n",
    "                size =  20 * (numWords - i) / numWords, \n",
    "                alpha = .8 * (numWords - i) / numWords + .2)\n",
    "plt.xticks(())\n",
    "plt.yticks(())\n",
    "plt.show()"
   ]
  },
  {
   "cell_type": "markdown",
   "metadata": {},
   "source": [
    "Another thing to consider in training is how we know that our parameters for the model are correct. We can do this by looking at the training loss of the model. Let's start by training a new model, but this time we will expose most of the options and train it one epoch at a time. Look [here](https://radimrehurek.com/gensim/models/word2vec.html#gensim.models.word2vec.Word2Vec) for more detail: "
   ]
  },
  {
   "cell_type": "code",
   "execution_count": 51,
   "metadata": {
    "collapsed": false
   },
   "outputs": [
    {
     "data": {
      "text/plain": [
       "1942081.5"
      ]
     },
     "execution_count": 51,
     "metadata": {},
     "output_type": "execute_result"
    }
   ],
   "source": [
    "senReleasesW2V_loss = gensim.models.word2vec.Word2Vec(size = 100, #dimensions\n",
    "                                                      alpha=0.025,\n",
    "                                                      window=5,\n",
    "                                                      min_count=5,\n",
    "                                                      hs=0,  #hierarchical softmax toggle\n",
    "                                                      compute_loss = True,\n",
    "                                                     )\n",
    "senReleasesW2V_loss.build_vocab(senReleasesDF['normalized_sents'].sum())\n",
    "senReleasesW2V_loss.train(senReleasesDF['normalized_sents'].sum(), \n",
    "                     total_examples=senReleasesW2V.corpus_count, \n",
    "                     epochs=1, #This the running_training_loss is a total so we have to do 1 epoch at a time\n",
    "                    )\n",
    "#Using a list so we can capture every epoch\n",
    "losses = [senReleasesW2V_loss.running_training_loss]\n",
    "losses[0]"
   ]
  },
  {
   "cell_type": "markdown",
   "metadata": {},
   "source": [
    "Now we have the training loss and can optimize training to minimize it."
   ]
  },
  {
   "cell_type": "code",
   "execution_count": 52,
   "metadata": {
    "collapsed": false
   },
   "outputs": [
    {
     "name": "stdout",
     "output_type": "stream",
     "text": []
    }
   ],
   "source": [
    "for i in range(19):\n",
    "    senReleasesW2V_loss.train(senReleasesDF['normalized_sents'].sum(), \n",
    "                     total_examples=senReleasesW2V.corpus_count, \n",
    "                     epochs=1,\n",
    "                             )\n",
    "    losses.append(senReleasesW2V_loss.running_training_loss)\n",
    "    print(\"Done epoch {}\".format(i + 2), end = '\\r')"
   ]
  },
  {
   "cell_type": "markdown",
   "metadata": {},
   "source": [
    "Lets plot the loss vs epoch"
   ]
  },
  {
   "cell_type": "code",
   "execution_count": 53,
   "metadata": {
    "collapsed": false
   },
   "outputs": [
    {
     "data": {
      "image/png": "[encoded data removed]",
      "text/plain": [
       "<matplotlib.figure.Figure at 0x124f7cf28>"
      ]
     },
     "metadata": {},
     "output_type": "display_data"
    }
   ],
   "source": [
    "lossesDF = pandas.DataFrame({'loss' : losses, 'epoch' : range(len(losses))})\n",
    "lossesDF.plot(y = 'loss', x = 'epoch', logy=False, figsize=(15, 7))\n",
    "plt.show()"
   ]
  },
  {
   "cell_type": "markdown",
   "metadata": {},
   "source": [
    "You should see that the loss is almost monotonic, but that the rate decreases as epoch increases. Since we are testing on our training data monotonicity is a common result and we must try to avoid over fitting. A simple way to do this is to stop training when there is significant change in the rate of decrease. In this run, that looks to be approximately 8 or 9. If we were to do another analysis, we might use an `iter=9` instead of the default 5."
   ]
  },
  {
   "cell_type": "markdown",
   "metadata": {},
   "source": [
    "Even more culturally interesting is how many dimensions are required to achieve an optimal embedding. The use of words in complex ways and contradictory contexts will require more dimensions to represent them with integrity. For example, if one word, $w_a$, is \"nearby\" $w_b$, but $w_b$ is not near the other words beside $w_a$, then a new dimension will be required for the two words to be uniquely together. "
   ]
  },
  {
   "cell_type": "code",
   "execution_count": 54,
   "metadata": {
    "collapsed": false
   },
   "outputs": [],
   "source": [
    "losses_dims=[]\n",
    "\n",
    "for d in [50,100,150,200,250,300,350,400,450,500, 550, 600, 650, 700, 750]:\n",
    "    senReleasesW2V_loss_dims = gensim.models.word2vec.Word2Vec(size = d, #dimensions\n",
    "                                                      alpha=0.025,\n",
    "                                                      window=5,\n",
    "                                                      min_count=5,\n",
    "                                                      hs=0,  #hierarchical softmax toggle\n",
    "                                                      compute_loss = True,\n",
    "                                                     )\n",
    "    senReleasesW2V_loss_dims.build_vocab(senReleasesDF['normalized_sents'].sum())\n",
    "    senReleasesW2V_loss_dims.train(senReleasesDF['normalized_sents'].sum(), \n",
    "                     total_examples=senReleasesW2V.corpus_count, \n",
    "                     epochs=7, #This the running_training_loss is a total so we have to do 1 epoch at a time\n",
    "                    )\n",
    "    senReleasesW2V_loss_dims.train(senReleasesDF['normalized_sents'].sum(), \n",
    "                     total_examples=senReleasesW2V.corpus_count, \n",
    "                     epochs=1, #This the running_training_loss is a total so we have to do 1 epoch at a time\n",
    "                    )\n",
    "    \n",
    "    losses_dims.append(senReleasesW2V_loss_dims.running_training_loss/(10+d*10))"
   ]
  },
  {
   "cell_type": "code",
   "execution_count": 55,
   "metadata": {
    "collapsed": false
   },
   "outputs": [
    {
     "data": {
      "image/png": "[encoded data removed]",
      "text/plain": [
       "<matplotlib.figure.Figure at 0x124f7c1d0>"
      ]
     },
     "metadata": {},
     "output_type": "display_data"
    }
   ],
   "source": [
    "losses_dimsDF = pandas.DataFrame({'loss' : losses_dims, 'dimensions' : [50,100,150,200,250,300,350,400,450,500,550,600,650,700,750]})\n",
    "losses_dimsDF.plot(y = 'loss', x = 'dimensions', logy=False, figsize=(15, 7))\n",
    "plt.show()"
   ]
  },
  {
   "cell_type": "markdown",
   "metadata": {},
   "source": [
    "This is a work in progress for Gensim, but its clear that most of the word distance variation is captured by 300 dimensions."
   ]
  },
  {
   "cell_type": "markdown",
   "metadata": {},
   "source": [
    "# Chinese examples"
   ]
  },
  {
   "cell_type": "code",
   "execution_count": 56,
   "metadata": {
    "collapsed": false
   },
   "outputs": [],
   "source": [
    "model=gensim.models.Word2Vec.load('../data/1992embeddings_hs_new3.sg')"
   ]
  },
  {
   "cell_type": "markdown",
   "metadata": {},
   "source": [
    "## analogy\n",
    "\n",
    "King+man-Queen? A few examples based on a corpus of Chinese news. \n",
    "\n",
    "First, location analogy: **province -> capital**"
   ]
  },
  {
   "cell_type": "code",
   "execution_count": 57,
   "metadata": {
    "collapsed": false
   },
   "outputs": [
    {
     "name": "stdout",
     "output_type": "stream",
     "text": [
      "西安 0.36609965562820435\n",
      "Xi'an\n"
     ]
    }
   ],
   "source": [
    "mm = model.most_similar(positive=[u'长沙',u'陕西'], negative=[u'湖南']) # Changsha + Shaanxi - Hunan\n",
    "for m in mm:\n",
    "    print(m[0],m[1])\n",
    "    print(\"Xi'an\")\n",
    "    break"
   ]
  },
  {
   "cell_type": "code",
   "execution_count": 58,
   "metadata": {
    "collapsed": false
   },
   "outputs": [
    {
     "name": "stdout",
     "output_type": "stream",
     "text": [
      "武汉 0.3677000403404236\n",
      "Wuhan\n"
     ]
    }
   ],
   "source": [
    "mm = model.most_similar(positive=[u'广州',u'湖北'], negative=[u'广东']) # Guangzhou + Hubei - Guangdong\n",
    "for m in mm:\n",
    "    print(m[0],m[1])\n",
    "    print(\"Wuhan\")\n",
    "    break"
   ]
  },
  {
   "cell_type": "markdown",
   "metadata": {},
   "source": [
    "Second, location analogy: **country -> capital**"
   ]
  },
  {
   "cell_type": "code",
   "execution_count": 59,
   "metadata": {
    "collapsed": false
   },
   "outputs": [
    {
     "name": "stdout",
     "output_type": "stream",
     "text": [
      "华盛顿 0.508813738822937\n",
      "(Washington DC)\n"
     ]
    }
   ],
   "source": [
    "mm = model.most_similar(positive=[u'东京',u'美国'], negative=[u'日本']) # Tokyo + US - Japan\n",
    "for m in mm:\n",
    "    print(m[0],m[1])\n",
    "    print(\"(Washington DC)\")\n",
    "    break"
   ]
  },
  {
   "cell_type": "markdown",
   "metadata": {},
   "source": [
    "## similar words"
   ]
  },
  {
   "cell_type": "code",
   "execution_count": 60,
   "metadata": {
    "collapsed": false
   },
   "outputs": [
    {
     "name": "stdout",
     "output_type": "stream",
     "text": [
      "the most similar words to 社会主义 is: \n",
      "特色\n",
      "市场经济\n",
      "理论\n",
      "建设\n",
      "改革开放\n",
      "马克思主义\n",
      "党\n",
      "经济体制\n",
      "基本路线\n",
      "现代化\n",
      "\n"
     ]
    }
   ],
   "source": [
    "word = u'社会主义'  #socialism\n",
    "ss = model.similar_by_word(word,topn=10)\n",
    "print(\"the most similar words to \" + word + \" is: \")\n",
    "for s in ss:\n",
    "    print(s[0])\n",
    "print(\"\")"
   ]
  },
  {
   "cell_type": "code",
   "execution_count": 61,
   "metadata": {
    "collapsed": false
   },
   "outputs": [
    {
     "name": "stdout",
     "output_type": "stream",
     "text": [
      "the most similar words to 玉米 is: \n",
      "小麦\n",
      "水稻\n",
      "作物\n",
      "棉花\n",
      "新品种\n",
      "杂交\n",
      "大豆\n",
      "增产\n",
      "栽培\n",
      "农作物\n",
      "\n"
     ]
    }
   ],
   "source": [
    "word = u'玉米'  # corn\n",
    "ss = model.similar_by_word(word,topn=10)\n",
    "print(\"the most similar words to \" + word + \" is: \")\n",
    "for s in ss:\n",
    "    print(s[0])\n",
    "print(\"\")"
   ]
  },
  {
   "cell_type": "markdown",
   "metadata": {},
   "source": [
    "## <span style=\"color:red\">*Exercise 1*</span>\n",
    "\n",
    "<span style=\"color:red\">Construct cells immediately below this that build a word2vec model with your corpus. Interrogate word relationships in the resulting space, including estimating 90% confidence intervals for specific word cosine distances of interest. Plot a subset of your words. What do these word relationships reveal about the *social* and *cultural game* underlying your corpus? What was surprising--what violated your prior understanding of the corpus? What was expected--what confirmed your knowledge about this domain?"
   ]
  },
  {
   "cell_type": "markdown",
   "metadata": {},
   "source": [
    "Gender stereotyping has been an inherent problem in the entertainment landscape. According to some of the researches conducted by [Geena Davis Institute](https://seejane.org/), female characters who are lucky enough to garner speaking roles tend to be highly stereotyped and the gender inequality on screen has remained largely unchanged and unchecked in the past six decades. To see if we can observe similar patterns by Word Embedding moethods, I collected the plot summaries of American films released from 2007 to 2017. The data is collected from [IMDB](http://www.imdb.com/) and most plot summaries are generated by users but some are from production companies."
   ]
  },
  {
   "cell_type": "code",
   "execution_count": 62,
   "metadata": {
    "collapsed": true
   },
   "outputs": [],
   "source": [
    "np.random.seed(1234)"
   ]
  },
  {
   "cell_type": "code",
   "execution_count": 73,
   "metadata": {
    "collapsed": false
   },
   "outputs": [
    {
     "data": {
      "text/html": [
       "<div>\n",
       "<style scoped>\n",
       "    .dataframe tbody tr th:only-of-type {\n",
       "        vertical-align: middle;\n",
       "    }\n",
       "\n",
       "    .dataframe tbody tr th {\n",
       "        vertical-align: top;\n",
       "    }\n",
       "\n",
       "    .dataframe thead th {\n",
       "        text-align: right;\n",
       "    }\n",
       "</style>\n",
       "<table border=\"1\" class=\"dataframe\">\n",
       "  <thead>\n",
       "    <tr style=\"text-align: right;\">\n",
       "      <th></th>\n",
       "      <th>id</th>\n",
       "      <th>title</th>\n",
       "      <th>year</th>\n",
       "      <th>plot</th>\n",
       "    </tr>\n",
       "  </thead>\n",
       "  <tbody>\n",
       "    <tr>\n",
       "      <th>1500</th>\n",
       "      <td>3973202</td>\n",
       "      <td>Light and the Sufferer</td>\n",
       "      <td>2007</td>\n",
       "      <td>Realism and fantasy collide in Jonathan Lethem...</td>\n",
       "    </tr>\n",
       "    <tr>\n",
       "      <th>1501</th>\n",
       "      <td>3973697</td>\n",
       "      <td>Lights Camera Dead</td>\n",
       "      <td>2007</td>\n",
       "      <td>So you want to make a movie. You tell yourself...</td>\n",
       "    </tr>\n",
       "    <tr>\n",
       "      <th>1502</th>\n",
       "      <td>3974036</td>\n",
       "      <td>Like a Glove</td>\n",
       "      <td>2007</td>\n",
       "      <td>Robin Darjeeling and Mike Jones are two profes...</td>\n",
       "    </tr>\n",
       "    <tr>\n",
       "      <th>1503</th>\n",
       "      <td>3974923</td>\n",
       "      <td>Lily</td>\n",
       "      <td>2007</td>\n",
       "      <td>\"Lily\" is an atmospheric and suspenseful tale ...</td>\n",
       "    </tr>\n",
       "    <tr>\n",
       "      <th>1504</th>\n",
       "      <td>3975135</td>\n",
       "      <td>Limbo</td>\n",
       "      <td>2007</td>\n",
       "      <td>Small stories mix to paint a vivid picture of ...</td>\n",
       "    </tr>\n",
       "    <tr>\n",
       "      <th>1505</th>\n",
       "      <td>3975681</td>\n",
       "      <td>Linda, as in Beautiful</td>\n",
       "      <td>2007</td>\n",
       "      <td>Linda was born into a family of children durin...</td>\n",
       "    </tr>\n",
       "    <tr>\n",
       "      <th>1506</th>\n",
       "      <td>3976248</td>\n",
       "      <td>Linus</td>\n",
       "      <td>2007</td>\n",
       "      <td>During a typical morning in New York's East Vi...</td>\n",
       "    </tr>\n",
       "    <tr>\n",
       "      <th>1507</th>\n",
       "      <td>3976451</td>\n",
       "      <td>Lions for Lambs</td>\n",
       "      <td>2007</td>\n",
       "      <td>Three stories told simultaneous in ninety minu...</td>\n",
       "    </tr>\n",
       "    <tr>\n",
       "      <th>1508</th>\n",
       "      <td>3976468</td>\n",
       "      <td>Lions' Den</td>\n",
       "      <td>2007</td>\n",
       "      <td>A group of old friends are hanging at one of t...</td>\n",
       "    </tr>\n",
       "    <tr>\n",
       "      <th>1509</th>\n",
       "      <td>3976905</td>\n",
       "      <td>Lisa's Last Chance</td>\n",
       "      <td>2007</td>\n",
       "      <td>Lisa, a troubled young woman plagued by strang...</td>\n",
       "    </tr>\n",
       "  </tbody>\n",
       "</table>\n",
       "</div>"
      ],
      "text/plain": [
       "           id                   title  year  \\\n",
       "1500  3973202  Light and the Sufferer  2007   \n",
       "1501  3973697      Lights Camera Dead  2007   \n",
       "1502  3974036            Like a Glove  2007   \n",
       "1503  3974923                    Lily  2007   \n",
       "1504  3975135                   Limbo  2007   \n",
       "1505  3975681  Linda, as in Beautiful  2007   \n",
       "1506  3976248                   Linus  2007   \n",
       "1507  3976451         Lions for Lambs  2007   \n",
       "1508  3976468              Lions' Den  2007   \n",
       "1509  3976905      Lisa's Last Chance  2007   \n",
       "\n",
       "                                                   plot  \n",
       "1500  Realism and fantasy collide in Jonathan Lethem...  \n",
       "1501  So you want to make a movie. You tell yourself...  \n",
       "1502  Robin Darjeeling and Mike Jones are two profes...  \n",
       "1503  \"Lily\" is an atmospheric and suspenseful tale ...  \n",
       "1504  Small stories mix to paint a vivid picture of ...  \n",
       "1505  Linda was born into a family of children durin...  \n",
       "1506  During a typical morning in New York's East Vi...  \n",
       "1507  Three stories told simultaneous in ninety minu...  \n",
       "1508  A group of old friends are hanging at one of t...  \n",
       "1509  Lisa, a troubled young woman plagued by strang...  "
      ]
     },
     "execution_count": 73,
     "metadata": {},
     "output_type": "execute_result"
    }
   ],
   "source": [
    "plot = pandas.read_csv('plot.csv')\n",
    "plot[1500:1510]"
   ]
  },
  {
   "cell_type": "code",
   "execution_count": 74,
   "metadata": {
    "collapsed": false
   },
   "outputs": [
    {
     "data": {
      "text/html": [
       "<div>\n",
       "<style scoped>\n",
       "    .dataframe tbody tr th:only-of-type {\n",
       "        vertical-align: middle;\n",
       "    }\n",
       "\n",
       "    .dataframe tbody tr th {\n",
       "        vertical-align: top;\n",
       "    }\n",
       "\n",
       "    .dataframe thead th {\n",
       "        text-align: right;\n",
       "    }\n",
       "</style>\n",
       "<table border=\"1\" class=\"dataframe\">\n",
       "  <thead>\n",
       "    <tr style=\"text-align: right;\">\n",
       "      <th></th>\n",
       "      <th>id</th>\n",
       "      <th>title</th>\n",
       "      <th>year</th>\n",
       "      <th>plot</th>\n",
       "      <th>tokenized_sents</th>\n",
       "      <th>normalized_sents</th>\n",
       "    </tr>\n",
       "  </thead>\n",
       "  <tbody>\n",
       "    <tr>\n",
       "      <th>1500</th>\n",
       "      <td>3973202</td>\n",
       "      <td>Light and the Sufferer</td>\n",
       "      <td>2007</td>\n",
       "      <td>Realism and fantasy collide in Jonathan Lethem...</td>\n",
       "      <td>[[Realism, and, fantasy, collide, in, Jonathan...</td>\n",
       "      <td>[[realism, fantasy, collide, jonathan, lethem,...</td>\n",
       "    </tr>\n",
       "    <tr>\n",
       "      <th>1501</th>\n",
       "      <td>3973697</td>\n",
       "      <td>Lights Camera Dead</td>\n",
       "      <td>2007</td>\n",
       "      <td>So you want to make a movie. You tell yourself...</td>\n",
       "      <td>[[So, you, want, to, make, a, movie, .], [You,...</td>\n",
       "      <td>[[want, make, movie], [tell, time, time, write...</td>\n",
       "    </tr>\n",
       "    <tr>\n",
       "      <th>1502</th>\n",
       "      <td>3974036</td>\n",
       "      <td>Like a Glove</td>\n",
       "      <td>2007</td>\n",
       "      <td>Robin Darjeeling and Mike Jones are two profes...</td>\n",
       "      <td>[[Robin, Darjeeling, and, Mike, Jones, are, tw...</td>\n",
       "      <td>[[robin, darjeeling, mike, jones, two, profess...</td>\n",
       "    </tr>\n",
       "    <tr>\n",
       "      <th>1503</th>\n",
       "      <td>3974923</td>\n",
       "      <td>Lily</td>\n",
       "      <td>2007</td>\n",
       "      <td>\"Lily\" is an atmospheric and suspenseful tale ...</td>\n",
       "      <td>[[``, Lily, '', is, an, atmospheric, and, susp...</td>\n",
       "      <td>[[lily, atmospheric, suspenseful, tale, love, ...</td>\n",
       "    </tr>\n",
       "    <tr>\n",
       "      <th>1504</th>\n",
       "      <td>3975135</td>\n",
       "      <td>Limbo</td>\n",
       "      <td>2007</td>\n",
       "      <td>Small stories mix to paint a vivid picture of ...</td>\n",
       "      <td>[[Small, stories, mix, to, paint, a, vivid, pi...</td>\n",
       "      <td>[[small, stories, mix, paint, vivid, picture, ...</td>\n",
       "    </tr>\n",
       "    <tr>\n",
       "      <th>1505</th>\n",
       "      <td>3975681</td>\n",
       "      <td>Linda, as in Beautiful</td>\n",
       "      <td>2007</td>\n",
       "      <td>Linda was born into a family of children durin...</td>\n",
       "      <td>[[Linda, was, born, into, a, family, of, child...</td>\n",
       "      <td>[[linda, born, family, children, early], [watc...</td>\n",
       "    </tr>\n",
       "    <tr>\n",
       "      <th>1506</th>\n",
       "      <td>3976248</td>\n",
       "      <td>Linus</td>\n",
       "      <td>2007</td>\n",
       "      <td>During a typical morning in New York's East Vi...</td>\n",
       "      <td>[[During, a, typical, morning, in, New, York, ...</td>\n",
       "      <td>[[typical, morning, new, york, east, village, ...</td>\n",
       "    </tr>\n",
       "    <tr>\n",
       "      <th>1507</th>\n",
       "      <td>3976451</td>\n",
       "      <td>Lions for Lambs</td>\n",
       "      <td>2007</td>\n",
       "      <td>Three stories told simultaneous in ninety minu...</td>\n",
       "      <td>[[Three, stories, told, simultaneous, in, nine...</td>\n",
       "      <td>[[three, stories, told, simultaneous, ninety, ...</td>\n",
       "    </tr>\n",
       "    <tr>\n",
       "      <th>1508</th>\n",
       "      <td>3976468</td>\n",
       "      <td>Lions' Den</td>\n",
       "      <td>2007</td>\n",
       "      <td>A group of old friends are hanging at one of t...</td>\n",
       "      <td>[[A, group, of, old, friends, are, hanging, at...</td>\n",
       "      <td>[[group, old, friends, hanging, one, houses, e...</td>\n",
       "    </tr>\n",
       "    <tr>\n",
       "      <th>1509</th>\n",
       "      <td>3976905</td>\n",
       "      <td>Lisa's Last Chance</td>\n",
       "      <td>2007</td>\n",
       "      <td>Lisa, a troubled young woman plagued by strang...</td>\n",
       "      <td>[[Lisa, ,, a, troubled, young, woman, plagued,...</td>\n",
       "      <td>[[lisa, troubled, young, woman, plagued, stran...</td>\n",
       "    </tr>\n",
       "  </tbody>\n",
       "</table>\n",
       "</div>"
      ],
      "text/plain": [
       "           id                   title  year  \\\n",
       "1500  3973202  Light and the Sufferer  2007   \n",
       "1501  3973697      Lights Camera Dead  2007   \n",
       "1502  3974036            Like a Glove  2007   \n",
       "1503  3974923                    Lily  2007   \n",
       "1504  3975135                   Limbo  2007   \n",
       "1505  3975681  Linda, as in Beautiful  2007   \n",
       "1506  3976248                   Linus  2007   \n",
       "1507  3976451         Lions for Lambs  2007   \n",
       "1508  3976468              Lions' Den  2007   \n",
       "1509  3976905      Lisa's Last Chance  2007   \n",
       "\n",
       "                                                   plot  \\\n",
       "1500  Realism and fantasy collide in Jonathan Lethem...   \n",
       "1501  So you want to make a movie. You tell yourself...   \n",
       "1502  Robin Darjeeling and Mike Jones are two profes...   \n",
       "1503  \"Lily\" is an atmospheric and suspenseful tale ...   \n",
       "1504  Small stories mix to paint a vivid picture of ...   \n",
       "1505  Linda was born into a family of children durin...   \n",
       "1506  During a typical morning in New York's East Vi...   \n",
       "1507  Three stories told simultaneous in ninety minu...   \n",
       "1508  A group of old friends are hanging at one of t...   \n",
       "1509  Lisa, a troubled young woman plagued by strang...   \n",
       "\n",
       "                                        tokenized_sents  \\\n",
       "1500  [[Realism, and, fantasy, collide, in, Jonathan...   \n",
       "1501  [[So, you, want, to, make, a, movie, .], [You,...   \n",
       "1502  [[Robin, Darjeeling, and, Mike, Jones, are, tw...   \n",
       "1503  [[``, Lily, '', is, an, atmospheric, and, susp...   \n",
       "1504  [[Small, stories, mix, to, paint, a, vivid, pi...   \n",
       "1505  [[Linda, was, born, into, a, family, of, child...   \n",
       "1506  [[During, a, typical, morning, in, New, York, ...   \n",
       "1507  [[Three, stories, told, simultaneous, in, nine...   \n",
       "1508  [[A, group, of, old, friends, are, hanging, at...   \n",
       "1509  [[Lisa, ,, a, troubled, young, woman, plagued,...   \n",
       "\n",
       "                                       normalized_sents  \n",
       "1500  [[realism, fantasy, collide, jonathan, lethem,...  \n",
       "1501  [[want, make, movie], [tell, time, time, write...  \n",
       "1502  [[robin, darjeeling, mike, jones, two, profess...  \n",
       "1503  [[lily, atmospheric, suspenseful, tale, love, ...  \n",
       "1504  [[small, stories, mix, paint, vivid, picture, ...  \n",
       "1505  [[linda, born, family, children, early], [watc...  \n",
       "1506  [[typical, morning, new, york, east, village, ...  \n",
       "1507  [[three, stories, told, simultaneous, ninety, ...  \n",
       "1508  [[group, old, friends, hanging, one, houses, e...  \n",
       "1509  [[lisa, troubled, young, woman, plagued, stran...  "
      ]
     },
     "execution_count": 74,
     "metadata": {},
     "output_type": "execute_result"
    }
   ],
   "source": [
    "# Tokenize text, remove stop words and stem\n",
    "plot['tokenized_sents'] = plot['plot'].apply(lambda x: [nltk.word_tokenize(s) for s in nltk.sent_tokenize(x)])\n",
    "stopwords = list(set(lucem_illud.stop_words_basic) - set(['he', 'him', 'his', 'himself', 'she', \"she's\", 'her', 'hers', 'herself']))\n",
    "plot['normalized_sents'] = plot['tokenized_sents'].apply(lambda x: [lucem_illud.normalizeTokens(s, \n",
    "                                                                                                stopwordLst = stopwords, \n",
    "                                                                                                stemmer = None)\n",
    "                                                         for s in x])\n",
    "\n",
    "plot[1500:1510]"
   ]
  },
  {
   "cell_type": "code",
   "execution_count": 75,
   "metadata": {
    "collapsed": true
   },
   "outputs": [],
   "source": [
    "# Add the words as a list of sentences\n",
    "plot_sents = plot['normalized_sents'].sum()"
   ]
  },
  {
   "cell_type": "code",
   "execution_count": 78,
   "metadata": {
    "collapsed": true
   },
   "outputs": [],
   "source": [
    "# Build a word2vec model\n",
    "plotW2V = gensim.models.word2vec.Word2Vec(plot_sents)"
   ]
  },
  {
   "cell_type": "code",
   "execution_count": 354,
   "metadata": {
    "collapsed": true
   },
   "outputs": [],
   "source": [
    "# Save the vectors\n",
    "plotW2V.save(\"plotW2V.mm\")"
   ]
  },
  {
   "cell_type": "markdown",
   "metadata": {},
   "source": [
    "Let's explore some of the word relationships in the resulting space and see if there are some gender inequality issues present."
   ]
  },
  {
   "cell_type": "code",
   "execution_count": 86,
   "metadata": {
    "collapsed": false
   },
   "outputs": [
    {
     "data": {
      "text/plain": [
       "[('instead', 0.6085127592086792),\n",
       " ('someone', 0.5890056490898132),\n",
       " ('she', 0.5815449953079224),\n",
       " ('his', 0.569932758808136),\n",
       " ('finally', 0.5628989934921265),\n",
       " ('nobody', 0.554957926273346),\n",
       " ('jack', 0.5401062965393066),\n",
       " ('him', 0.5286221504211426),\n",
       " ('anyone', 0.5272783041000366),\n",
       " ('everybody', 0.5133979320526123)]"
      ]
     },
     "execution_count": 86,
     "metadata": {},
     "output_type": "execute_result"
    }
   ],
   "source": [
    "plotW2V.most_similar('he')"
   ]
  },
  {
   "cell_type": "code",
   "execution_count": 87,
   "metadata": {
    "collapsed": false
   },
   "outputs": [
    {
     "data": {
      "text/plain": [
       "[('her', 0.7073326110839844),\n",
       " ('herself', 0.6499477624893188),\n",
       " ('he', 0.5815451145172119),\n",
       " ('alice', 0.5804457664489746),\n",
       " ('instead', 0.5671901702880859),\n",
       " ('someone', 0.5542104244232178),\n",
       " ('sara', 0.5259395837783813),\n",
       " ('finally', 0.5211862921714783),\n",
       " ('boyfriend', 0.5089362859725952),\n",
       " ('lena', 0.5065207481384277)]"
      ]
     },
     "execution_count": 87,
     "metadata": {},
     "output_type": "execute_result"
    }
   ],
   "source": [
    "plotW2V.most_similar('she')"
   ]
  },
  {
   "cell_type": "markdown",
   "metadata": {},
   "source": [
    "It seems that \"she\" cares more about \"herself\" than \"he\" about \"himself\", which indicates that woman on screen are more self-conscious and sensitive than man. \"he\" is similar to \"someone\", \"nobody\", \"anyone\", \"everybody\", while \"she\" is only similar to \"someone\", which indicates that \"he\" is a more general pronoun for human while \"she\" is different from the crowd."
   ]
  },
  {
   "cell_type": "code",
   "execution_count": 89,
   "metadata": {
    "collapsed": false
   },
   "outputs": [
    {
     "data": {
      "text/plain": [
       "[('woman', 0.6458396911621094),\n",
       " ('boy', 0.6187288761138916),\n",
       " ('person', 0.5790902972221375),\n",
       " ('girl', 0.5190879106521606),\n",
       " ('teenager', 0.5146135687828064),\n",
       " ('guy', 0.5091687440872192),\n",
       " ('men', 0.5067042112350464),\n",
       " ('stranger', 0.4958260655403137),\n",
       " ('lady', 0.48096174001693726),\n",
       " ('drifter', 0.47911590337753296)]"
      ]
     },
     "execution_count": 89,
     "metadata": {},
     "output_type": "execute_result"
    }
   ],
   "source": [
    "plotW2V.most_similar('man')"
   ]
  },
  {
   "cell_type": "code",
   "execution_count": 90,
   "metadata": {
    "collapsed": false
   },
   "outputs": [
    {
     "data": {
      "text/plain": [
       "[('girl', 0.7411398887634277),\n",
       " ('lady', 0.661726713180542),\n",
       " ('man', 0.6458396315574646),\n",
       " ('teenager', 0.623715877532959),\n",
       " ('couple', 0.6063103675842285),\n",
       " ('stranger', 0.5848336815834045),\n",
       " ('person', 0.5827443599700928),\n",
       " ('prostitute', 0.579747200012207),\n",
       " ('daughter', 0.5614525079727173),\n",
       " ('boy', 0.5585840940475464)]"
      ]
     },
     "execution_count": 90,
     "metadata": {},
     "output_type": "execute_result"
    }
   ],
   "source": [
    "plotW2V.most_similar('woman')"
   ]
  },
  {
   "cell_type": "markdown",
   "metadata": {},
   "source": [
    "\"woman\" is most similar to \"man\" but other than \"man\", \"girl\" and \"lady\" are more similar to \"woman\", which indicates that \"man\" is more a representative of humans without specification of gender, while \"woman\" is a gendered concept. \"woman\" is similar to \"couple\" and \"daughter\" while \"man\" is not that similar to \"couple\" or \"son\", indicating that woman on screen is more often involved in a relationship or a family than man. \"prostitute\" is quite similar to \"woman\", which indicates the frequency of appearance of prostitutes in movies and the blemish of image of woman."
   ]
  },
  {
   "cell_type": "code",
   "execution_count": 91,
   "metadata": {
    "collapsed": false
   },
   "outputs": [
    {
     "data": {
      "text/plain": [
       "[('whatever', 0.5918275713920593),\n",
       " ('instead', 0.5756446719169617),\n",
       " ('someone', 0.5702896118164062),\n",
       " ('mistake', 0.5494906902313232),\n",
       " ('wo', 0.5472674369812012),\n",
       " ('pills', 0.5385191440582275),\n",
       " ('medication', 0.5357375144958496),\n",
       " ('unless', 0.5319199562072754),\n",
       " ('he', 0.5286222696304321),\n",
       " ('matters', 0.5188770294189453)]"
      ]
     },
     "execution_count": 91,
     "metadata": {},
     "output_type": "execute_result"
    }
   ],
   "source": [
    "plotW2V.most_similar('him')"
   ]
  },
  {
   "cell_type": "code",
   "execution_count": 94,
   "metadata": {
    "collapsed": false
   },
   "outputs": [
    {
     "data": {
      "text/plain": [
       "[('he', 0.5699328184127808),\n",
       " ('him', 0.465472549200058),\n",
       " ('himself', 0.4553268849849701),\n",
       " ('jack', 0.44671985507011414),\n",
       " ('sam', 0.44433414936065674),\n",
       " ('jake', 0.43917417526245117),\n",
       " ('bury', 0.4374714493751526),\n",
       " ('eli', 0.43217700719833374),\n",
       " ('reconnect', 0.42257601022720337),\n",
       " ('deceased', 0.4203745126724243)]"
      ]
     },
     "execution_count": 94,
     "metadata": {},
     "output_type": "execute_result"
    }
   ],
   "source": [
    "plotW2V.most_similar('his')"
   ]
  },
  {
   "cell_type": "code",
   "execution_count": 92,
   "metadata": {
    "collapsed": false
   },
   "outputs": [
    {
     "data": {
      "text/plain": [
       "[('she', 0.7073326110839844),\n",
       " ('herself', 0.6318990588188171),\n",
       " ('alice', 0.5626062154769897),\n",
       " ('abusive', 0.5358874797821045),\n",
       " ('baby', 0.5334232449531555),\n",
       " ('maggie', 0.5249161124229431),\n",
       " ('sara', 0.5214846134185791),\n",
       " ('angela', 0.5014844536781311),\n",
       " ('emily', 0.4996299147605896),\n",
       " ('sarah', 0.49897897243499756)]"
      ]
     },
     "execution_count": 92,
     "metadata": {},
     "output_type": "execute_result"
    }
   ],
   "source": [
    "plotW2V.most_similar('her')"
   ]
  },
  {
   "cell_type": "markdown",
   "metadata": {},
   "source": [
    "\"her\" is similar to a couple of female names, while \"him\" or \"his\" is not that similar to male names besides \"jack\" and \"jake\", which indicates a strong reinforced image of woman wrapped in certain names. \"her\" is similar to \"abusive\", indicating an general abusive image of woman on screen."
   ]
  },
  {
   "cell_type": "code",
   "execution_count": 95,
   "metadata": {
    "collapsed": false
   },
   "outputs": [
    {
     "data": {
      "text/plain": [
       "[('solace', 0.5979607105255127),\n",
       " ('herself', 0.5464167594909668),\n",
       " ('francoise', 0.5152555704116821),\n",
       " ('instead', 0.5026633143424988),\n",
       " ('he', 0.4853353500366211),\n",
       " ('jack', 0.474569171667099),\n",
       " ('his', 0.4553268849849701),\n",
       " ('suddenly', 0.44609034061431885),\n",
       " ('reason', 0.4419957995414734),\n",
       " ('comfort', 0.4344431459903717)]"
      ]
     },
     "execution_count": 95,
     "metadata": {},
     "output_type": "execute_result"
    }
   ],
   "source": [
    "plotW2V.most_similar('himself')"
   ]
  },
  {
   "cell_type": "code",
   "execution_count": 96,
   "metadata": {
    "collapsed": false
   },
   "outputs": [
    {
     "data": {
      "text/plain": [
       "[('solace', 0.6840775012969971),\n",
       " ('she', 0.6499477624893188),\n",
       " ('her', 0.6318990588188171),\n",
       " ('comfort', 0.6177746057510376),\n",
       " ('instead', 0.5584439039230347),\n",
       " ('himself', 0.5464167594909668),\n",
       " ('companionship', 0.5183465480804443),\n",
       " ('alice', 0.508037805557251),\n",
       " ('padrig', 0.5059424638748169),\n",
       " ('francoise', 0.500732421875)]"
      ]
     },
     "execution_count": 96,
     "metadata": {},
     "output_type": "execute_result"
    }
   ],
   "source": [
    "plotW2V.most_similar('herself')"
   ]
  },
  {
   "cell_type": "markdown",
   "metadata": {},
   "source": [
    "\"solace\" and \"comfort\" is more similar to \"herself\" than \"himself\", indicating that woman on screen are more tender."
   ]
  },
  {
   "cell_type": "code",
   "execution_count": 97,
   "metadata": {
    "collapsed": false
   },
   "outputs": [
    {
     "data": {
      "text/plain": [
       "[('boyfriend', 0.8161592483520508),\n",
       " ('fiancé', 0.8130121231079102),\n",
       " ('lover', 0.7965005040168762),\n",
       " ('fiance', 0.789196252822876),\n",
       " ('mother', 0.7875567674636841),\n",
       " ('daughter', 0.7702010869979858),\n",
       " ('grandmother', 0.7454313635826111),\n",
       " ('mom', 0.7361323237419128),\n",
       " ('stepfather', 0.7230997681617737),\n",
       " ('aunt', 0.7230936884880066)]"
      ]
     },
     "execution_count": 97,
     "metadata": {},
     "output_type": "execute_result"
    }
   ],
   "source": [
    "plotW2V.most_similar('husband')"
   ]
  },
  {
   "cell_type": "code",
   "execution_count": 98,
   "metadata": {
    "collapsed": false
   },
   "outputs": [
    {
     "data": {
      "text/plain": [
       "[('girlfriend', 0.8411237001419067),\n",
       " ('fiancée', 0.7939515113830566),\n",
       " ('father', 0.7736597061157227),\n",
       " ('fiancé', 0.7606573104858398),\n",
       " ('fiance', 0.7377289533615112),\n",
       " ('daughter', 0.7364429235458374),\n",
       " ('mother', 0.7180256843566895),\n",
       " ('mom', 0.7142801284790039),\n",
       " ('lover', 0.7087486386299133),\n",
       " ('cousin', 0.7082852125167847)]"
      ]
     },
     "execution_count": 98,
     "metadata": {},
     "output_type": "execute_result"
    }
   ],
   "source": [
    "plotW2V.most_similar('wife')"
   ]
  },
  {
   "cell_type": "markdown",
   "metadata": {},
   "source": [
    "Both \"husband\" and \"wife\" is about relationship and family, but it is interesting to observe that \"father\" is not that similar to \"husband\", which indicates that the depiction of \"husband\" is more about relationship than in a family setting."
   ]
  },
  {
   "cell_type": "code",
   "execution_count": 141,
   "metadata": {
    "collapsed": false
   },
   "outputs": [
    {
     "name": "stdout",
     "output_type": "stream",
     "text": [
      "nurse-woman: 0.5216533\n",
      "nurse-man: 0.24287237\n",
      "doctor-woman: 0.37489873\n",
      "doctor-man: 0.33185697\n",
      "professor-woman: 0.10604274\n",
      "professor-man: 0.08980471\n",
      "scientist-woman: 0.21684948\n",
      "scientist-man: 0.31676695\n",
      "lawyer-woman: 0.3548103\n",
      "lawyer-man: 0.3242365\n",
      "business-woman: -0.091811225\n",
      "business-man: 0.056392286\n",
      "driver-woman: 0.26924303\n",
      "driver-man: 0.35800377\n"
     ]
    }
   ],
   "source": [
    "print('nurse-woman:', cos_difference(plotW2V, 'nurse', 'woman')[0][0])\n",
    "print('nurse-man:', cos_difference(plotW2V, 'nurse', 'man')[0][0])\n",
    "print('doctor-woman:', cos_difference(plotW2V, 'doctor', 'woman')[0][0])\n",
    "print('doctor-man:', cos_difference(plotW2V, 'doctor', 'man')[0][0])\n",
    "print('professor-woman:', cos_difference(plotW2V, 'professor', 'woman')[0][0])\n",
    "print('professor-man:', cos_difference(plotW2V, 'professor', 'man')[0][0])\n",
    "print('scientist-woman:', cos_difference(plotW2V, 'scientist', 'woman')[0][0])\n",
    "print('scientist-man:', cos_difference(plotW2V, 'scientist', 'man')[0][0])\n",
    "print('lawyer-woman:', cos_difference(plotW2V, 'lawyer', 'woman')[0][0])\n",
    "print('lawyer-man:', cos_difference(plotW2V, 'lawyer', 'man')[0][0])\n",
    "print('business-woman:', cos_difference(plotW2V, 'business', 'woman')[0][0])\n",
    "print('business-man:', cos_difference(plotW2V, 'business', 'man')[0][0])\n",
    "print('driver-woman:', cos_difference(plotW2V, 'driver', 'woman')[0][0])\n",
    "print('driver-man:', cos_difference(plotW2V, 'driver', 'man')[0][0])"
   ]
  },
  {
   "cell_type": "markdown",
   "metadata": {},
   "source": [
    "As we can see, there are occupations much more similar to woman, such as nurse, and occupations much more similar to man, such as scientist, business man, driver. Thus there are some stereotypes about gendered occupational roles, and it should be more informative if we can spend the time to test all kinds of occupations."
   ]
  },
  {
   "cell_type": "code",
   "execution_count": 350,
   "metadata": {
    "collapsed": true
   },
   "outputs": [],
   "source": [
    "def find_90CI_cos_difference(word1, word2, DF = plot):\n",
    "    n_samples = 20\n",
    "    sample_indices = np.random.randint(0, n_samples, (len(DF),))\n",
    "\n",
    "    s_k = np.array([])\n",
    "    tau_k = np.array([])\n",
    "\n",
    "    for i in range(n_samples):\n",
    "        sample_w2v = gensim.models.word2vec.Word2Vec(DF[sample_indices == i]['normalized_sents'].sum())\n",
    "        try:\n",
    "            #Need to use words present in most samples\n",
    "            s_k = np.append(s_k, cos_difference(sample_w2v, word1, word2)[0,0])\n",
    "        except KeyError:\n",
    "            pass\n",
    "        else:\n",
    "            tau_k = np.append(tau_k, len(DF[sample_indices == i]))\n",
    "\n",
    "    tau = tau_k.sum()\n",
    "    s = s_k.mean()\n",
    "    B_k = np.sqrt(tau_k) * s_k-s_k.mean()\n",
    "    \n",
    "    lower_bound = s-B_k[-2]/np.sqrt(tau)\n",
    "    upper_bound = s-B_k[1]/np.sqrt(tau)\n",
    "    \n",
    "    return lower_bound, upper_bound"
   ]
  },
  {
   "cell_type": "code",
   "execution_count": 352,
   "metadata": {
    "collapsed": false
   },
   "outputs": [
    {
     "name": "stdout",
     "output_type": "stream",
     "text": [
      "90% CI for the cosine distance between nurse and woman: (0.7813126974882679, 0.7803432102997452)\n",
      "90% CI for the cosine distance between nurse and man: (0.7683583684009107, 0.7682686291835636)\n",
      "90% CI for the cosine distance between scientist and woman: (0.7800115856629135, 0.7806169627100262)\n",
      "90% CI for the cosine distance between scientist and man: (0.7769829998783837, 0.7766485451688094)\n",
      "90% CI for the cosine distance between business and woman: (0.7784905804415064, 0.7838516133228843)\n",
      "90% CI for the cosine distance between business and man: (0.7837498786020937, 0.7813891491588552)\n",
      "90% CI for the cosine distance between driver and woman: (0.779596305895819, 0.7816733418439475)\n",
      "90% CI for the cosine distance between driver and man: (0.7785253119821081, 0.7837448447557789)\n"
     ]
    }
   ],
   "source": [
    "print('90% CI for the cosine distance between nurse and woman:', find_90CI_cos_difference('nurse', 'woman', plot))\n",
    "print('90% CI for the cosine distance between nurse and man:', find_90CI_cos_difference('nurse', 'man', plot))\n",
    "print('90% CI for the cosine distance between scientist and woman:', find_90CI_cos_difference('scientist', 'woman', plot))\n",
    "print('90% CI for the cosine distance between scientist and man:', find_90CI_cos_difference('scientist', 'man', plot))\n",
    "print('90% CI for the cosine distance between business and woman:', find_90CI_cos_difference('business', 'woman', plot))\n",
    "print('90% CI for the cosine distance between business and man:', find_90CI_cos_difference('business', 'man', plot))\n",
    "print('90% CI for the cosine distance between driver and woman:', find_90CI_cos_difference('driver', 'woman', plot))\n",
    "print('90% CI for the cosine distance between driver and man:', find_90CI_cos_difference('driver', 'man', plot))"
   ]
  },
  {
   "cell_type": "markdown",
   "metadata": {},
   "source": [
    "It does not make sense that the CIs are so far away from the cos differences that we computed above and so similar to each other. Maybe there are something wrong with the smaple code."
   ]
  },
  {
   "cell_type": "code",
   "execution_count": 148,
   "metadata": {
    "collapsed": false
   },
   "outputs": [
    {
     "data": {
      "text/plain": [
       "[('smart', 0.7316969633102417),\n",
       " ('confident', 0.708824872970581),\n",
       " ('cute', 0.7006365060806274),\n",
       " ('attractive', 0.7005586624145508),\n",
       " ('attracted', 0.6736495494842529),\n",
       " ('charming', 0.6581969857215881),\n",
       " ('jenny', 0.656886100769043),\n",
       " ('nice', 0.634893536567688),\n",
       " ('hair', 0.6335693001747131),\n",
       " ('sweet', 0.6329323053359985)]"
      ]
     },
     "execution_count": 148,
     "metadata": {},
     "output_type": "execute_result"
    }
   ],
   "source": [
    "plotW2V.most_similar(positive=['woman', 'pretty'], negative = ['man'])"
   ]
  },
  {
   "cell_type": "markdown",
   "metadata": {},
   "source": [
    "Woman wants \"pretty\" and man wants \"smart\". This sounds so typically stereotyped that woman cares about appearance and man cares about intelligence."
   ]
  },
  {
   "cell_type": "code",
   "execution_count": 153,
   "metadata": {
    "collapsed": false
   },
   "outputs": [
    {
     "data": {
      "text/plain": [
       "[('grace', 0.6206032037734985),\n",
       " ('romance', 0.5628785490989685),\n",
       " ('joy', 0.5246058702468872),\n",
       " ('affection', 0.507367730140686),\n",
       " ('friendship', 0.4848850965499878),\n",
       " ('feelings', 0.4826497435569763),\n",
       " ('longing', 0.4672941267490387),\n",
       " ('mutual', 0.4534757733345032),\n",
       " ('acceptance', 0.4533383846282959),\n",
       " ('romantic', 0.44798439741134644)]"
      ]
     },
     "execution_count": 153,
     "metadata": {},
     "output_type": "execute_result"
    }
   ],
   "source": [
    "plotW2V.most_similar(positive=['woman', 'love'], negative = ['man'])"
   ]
  },
  {
   "cell_type": "markdown",
   "metadata": {},
   "source": [
    "Woman wants \"love\" and man wants \"grace\". This indicates that woman is more into love, emotion and feelings, while man is more into grace, pride, and esteem."
   ]
  },
  {
   "cell_type": "code",
   "execution_count": 154,
   "metadata": {
    "collapsed": true
   },
   "outputs": [],
   "source": [
    "# visualize\n",
    "numWords = 150\n",
    "targetWords = plotW2V.wv.index2word[:numWords]\n",
    "\n",
    "wordsSubMatrix = []\n",
    "for word in targetWords:\n",
    "    wordsSubMatrix.append(plotW2V[word])\n",
    "wordsSubMatrix = np.array(wordsSubMatrix)"
   ]
  },
  {
   "cell_type": "code",
   "execution_count": 159,
   "metadata": {
    "collapsed": true
   },
   "outputs": [],
   "source": [
    "pcaWords = sklearn.decomposition.PCA(n_components = 50).fit(wordsSubMatrix)\n",
    "reducedPCA_data = pcaWords.transform(wordsSubMatrix)\n",
    "tsneWords = sklearn.manifold.TSNE(n_components = 2, early_exaggeration = 25).fit_transform(reducedPCA_data)"
   ]
  },
  {
   "cell_type": "code",
   "execution_count": 160,
   "metadata": {
    "collapsed": false
   },
   "outputs": [
    {
     "data": {
      "image/png": "[encoded data removed]",
      "text/plain": [
       "<matplotlib.figure.Figure at 0x1712bb9e8>"
      ]
     },
     "metadata": {},
     "output_type": "display_data"
    }
   ],
   "source": [
    "fig = plt.figure(figsize = (15,10))\n",
    "ax = fig.add_subplot(111)\n",
    "ax.set_frame_on(False)\n",
    "plt.scatter(tsneWords[:, 0], tsneWords[:, 1], alpha = 0)# Making the points invisible \n",
    "for i, word in enumerate(targetWords):\n",
    "    ax.annotate(word, \n",
    "                (tsneWords[:, 0][i],tsneWords[:, 1][i]), \n",
    "                size =  20 * (numWords - i) / numWords, \n",
    "                alpha = .8 * (numWords - i) / numWords + .2)\n",
    "plt.xticks(())\n",
    "plt.yticks(())\n",
    "plt.show()"
   ]
  },
  {
   "cell_type": "markdown",
   "metadata": {},
   "source": [
    "It is interesting to see how \"her\" is close to \"home\", \"family\", \"friends\", and \"she\" close to \"love\", which emphasizes the image of woman in family settings instead of in employment settings."
   ]
  },
  {
   "cell_type": "markdown",
   "metadata": {},
   "source": [
    "Based on the above analysis, we found many stereotyped images of woman on screen and it seems a topic that can be pursued further."
   ]
  },
  {
   "cell_type": "markdown",
   "metadata": {},
   "source": [
    "# Doc2Vec"
   ]
  },
  {
   "cell_type": "markdown",
   "metadata": {
    "collapsed": true
   },
   "source": [
    "Instead of just looking at just how words embed within in the space, we can look at how the different documents relate to each other within the space. First lets load our data--abstracts of most U.S. physics papers from the 1950s."
   ]
  },
  {
   "cell_type": "code",
   "execution_count": 161,
   "metadata": {
    "collapsed": false
   },
   "outputs": [
    {
     "data": {
      "text/html": [
       "<div>\n",
       "<style scoped>\n",
       "    .dataframe tbody tr th:only-of-type {\n",
       "        vertical-align: middle;\n",
       "    }\n",
       "\n",
       "    .dataframe tbody tr th {\n",
       "        vertical-align: top;\n",
       "    }\n",
       "\n",
       "    .dataframe thead th {\n",
       "        text-align: right;\n",
       "    }\n",
       "</style>\n",
       "<table border=\"1\" class=\"dataframe\">\n",
       "  <thead>\n",
       "    <tr style=\"text-align: right;\">\n",
       "      <th></th>\n",
       "      <th>copyrightYear</th>\n",
       "      <th>doi</th>\n",
       "      <th>abstract</th>\n",
       "    </tr>\n",
       "  </thead>\n",
       "  <tbody>\n",
       "    <tr>\n",
       "      <th>0</th>\n",
       "      <td>1950</td>\n",
       "      <td>10.1103/RevModPhys.22.221</td>\n",
       "      <td>A summarizing account is given of the research...</td>\n",
       "    </tr>\n",
       "    <tr>\n",
       "      <th>1</th>\n",
       "      <td>1951</td>\n",
       "      <td>10.1103/RevModPhys.23.147</td>\n",
       "      <td>New tables of coulomb functions are presented ...</td>\n",
       "    </tr>\n",
       "    <tr>\n",
       "      <th>2</th>\n",
       "      <td>1951</td>\n",
       "      <td>10.1103/RevModPhys.23.185</td>\n",
       "      <td>Ionization by electron impact in diatomic gase...</td>\n",
       "    </tr>\n",
       "    <tr>\n",
       "      <th>3</th>\n",
       "      <td>1951</td>\n",
       "      <td>10.1103/RevModPhys.23.203</td>\n",
       "      <td>It is shown that the conductivity in the ohmic...</td>\n",
       "    </tr>\n",
       "    <tr>\n",
       "      <th>4</th>\n",
       "      <td>1951</td>\n",
       "      <td>10.1103/RevModPhys.23.21</td>\n",
       "      <td>The factorization method is an operational pro...</td>\n",
       "    </tr>\n",
       "    <tr>\n",
       "      <th>5</th>\n",
       "      <td>1951</td>\n",
       "      <td>10.1103/RevModPhys.23.311</td>\n",
       "      <td>A brief account is given of Dyson's proof of t...</td>\n",
       "    </tr>\n",
       "    <tr>\n",
       "      <th>6</th>\n",
       "      <td>1951</td>\n",
       "      <td>10.1103/RevModPhys.23.315</td>\n",
       "      <td>A systematics is given of all transitions for ...</td>\n",
       "    </tr>\n",
       "    <tr>\n",
       "      <th>7</th>\n",
       "      <td>1951</td>\n",
       "      <td>10.1103/RevModPhys.23.322</td>\n",
       "      <td>A systematics of the -transitions of even A nu...</td>\n",
       "    </tr>\n",
       "    <tr>\n",
       "      <th>8</th>\n",
       "      <td>1951</td>\n",
       "      <td>10.1103/RevModPhys.23.328</td>\n",
       "      <td>The available experiments on the absorption sp...</td>\n",
       "    </tr>\n",
       "    <tr>\n",
       "      <th>9</th>\n",
       "      <td>1952</td>\n",
       "      <td>10.1103/RevModPhys.24.108</td>\n",
       "      <td>The classical theory of the dynamics of viscou...</td>\n",
       "    </tr>\n",
       "  </tbody>\n",
       "</table>\n",
       "</div>"
      ],
      "text/plain": [
       "   copyrightYear                        doi  \\\n",
       "0           1950  10.1103/RevModPhys.22.221   \n",
       "1           1951  10.1103/RevModPhys.23.147   \n",
       "2           1951  10.1103/RevModPhys.23.185   \n",
       "3           1951  10.1103/RevModPhys.23.203   \n",
       "4           1951   10.1103/RevModPhys.23.21   \n",
       "5           1951  10.1103/RevModPhys.23.311   \n",
       "6           1951  10.1103/RevModPhys.23.315   \n",
       "7           1951  10.1103/RevModPhys.23.322   \n",
       "8           1951  10.1103/RevModPhys.23.328   \n",
       "9           1952  10.1103/RevModPhys.24.108   \n",
       "\n",
       "                                            abstract  \n",
       "0  A summarizing account is given of the research...  \n",
       "1  New tables of coulomb functions are presented ...  \n",
       "2  Ionization by electron impact in diatomic gase...  \n",
       "3  It is shown that the conductivity in the ohmic...  \n",
       "4  The factorization method is an operational pro...  \n",
       "5  A brief account is given of Dyson's proof of t...  \n",
       "6  A systematics is given of all transitions for ...  \n",
       "7  A systematics of the -transitions of even A nu...  \n",
       "8  The available experiments on the absorption sp...  \n",
       "9  The classical theory of the dynamics of viscou...  "
      ]
     },
     "execution_count": 161,
     "metadata": {},
     "output_type": "execute_result"
    }
   ],
   "source": [
    "apsDF = pandas.read_csv('../data/APSabstracts1950s.csv', index_col = 0)\n",
    "apsDF[:10]"
   ]
  },
  {
   "cell_type": "markdown",
   "metadata": {},
   "source": [
    "We will load these as documents into Word2Vec, but first we need to normalize and pick some tags"
   ]
  },
  {
   "cell_type": "code",
   "execution_count": 162,
   "metadata": {
    "collapsed": true
   },
   "outputs": [],
   "source": [
    "keywords = ['photomagnetoelectric', 'quantum', 'boltzmann', 'proton', 'positron', 'feynman', 'classical', 'relativity']"
   ]
  },
  {
   "cell_type": "code",
   "execution_count": 163,
   "metadata": {
    "collapsed": true
   },
   "outputs": [],
   "source": [
    "apsDF['tokenized_words'] = apsDF['abstract'].apply(lambda x: nltk.word_tokenize(x))\n",
    "apsDF['normalized_words'] = apsDF['tokenized_words'].apply(lambda x: lucem_illud.normalizeTokens(x, stopwordLst = lucem_illud.stop_words_basic, stemmer = None))"
   ]
  },
  {
   "cell_type": "code",
   "execution_count": 164,
   "metadata": {
    "collapsed": true
   },
   "outputs": [],
   "source": [
    "taggedDocs = []\n",
    "for index, row in apsDF.iterrows():\n",
    "    #Just doing a simple keyword assignment\n",
    "    docKeywords = [s for s in keywords if s in row['normalized_words']]\n",
    "    docKeywords.append(row['copyrightYear'])\n",
    "    docKeywords.append(row['doi']) #This lets us extract individual documnets since doi's are unique\n",
    "    taggedDocs.append(gensim.models.doc2vec.LabeledSentence(words = row['normalized_words'], tags = docKeywords))\n",
    "apsDF['TaggedAbstracts'] = taggedDocs"
   ]
  },
  {
   "cell_type": "code",
   "execution_count": 184,
   "metadata": {
    "collapsed": false
   },
   "outputs": [
    {
     "data": {
      "text/plain": [
       "LabeledSentence(words=['present', 'theories', 'magnetization', 'based', 'largely', 'energy', 'formulas', 'incomplete', 'rely', 'calculation', 'magnetization', 'work', 'absence', 'strain', 'strain', 'work', 'absence', 'magnetization', 'present', 'paper', 'summarizes', 'relates', 'magnetization', 'theory', 'calculation', 'already', 'published', 'elsewhere', 'magnetization', 'strain', 'assumed', 'start', 'present', 'simultaneously', 'furthermore', 'forces', 'calculated', 'directly', 'without', 'use', 'energy', 'arguments', 'properties', 'special', 'materials', 'considered', 'important', 'result', 'separation', 'force', 'part', 'body', 'magnetic', 'force', 'force', 'derivable', 'stresses', 'accomplished', 'one', 'way', 'theory', 'confirms', 'traditional', 'results', 'fluids', 'elastic', 'solids', 'yields', 'terms', 'present', 'formulas', 'traditional', 'theory', 'terms', 'may', 'important', 'magnetization', 'process', 'uniformly', 'magnetized', 'ellipsoid', 'lead', 'nonuniform', 'magnetostriction', 'form', 'effect', 'mean', 'strain', 'equal', 'strain', 'calculated', 'becker'], tags=[1953, '10.1103/RevModPhys.25.131'])"
      ]
     },
     "execution_count": 184,
     "metadata": {},
     "output_type": "execute_result"
    }
   ],
   "source": [
    "apsDF.TaggedAbstracts[18]"
   ]
  },
  {
   "cell_type": "markdown",
   "metadata": {},
   "source": [
    "Now we can train a Doc2Vec model:"
   ]
  },
  {
   "cell_type": "code",
   "execution_count": 167,
   "metadata": {
    "collapsed": true
   },
   "outputs": [],
   "source": [
    "apsD2V = gensim.models.doc2vec.Doc2Vec(apsDF['TaggedAbstracts'], size = 100) #Limiting to 100 dimensions"
   ]
  },
  {
   "cell_type": "markdown",
   "metadata": {},
   "source": [
    "We can get vectors for the tags/documents, just as we did with words. Documents are actually the centroids (high dimensional average points) of their words. "
   ]
  },
  {
   "cell_type": "code",
   "execution_count": 168,
   "metadata": {
    "collapsed": false,
    "scrolled": true
   },
   "outputs": [
    {
     "data": {
      "text/plain": [
       "array([ 1.5430495 , -1.1213387 ,  0.15285268, -0.39002323,  1.0230573 ,\n",
       "       -0.10800017,  0.57866997,  0.03636144,  0.4273172 ,  0.6378815 ,\n",
       "        1.1939092 ,  0.61656696,  0.6352726 , -0.37839428, -0.30618185,\n",
       "       -0.4312941 ,  0.54573095, -1.089156  ,  0.67077875,  0.408222  ,\n",
       "        0.28288737, -0.12707768, -0.14647943, -0.77206385,  0.87747365,\n",
       "        0.713388  ,  0.30491444, -1.0459838 ,  0.11171173, -1.7560887 ,\n",
       "       -2.1046238 , -0.16680725,  1.6474398 , -0.7637604 , -0.09005821,\n",
       "       -1.0453063 , -0.02653909, -0.8002394 , -1.115936  ,  0.85199463,\n",
       "       -1.7312446 , -1.6085752 ,  1.6053569 ,  0.17943548, -1.0860788 ,\n",
       "        0.8319337 , -0.48872912,  0.21198131,  1.3282292 ,  1.3757097 ,\n",
       "       -1.3149499 ,  0.5931777 , -0.5268895 , -1.8339082 , -0.49347448,\n",
       "        0.6865628 , -0.42478094,  0.41794285,  0.54458606,  0.06772465,\n",
       "        0.13571897,  0.0062857 ,  0.19448689,  0.39119762, -1.4427335 ,\n",
       "        0.00663377, -0.28902426,  1.8568753 ,  0.26398593, -0.33469817,\n",
       "        0.7776708 ,  0.66730255, -0.6382444 , -0.19067617, -0.87010616,\n",
       "       -1.1719325 ,  1.6980189 ,  0.46222407,  0.3400549 ,  0.9967443 ,\n",
       "        0.81911516,  1.461664  , -0.60373354,  1.951273  ,  0.00394477,\n",
       "       -0.11713183,  0.79401565,  1.2107052 ,  0.51699793, -0.5603326 ,\n",
       "       -1.2734401 ,  0.6911489 ,  0.2180177 , -1.8482733 ,  0.0368472 ,\n",
       "       -0.4158173 ,  0.30227372, -0.7477692 , -0.2064949 ,  1.5756286 ],\n",
       "      dtype=float32)"
      ]
     },
     "execution_count": 168,
     "metadata": {},
     "output_type": "execute_result"
    }
   ],
   "source": [
    "apsD2V.docvecs[1952]"
   ]
  },
  {
   "cell_type": "markdown",
   "metadata": {},
   "source": [
    "The words can still be accessed in the same way:"
   ]
  },
  {
   "cell_type": "code",
   "execution_count": 169,
   "metadata": {
    "collapsed": false
   },
   "outputs": [
    {
     "data": {
      "text/plain": [
       "array([ 0.26804438, -1.1337256 ,  0.05869593, -0.08727724,  1.154145  ,\n",
       "        0.825849  ,  0.00878443, -0.3377676 , -0.15234873,  0.41776657,\n",
       "        0.41871747,  0.6526781 ,  0.7833653 ,  0.44951537,  0.525193  ,\n",
       "        0.27496713,  0.95756227, -0.4134003 ,  0.20612502, -0.40033638,\n",
       "        0.18765527, -0.51245475, -0.2929659 , -0.14372171, -0.03596746,\n",
       "       -0.20018685,  0.3767332 , -1.0946081 ,  0.29958418, -0.30440682,\n",
       "       -1.0615867 ,  0.03930689,  0.2845377 , -0.28362057, -0.20347212,\n",
       "       -0.39629787,  0.36581412, -0.7826284 , -0.14799017, -0.46392962,\n",
       "        0.17059726, -0.48918152,  0.8560931 ,  0.60965097,  0.21482529,\n",
       "       -0.38712832,  0.596635  ,  1.1878642 , -0.08068628, -0.20658463,\n",
       "       -0.5507061 ,  0.08456516, -0.3546545 , -0.12091089, -0.03145595,\n",
       "        0.29284135, -0.71749294, -0.72402036,  0.24508992, -0.64128923,\n",
       "        1.1303077 ,  0.4754942 , -0.03998147,  0.7992742 , -0.1695591 ,\n",
       "       -0.7068051 ,  0.6384714 ,  0.46791866, -0.0121365 ,  0.30989906,\n",
       "        0.50452965,  0.20624399, -1.3307078 , -0.26562274,  0.01279508,\n",
       "        0.14521903,  0.7299004 ,  0.9308354 , -0.22607732,  0.180429  ,\n",
       "        0.2838069 ,  1.322253  ,  0.23264958,  0.20082864,  0.03589926,\n",
       "       -1.1116433 ,  0.25868896,  0.46456254,  0.43156707,  0.02710519,\n",
       "       -0.20399535,  0.16707645, -0.5492226 ,  0.37504715, -0.58115846,\n",
       "       -0.8177873 , -0.07717595, -0.09861753, -0.4559619 ,  0.41405272],\n",
       "      dtype=float32)"
      ]
     },
     "execution_count": 169,
     "metadata": {},
     "output_type": "execute_result"
    }
   ],
   "source": [
    "apsD2V['atom']"
   ]
  },
  {
   "cell_type": "markdown",
   "metadata": {},
   "source": [
    "We can still use the ``most_similar`` command to perform simple semantic equations:"
   ]
  },
  {
   "cell_type": "code",
   "execution_count": 170,
   "metadata": {
    "collapsed": false
   },
   "outputs": [
    {
     "data": {
      "text/plain": [
       "[('atoms', 0.8002512454986572)]"
      ]
     },
     "execution_count": 170,
     "metadata": {},
     "output_type": "execute_result"
    }
   ],
   "source": [
    "apsD2V.most_similar(positive = ['atom','electrons'], negative = ['electron'], topn = 1)"
   ]
  },
  {
   "cell_type": "markdown",
   "metadata": {},
   "source": [
    "This is interesting. **Electron** is to **electrons** as **atom** is to **atoms**. Another way to understand this, developed below is: **electrons - electron** induces a singular to plural dimension, so when we subtract **electron** from **atom** and add **electrons**, we get **atoms**! "
   ]
  },
  {
   "cell_type": "code",
   "execution_count": 171,
   "metadata": {
    "collapsed": false
   },
   "outputs": [
    {
     "data": {
      "text/plain": [
       "[('distortions', 0.9484764337539673)]"
      ]
     },
     "execution_count": 171,
     "metadata": {},
     "output_type": "execute_result"
    }
   ],
   "source": [
    "apsD2V.most_similar(positive = ['einstein','law'], negative = ['equation'], topn = 1)"
   ]
  },
  {
   "cell_type": "markdown",
   "metadata": {},
   "source": [
    "In other words **Einstein** minus **equation** plus **law** equals **Meissner**--Walthur Meissner studied mechanical engineering and physics ... and was more likely to produce a \"law\" than a \"equation\", like the Meissner effect, the damping of the magnetic field in superconductors. If we built our word-embedding with a bigger corpus like the entire arXiv, a massive repository of physics preprints, we would see many more such relationships like **gravity - Newton + Einstein = relativity**."
   ]
  },
  {
   "cell_type": "markdown",
   "metadata": {},
   "source": [
    "We can also compute all of these *by hand*--explicitly wth vector algebra: "
   ]
  },
  {
   "cell_type": "code",
   "execution_count": 172,
   "metadata": {
    "collapsed": false
   },
   "outputs": [
    {
     "data": {
      "text/plain": [
       "array([[0.6025014]], dtype=float32)"
      ]
     },
     "execution_count": 172,
     "metadata": {},
     "output_type": "execute_result"
    }
   ],
   "source": [
    "sklearn.metrics.pairwise.cosine_similarity(apsD2V['electron'].reshape(1,-1), apsD2V['positron'].reshape(1,-1))\n",
    "#We reorient the vectors with .reshape(1, -1) so that they can be computed without a warning in sklearn"
   ]
  },
  {
   "cell_type": "markdown",
   "metadata": {},
   "source": [
    "In the doc2vec model, the documents have vectors just as the words do, so that we can compare documents with each other and also with words (similar to how a search engine locates a webpage with a query). First, we will calculate the distance between a word and documents in the dataset:"
   ]
  },
  {
   "cell_type": "code",
   "execution_count": 173,
   "metadata": {
    "collapsed": false
   },
   "outputs": [
    {
     "data": {
      "text/plain": [
       "[('10.1103/PhysRev.112.812', 0.6446165442466736),\n",
       " ('10.1103/PhysRev.98.1584', 0.6360435485839844),\n",
       " ('10.1103/PhysRev.103.1202', 0.6264927983283997),\n",
       " ('10.1103/PhysRev.95.897', 0.6211022138595581),\n",
       " ('10.1103/PhysRev.86.41', 0.5981184840202332)]"
      ]
     },
     "execution_count": 173,
     "metadata": {},
     "output_type": "execute_result"
    }
   ],
   "source": [
    "apsD2V.docvecs.most_similar([ apsD2V['electron'] ], topn=5 )"
   ]
  },
  {
   "cell_type": "markdown",
   "metadata": {},
   "source": [
    "If we search for the first of these on the web (these are doi codes), we find the following...a pretty good match:\n",
    "<img src='../data/PhysRev.98.875.jpg'>"
   ]
  },
  {
   "cell_type": "markdown",
   "metadata": {},
   "source": [
    "Now let's go the other way around and find words most similar to this document:"
   ]
  },
  {
   "cell_type": "code",
   "execution_count": 174,
   "metadata": {
    "collapsed": false
   },
   "outputs": [
    {
     "data": {
      "text/plain": [
       "[('amount', 0.7062056660652161),\n",
       " ('equal', 0.696540355682373),\n",
       " ('less', 0.6922513246536255),\n",
       " ('times', 0.6882939338684082),\n",
       " ('per', 0.6851367354393005)]"
      ]
     },
     "execution_count": 174,
     "metadata": {},
     "output_type": "execute_result"
    }
   ],
   "source": [
    "apsD2V.most_similar( [ apsD2V.docvecs['10.1103/PhysRev.98.875'] ], topn=5) "
   ]
  },
  {
   "cell_type": "markdown",
   "metadata": {},
   "source": [
    "We can even look for documents most like a query composed of multiple words:"
   ]
  },
  {
   "cell_type": "code",
   "execution_count": 175,
   "metadata": {
    "collapsed": false
   },
   "outputs": [
    {
     "data": {
      "text/plain": [
       "[('10.1103/PhysRev.105.204', 0.7992915511131287),\n",
       " ('10.1103/PhysRev.89.1165', 0.7963807582855225),\n",
       " ('10.1103/PhysRev.109.1193', 0.7810815572738647),\n",
       " ('10.1103/PhysRev.105.1014', 0.7768859267234802),\n",
       " ('10.1103/PhysRev.85.461', 0.774574875831604)]"
      ]
     },
     "execution_count": 175,
     "metadata": {},
     "output_type": "execute_result"
    }
   ],
   "source": [
    "apsD2V.docvecs.most_similar([ apsD2V['electron']+apsD2V['positron']+apsD2V['neutron']], topn=5 )"
   ]
  },
  {
   "cell_type": "markdown",
   "metadata": {},
   "source": [
    "Now let's plot some words and documents against one another with a heatmap:"
   ]
  },
  {
   "cell_type": "code",
   "execution_count": 176,
   "metadata": {
    "collapsed": true
   },
   "outputs": [],
   "source": [
    "heatmapMatrix = []\n",
    "for tagOuter in keywords:\n",
    "    column = []\n",
    "    tagVec = apsD2V.docvecs[tagOuter].reshape(1, -1)\n",
    "    for tagInner in keywords:\n",
    "        column.append(sklearn.metrics.pairwise.cosine_similarity(tagVec, apsD2V.docvecs[tagInner].reshape(1, -1))[0][0])\n",
    "    heatmapMatrix.append(column)\n",
    "heatmapMatrix = np.array(heatmapMatrix)"
   ]
  },
  {
   "cell_type": "code",
   "execution_count": 177,
   "metadata": {
    "collapsed": false
   },
   "outputs": [
    {
     "data": {
      "image/png": "[encoded data removed]",
      "text/plain": [
       "<matplotlib.figure.Figure at 0x1778ee2e8>"
      ]
     },
     "metadata": {},
     "output_type": "display_data"
    }
   ],
   "source": [
    "fig, ax = plt.subplots()\n",
    "hmap = ax.pcolor(heatmapMatrix, cmap='terrain')\n",
    "cbar = plt.colorbar(hmap)\n",
    "\n",
    "cbar.set_label('cosine similarity', rotation=270)\n",
    "a = ax.set_xticks(np.arange(heatmapMatrix.shape[1]) + 0.5, minor=False)\n",
    "a = ax.set_yticks(np.arange(heatmapMatrix.shape[0]) + 0.5, minor=False)\n",
    "\n",
    "a = ax.set_xticklabels(keywords, minor=False, rotation=270)\n",
    "a = ax.set_yticklabels(keywords, minor=False)"
   ]
  },
  {
   "cell_type": "markdown",
   "metadata": {},
   "source": [
    "Now let's look at a heatmap of similarities between the first ten documents in the corpus:"
   ]
  },
  {
   "cell_type": "code",
   "execution_count": 178,
   "metadata": {
    "collapsed": true
   },
   "outputs": [],
   "source": [
    "targetDocs = apsDF['doi'][:10]\n",
    "\n",
    "heatmapMatrixD = []\n",
    "\n",
    "for tagOuter in targetDocs:\n",
    "    column = []\n",
    "    tagVec = apsD2V.docvecs[tagOuter].reshape(1, -1)\n",
    "    for tagInner in targetDocs:\n",
    "        column.append(sklearn.metrics.pairwise.cosine_similarity(tagVec, apsD2V.docvecs[tagInner].reshape(1, -1))[0][0])\n",
    "    heatmapMatrixD.append(column)\n",
    "heatmapMatrixD = np.array(heatmapMatrixD)"
   ]
  },
  {
   "cell_type": "code",
   "execution_count": 179,
   "metadata": {
    "collapsed": false
   },
   "outputs": [
    {
     "data": {
      "image/png": "[encoded data removed]",
      "text/plain": [
       "<matplotlib.figure.Figure at 0x1779f0908>"
      ]
     },
     "metadata": {},
     "output_type": "display_data"
    }
   ],
   "source": [
    "fig, ax = plt.subplots()\n",
    "hmap = ax.pcolor(heatmapMatrixD, cmap='terrain')\n",
    "cbar = plt.colorbar(hmap)\n",
    "\n",
    "cbar.set_label('cosine similarity', rotation=270)\n",
    "a = ax.set_xticks(np.arange(heatmapMatrixD.shape[1]) + 0.5, minor=False)\n",
    "a = ax.set_yticks(np.arange(heatmapMatrixD.shape[0]) + 0.5, minor=False)\n",
    "\n",
    "a = ax.set_xticklabels(targetDocs, minor=False, rotation=270)\n",
    "a = ax.set_yticklabels(targetDocs, minor=False)"
   ]
  },
  {
   "cell_type": "markdown",
   "metadata": {},
   "source": [
    "Now let's look at a heatmap of similarities between the first ten documents and our keywords:"
   ]
  },
  {
   "cell_type": "code",
   "execution_count": 180,
   "metadata": {
    "collapsed": true
   },
   "outputs": [],
   "source": [
    "heatmapMatrixC = []\n",
    "\n",
    "for tagOuter in targetDocs:\n",
    "    column = []\n",
    "    tagVec = apsD2V.docvecs[tagOuter].reshape(1, -1)\n",
    "    for tagInner in keywords:\n",
    "        column.append(sklearn.metrics.pairwise.cosine_similarity(tagVec, apsD2V.docvecs[tagInner].reshape(1, -1))[0][0])\n",
    "    heatmapMatrixC.append(column)\n",
    "heatmapMatrixC = np.array(heatmapMatrixC)"
   ]
  },
  {
   "cell_type": "code",
   "execution_count": 181,
   "metadata": {
    "collapsed": false
   },
   "outputs": [
    {
     "data": {
      "image/png": "[encoded data removed]",
      "text/plain": [
       "<matplotlib.figure.Figure at 0x1779e6780>"
      ]
     },
     "metadata": {},
     "output_type": "display_data"
    }
   ],
   "source": [
    "fig, ax = plt.subplots()\n",
    "hmap = ax.pcolor(heatmapMatrixC, cmap='terrain')\n",
    "cbar = plt.colorbar(hmap)\n",
    "\n",
    "cbar.set_label('cosine similarity', rotation=270)\n",
    "a = ax.set_xticks(np.arange(heatmapMatrixC.shape[1]) + 0.5, minor=False)\n",
    "a = ax.set_yticks(np.arange(heatmapMatrixC.shape[0]) + 0.5, minor=False)\n",
    "\n",
    "a = ax.set_xticklabels(keywords, minor=False, rotation=270)\n",
    "a = ax.set_yticklabels(targetDocs, minor=False)"
   ]
  },
  {
   "cell_type": "markdown",
   "metadata": {},
   "source": [
    "We will save the model in case we would like to use it again."
   ]
  },
  {
   "cell_type": "code",
   "execution_count": 182,
   "metadata": {
    "collapsed": true
   },
   "outputs": [],
   "source": [
    "apsD2V.save('apsW2V')"
   ]
  },
  {
   "cell_type": "markdown",
   "metadata": {},
   "source": [
    "We can later load it:"
   ]
  },
  {
   "cell_type": "code",
   "execution_count": 183,
   "metadata": {
    "collapsed": true
   },
   "outputs": [],
   "source": [
    "#apsD2V = gensim.models.word2vec.Word2Vec.load('data/apsW2V')"
   ]
  },
  {
   "cell_type": "markdown",
   "metadata": {},
   "source": [
    "## <span style=\"color:red\">*Exercise 2*</span>\n",
    "\n",
    "<span style=\"color:red\">Construct cells immediately below this that build a doc2vec model with your corpus. Interrogate document and word relationships in the resulting space. Construct a heatmap that plots the distances between a subset of your documents against each other, and against a set of informative words. Find distances between *every* document in your corpus and a word or query of interest. What do these doc-doc proximities reveal about your corpus? What do these word-doc proximities highlight? Demonstrate and document one reasonable way to select a defensible subset of query-relevant documents for subsequent analysis."
   ]
  },
  {
   "cell_type": "code",
   "execution_count": 185,
   "metadata": {
    "collapsed": true
   },
   "outputs": [],
   "source": [
    "keywords = ['family', 'romance', 'affair', 'business', 'horror', 'superhero', 'war', 'fashion']"
   ]
  },
  {
   "cell_type": "code",
   "execution_count": 189,
   "metadata": {
    "collapsed": true
   },
   "outputs": [],
   "source": [
    "plot['tokenized_words'] = plot['plot'].apply(lambda x: nltk.word_tokenize(x))\n",
    "plot['normalized_words'] = plot['tokenized_words'].apply(lambda x: lucem_illud.normalizeTokens(x, stopwordLst = stopwords, stemmer = None))"
   ]
  },
  {
   "cell_type": "code",
   "execution_count": 220,
   "metadata": {
    "collapsed": false
   },
   "outputs": [],
   "source": [
    "taggedDocs = []\n",
    "for index, row in plot.iterrows():\n",
    "    docKeywords = [s for s in keywords if s in row['normalized_words']]\n",
    "    docKeywords.append(row['year'])\n",
    "    docKeywords.append(row['title'])\n",
    "    taggedDocs.append(gensim.models.doc2vec.LabeledSentence(words = row['normalized_words'], tags = docKeywords))\n",
    "plot['TaggedAbstracts'] = taggedDocs"
   ]
  },
  {
   "cell_type": "code",
   "execution_count": 221,
   "metadata": {
    "collapsed": false
   },
   "outputs": [
    {
     "data": {
      "text/html": [
       "<div>\n",
       "<style scoped>\n",
       "    .dataframe tbody tr th:only-of-type {\n",
       "        vertical-align: middle;\n",
       "    }\n",
       "\n",
       "    .dataframe tbody tr th {\n",
       "        vertical-align: top;\n",
       "    }\n",
       "\n",
       "    .dataframe thead th {\n",
       "        text-align: right;\n",
       "    }\n",
       "</style>\n",
       "<table border=\"1\" class=\"dataframe\">\n",
       "  <thead>\n",
       "    <tr style=\"text-align: right;\">\n",
       "      <th></th>\n",
       "      <th>id</th>\n",
       "      <th>title</th>\n",
       "      <th>year</th>\n",
       "      <th>plot</th>\n",
       "      <th>tokenized_sents</th>\n",
       "      <th>normalized_sents</th>\n",
       "      <th>tokenized_words</th>\n",
       "      <th>normalized_words</th>\n",
       "      <th>TaggedAbstracts</th>\n",
       "    </tr>\n",
       "  </thead>\n",
       "  <tbody>\n",
       "    <tr>\n",
       "      <th>0</th>\n",
       "      <td>3281207</td>\n",
       "      <td>(Re)Union</td>\n",
       "      <td>2007</td>\n",
       "      <td>(Re)Union uses contemporary dance to examine t...</td>\n",
       "      <td>[[(, Re, ), Union, uses, contemporary, dance, ...</td>\n",
       "      <td>[[union, uses, contemporary, dance, examine, r...</td>\n",
       "      <td>[(, Re, ), Union, uses, contemporary, dance, t...</td>\n",
       "      <td>[union, uses, contemporary, dance, examine, re...</td>\n",
       "      <td>([union, uses, contemporary, dance, examine, r...</td>\n",
       "    </tr>\n",
       "    <tr>\n",
       "      <th>1</th>\n",
       "      <td>3281368</td>\n",
       "      <td>... Just a Job</td>\n",
       "      <td>2007</td>\n",
       "      <td>Born into the legacy of blue collar workers, F...</td>\n",
       "      <td>[[Born, into, the, legacy, of, blue, collar, w...</td>\n",
       "      <td>[[born, legacy, blue, collar, workers, fred, n...</td>\n",
       "      <td>[Born, into, the, legacy, of, blue, collar, wo...</td>\n",
       "      <td>[born, legacy, blue, collar, workers, fred, ne...</td>\n",
       "      <td>([born, legacy, blue, collar, workers, fred, n...</td>\n",
       "    </tr>\n",
       "    <tr>\n",
       "      <th>2</th>\n",
       "      <td>3281561</td>\n",
       "      <td>...go I</td>\n",
       "      <td>2007</td>\n",
       "      <td>...go I is a contemporary exploration of a fam...</td>\n",
       "      <td>[[..., go, I, is, a, contemporary, exploration...</td>\n",
       "      <td>[[go, contemporary, exploration, family, life,...</td>\n",
       "      <td>[..., go, I, is, a, contemporary, exploration,...</td>\n",
       "      <td>[go, contemporary, exploration, family, life, ...</td>\n",
       "      <td>([go, contemporary, exploration, family, life,...</td>\n",
       "    </tr>\n",
       "    <tr>\n",
       "      <th>3</th>\n",
       "      <td>3282030</td>\n",
       "      <td>0506HK</td>\n",
       "      <td>2007</td>\n",
       "      <td>0506HK documents filmmaker Quentin Lee's retur...</td>\n",
       "      <td>[[0506HK, documents, filmmaker, Quentin, Lee, ...</td>\n",
       "      <td>[[documents, filmmaker, quentin, lee, returns,...</td>\n",
       "      <td>[0506HK, documents, filmmaker, Quentin, Lee, '...</td>\n",
       "      <td>[documents, filmmaker, quentin, lee, returns, ...</td>\n",
       "      <td>([documents, filmmaker, quentin, lee, returns,...</td>\n",
       "    </tr>\n",
       "    <tr>\n",
       "      <th>4</th>\n",
       "      <td>3282343</td>\n",
       "      <td>1, 2, 3, Whiteout</td>\n",
       "      <td>2007</td>\n",
       "      <td>In a future present, a rebellious Veronique fi...</td>\n",
       "      <td>[[In, a, future, present, ,, a, rebellious, Ve...</td>\n",
       "      <td>[[future, present, rebellious, veronique, find...</td>\n",
       "      <td>[In, a, future, present, ,, a, rebellious, Ver...</td>\n",
       "      <td>[future, present, rebellious, veronique, finds...</td>\n",
       "      <td>([future, present, rebellious, veronique, find...</td>\n",
       "    </tr>\n",
       "  </tbody>\n",
       "</table>\n",
       "</div>"
      ],
      "text/plain": [
       "        id              title  year  \\\n",
       "0  3281207          (Re)Union  2007   \n",
       "1  3281368     ... Just a Job  2007   \n",
       "2  3281561            ...go I  2007   \n",
       "3  3282030             0506HK  2007   \n",
       "4  3282343  1, 2, 3, Whiteout  2007   \n",
       "\n",
       "                                                plot  \\\n",
       "0  (Re)Union uses contemporary dance to examine t...   \n",
       "1  Born into the legacy of blue collar workers, F...   \n",
       "2  ...go I is a contemporary exploration of a fam...   \n",
       "3  0506HK documents filmmaker Quentin Lee's retur...   \n",
       "4  In a future present, a rebellious Veronique fi...   \n",
       "\n",
       "                                     tokenized_sents  \\\n",
       "0  [[(, Re, ), Union, uses, contemporary, dance, ...   \n",
       "1  [[Born, into, the, legacy, of, blue, collar, w...   \n",
       "2  [[..., go, I, is, a, contemporary, exploration...   \n",
       "3  [[0506HK, documents, filmmaker, Quentin, Lee, ...   \n",
       "4  [[In, a, future, present, ,, a, rebellious, Ve...   \n",
       "\n",
       "                                    normalized_sents  \\\n",
       "0  [[union, uses, contemporary, dance, examine, r...   \n",
       "1  [[born, legacy, blue, collar, workers, fred, n...   \n",
       "2  [[go, contemporary, exploration, family, life,...   \n",
       "3  [[documents, filmmaker, quentin, lee, returns,...   \n",
       "4  [[future, present, rebellious, veronique, find...   \n",
       "\n",
       "                                     tokenized_words  \\\n",
       "0  [(, Re, ), Union, uses, contemporary, dance, t...   \n",
       "1  [Born, into, the, legacy, of, blue, collar, wo...   \n",
       "2  [..., go, I, is, a, contemporary, exploration,...   \n",
       "3  [0506HK, documents, filmmaker, Quentin, Lee, '...   \n",
       "4  [In, a, future, present, ,, a, rebellious, Ver...   \n",
       "\n",
       "                                    normalized_words  \\\n",
       "0  [union, uses, contemporary, dance, examine, re...   \n",
       "1  [born, legacy, blue, collar, workers, fred, ne...   \n",
       "2  [go, contemporary, exploration, family, life, ...   \n",
       "3  [documents, filmmaker, quentin, lee, returns, ...   \n",
       "4  [future, present, rebellious, veronique, finds...   \n",
       "\n",
       "                                     TaggedAbstracts  \n",
       "0  ([union, uses, contemporary, dance, examine, r...  \n",
       "1  ([born, legacy, blue, collar, workers, fred, n...  \n",
       "2  ([go, contemporary, exploration, family, life,...  \n",
       "3  ([documents, filmmaker, quentin, lee, returns,...  \n",
       "4  ([future, present, rebellious, veronique, find...  "
      ]
     },
     "execution_count": 221,
     "metadata": {},
     "output_type": "execute_result"
    }
   ],
   "source": [
    "plot[:5]"
   ]
  },
  {
   "cell_type": "code",
   "execution_count": 238,
   "metadata": {
    "collapsed": true
   },
   "outputs": [],
   "source": [
    "plotD2V = gensim.models.doc2vec.Doc2Vec(plot['TaggedAbstracts'], size = 100) #Limiting to 100 dimensions"
   ]
  },
  {
   "cell_type": "code",
   "execution_count": 353,
   "metadata": {
    "collapsed": true
   },
   "outputs": [],
   "source": [
    "plotD2V.save('plotD2V.mm')"
   ]
  },
  {
   "cell_type": "code",
   "execution_count": 239,
   "metadata": {
    "collapsed": false
   },
   "outputs": [
    {
     "data": {
      "text/plain": [
       "[('attracted', 0.7553850412368774),\n",
       " ('smart', 0.7470264434814453),\n",
       " ('confident', 0.7446215152740479),\n",
       " ('flower', 0.7403482794761658),\n",
       " ('cute', 0.739296555519104),\n",
       " ('duckling', 0.7350632548332214),\n",
       " ('attractive', 0.7204179763793945),\n",
       " ('aubrey', 0.710843563079834),\n",
       " ('personification', 0.7102031707763672),\n",
       " ('spoiled', 0.7051250338554382)]"
      ]
     },
     "execution_count": 239,
     "metadata": {},
     "output_type": "execute_result"
    }
   ],
   "source": [
    "plotD2V.most_similar(positive = ['woman','pretty'], negative = ['man'])"
   ]
  },
  {
   "cell_type": "code",
   "execution_count": 240,
   "metadata": {
    "collapsed": false
   },
   "outputs": [
    {
     "data": {
      "text/plain": [
       "[('sexy', 0.7578592300415039),\n",
       " ('dating', 0.7286725640296936),\n",
       " ('attractive', 0.7217409610748291),\n",
       " ('attracted', 0.7175787091255188),\n",
       " ('confident', 0.7155389785766602),\n",
       " ('intelligent', 0.7089490294456482),\n",
       " ('goth', 0.7018779516220093),\n",
       " ('cute', 0.7014197111129761),\n",
       " ('dress', 0.6968613266944885),\n",
       " ('pretty', 0.6935397386550903)]"
      ]
     },
     "execution_count": 240,
     "metadata": {},
     "output_type": "execute_result"
    }
   ],
   "source": [
    "plotD2V.most_similar(positive = ['woman','smart'], negative = ['man'])"
   ]
  },
  {
   "cell_type": "markdown",
   "metadata": {},
   "source": [
    "If woman is \"pretty\", man is \"attracted\", and if woman is \"smart\", man is \"sexy\" and will \"date\" woman. It seems that there is no striking difference between the importance of woman's appearance and intelligence in man's pesperctive."
   ]
  },
  {
   "cell_type": "code",
   "execution_count": 242,
   "metadata": {
    "collapsed": false
   },
   "outputs": [
    {
     "data": {
      "text/plain": [
       "[('dido', 0.7515984773635864),\n",
       " ('boyfriend', 0.7319185733795166),\n",
       " ('unfaithfulness', 0.7068113088607788),\n",
       " ('maria', 0.7017094492912292),\n",
       " ('anna', 0.6887801289558411),\n",
       " ('maid', 0.6884359121322632),\n",
       " ('nurse', 0.686508059501648),\n",
       " ('eleanor', 0.6857141852378845),\n",
       " ('kendall', 0.676490306854248),\n",
       " ('pregnancy', 0.6724026203155518)]"
      ]
     },
     "execution_count": 242,
     "metadata": {},
     "output_type": "execute_result"
    }
   ],
   "source": [
    "plotD2V.most_similar(positive = ['woman','husband'], negative = ['man'])"
   ]
  },
  {
   "cell_type": "markdown",
   "metadata": {},
   "source": [
    "\"woman\" plus \"husband\" does not equal to \"man\" plus \"wife\", instead, it equals to \"man\" plus \"unfaithfulness\". This indicates how the image of \"wife\" has been damaged on screen."
   ]
  },
  {
   "cell_type": "markdown",
   "metadata": {},
   "source": [
    "Since we can calculate the distance between a word and documents in the dataset, we can use this method to select a defensible subset of query-relevant documents for subsequent analysis."
   ]
  },
  {
   "cell_type": "code",
   "execution_count": 247,
   "metadata": {
    "collapsed": false
   },
   "outputs": [
    {
     "data": {
      "text/plain": [
       "[('Bachelorette', 0.740663468837738),\n",
       " ('Victorious Lola', 0.7400469779968262),\n",
       " ('Bridal Jitters', 0.7383280992507935),\n",
       " ('She Fell for Him', 0.7316016554832458),\n",
       " ('Bad Penny', 0.7296748161315918),\n",
       " ('From Beyond the Grave', 0.7266324758529663),\n",
       " ('The Care Taker', 0.7227994799613953),\n",
       " ('Sarah Landon and the Paranormal Hour', 0.7180745005607605),\n",
       " ('Accident', 0.7167636752128601),\n",
       " ('Becoming Blond', 0.7132968902587891)]"
      ]
     },
     "execution_count": 247,
     "metadata": {},
     "output_type": "execute_result"
    }
   ],
   "source": [
    "# Find documents about weddings\n",
    "plotD2V.docvecs.most_similar([ plotD2V['wedding'] ], topn=10 )"
   ]
  },
  {
   "cell_type": "code",
   "execution_count": 245,
   "metadata": {
    "collapsed": false
   },
   "outputs": [
    {
     "data": {
      "text/plain": [
       "[('116', 0.6903113126754761),\n",
       " ('Forlorn', 0.6853482723236084),\n",
       " ('A Crushing Love', 0.660381555557251),\n",
       " ('Thrown Down', 0.6528223752975464),\n",
       " ('Is She the One?', 0.6441242098808289),\n",
       " ('Blood and Chocolate', 0.6433272361755371),\n",
       " (\"Love's a Bitch, and Then You Die\", 0.6422015428543091),\n",
       " ('No Snakes in the Garden', 0.6391201615333557),\n",
       " ('A Complex Villainelle', 0.6358553171157837),\n",
       " ('200 Cartas', 0.6309974193572998)]"
      ]
     },
     "execution_count": 245,
     "metadata": {},
     "output_type": "execute_result"
    }
   ],
   "source": [
    "# Find documents about affair\n",
    "plotD2V.docvecs.most_similar([ plotD2V['affair'] ], topn=10 )"
   ]
  },
  {
   "cell_type": "code",
   "execution_count": 256,
   "metadata": {
    "collapsed": false
   },
   "outputs": [
    {
     "data": {
      "text/plain": [
       "[('A Crushing Love', 0.7305070757865906),\n",
       " ('Bridal Jitters', 0.7028250694274902),\n",
       " ('Born and Missing', 0.699512779712677),\n",
       " ('She Fell for Him', 0.695561945438385),\n",
       " ('Tan', 0.6890191435813904),\n",
       " ('A Good Funeral', 0.6878024935722351),\n",
       " ('The Good Samaritans', 0.6822532415390015),\n",
       " ('The Unspeakable Act', 0.6813105344772339),\n",
       " ('Christmas Night with Fritz Dubert', 0.6812114715576172),\n",
       " ('Becoming Blond', 0.6802348494529724)]"
      ]
     },
     "execution_count": 256,
     "metadata": {},
     "output_type": "execute_result"
    }
   ],
   "source": [
    "# Find documents about wedding and affair\n",
    "plotD2V.docvecs.most_similar([ plotD2V['wedding']+plotD2V['affair']], topn=10 )"
   ]
  },
  {
   "cell_type": "markdown",
   "metadata": {},
   "source": [
    "I tried searching these films online and found they are pretty good matches. For example, the top one movie similar to \"wedding\" \"Bachelorette\": <img src='Bachelorette.png'>"
   ]
  },
  {
   "cell_type": "code",
   "execution_count": 251,
   "metadata": {
    "collapsed": false,
    "scrolled": true
   },
   "outputs": [
    {
     "data": {
      "text/plain": [
       "[('tactic', 0.623603105545044),\n",
       " ('cb', 0.5850043296813965),\n",
       " ('bellas', 0.5848094820976257),\n",
       " ('diaper', 0.5817420482635498),\n",
       " ('infestation', 0.556124210357666)]"
      ]
     },
     "execution_count": 251,
     "metadata": {},
     "output_type": "execute_result"
    }
   ],
   "source": [
    "# Find words most similar to certain documents\n",
    "plotD2V.most_similar( [ plotD2V.docvecs['Inception'] ], topn=5) "
   ]
  },
  {
   "cell_type": "code",
   "execution_count": 253,
   "metadata": {
    "collapsed": true
   },
   "outputs": [],
   "source": [
    "# A function to plot the heatmap of documents against documents/words\n",
    "def plot_heatmap(target1, target2, modelD2V):\n",
    "    heatmapMatrix = []\n",
    "    for tagOuter in target1:\n",
    "        column = []\n",
    "        tagVec = modelD2V.docvecs[tagOuter].reshape(1, -1)\n",
    "        for tagInner in target2:\n",
    "            column.append(sklearn.metrics.pairwise.cosine_similarity(tagVec, modelD2V.docvecs[tagInner].reshape(1, -1))[0][0])\n",
    "        heatmapMatrix.append(column)\n",
    "    heatmapMatrix = np.array(heatmapMatrix)\n",
    "\n",
    "    fig, ax = plt.subplots()\n",
    "    hmap = ax.pcolor(heatmapMatrix, cmap='terrain')\n",
    "    cbar = plt.colorbar(hmap)\n",
    "\n",
    "    cbar.set_label('cosine similarity', rotation=270)\n",
    "    a = ax.set_xticks(np.arange(heatmapMatrix.shape[1]) + 0.5, minor=False)\n",
    "    a = ax.set_yticks(np.arange(heatmapMatrix.shape[0]) + 0.5, minor=False)\n",
    "\n",
    "    a = ax.set_xticklabels(target2, minor=False, rotation=270)\n",
    "    a = ax.set_yticklabels(target1, minor=False)"
   ]
  },
  {
   "cell_type": "code",
   "execution_count": 257,
   "metadata": {
    "collapsed": false
   },
   "outputs": [
    {
     "data": {
      "image/png": "[encoded data removed]",
      "text/plain": [
       "<matplotlib.figure.Figure at 0x1956ab198>"
      ]
     },
     "metadata": {},
     "output_type": "display_data"
    }
   ],
   "source": [
    "# Plot the distances between a subset of my documents against each other\n",
    "# Here I plot the top 10 films about \"wedding\" and \"affair\" found above\n",
    "films_wedd_aff = ['A Crushing Love', 'Bridal Jitters', 'Born and Missing', 'She Fell for Him', 'Tan',\\\n",
    "                  'A Good Funeral', 'The Good Samaritans', 'The Unspeakable Act', 'Christmas Night with Fritz Dubert',\\\n",
    "                  'Becoming Blond']\n",
    "plot_heatmap(films_wedd_aff, films_wedd_aff, plotD2V)"
   ]
  },
  {
   "cell_type": "markdown",
   "metadata": {},
   "source": [
    "Sadly, I have watched none of these ten movies, but from the heatmap above, we can still get some information about those movies. As we can observe, \"She Fell for Him\", \"A Crushing Love\", \"A Good Funeral\" are the least similar films among the ten, and \"The Good Samaritans\", \"Tan\", \"Born and Missing\" are the most similar ones among the ten. I'm not sure about the reason but I can try to explore it by plotting them against the keywords I have assigned."
   ]
  },
  {
   "cell_type": "code",
   "execution_count": 259,
   "metadata": {
    "collapsed": false
   },
   "outputs": [
    {
     "data": {
      "image/png": "[encoded data removed]",
      "text/plain": [
       "<matplotlib.figure.Figure at 0x196086c18>"
      ]
     },
     "metadata": {},
     "output_type": "display_data"
    }
   ],
   "source": [
    "# Plot the distances between a subset of my documents against a set of informative words\n",
    "# Here I plot the top 10 films about \"wedding\" and \"affair\" found above against the keywords\n",
    "plot_heatmap(films_wedd_aff, keywords, plotD2V)"
   ]
  },
  {
   "cell_type": "markdown",
   "metadata": {},
   "source": [
    "As we can observe, all of the ten films is similar to films with keyword \"affair\", which makes sense as they are the top 10 films about \"affair\" and \"wedding\" in my dataset. The ten films are also similar to films with keyword \"romance\" or \"fashion\", and quite different from films with keyword \"superhero\" and \"war\". This indicates that these ten films involved in \"wedding\" and \"affair\" is more about woman-man relationship and quite far from themes like \"superhero\" and \"war\". We can also observe that the one of the least similar film \"She Fell for Him\" is very different from \"family\" and \"war\" films and similar to \"superhero\" films, which might partially account for its difference among the ten. And \"A Crushing love\" and \"A Good Funeral\" are also similar to \"superhero\" films, leading to their difference among the ten. However, since the keywords are randomly selected, it might be more informative if I can put more efforts to choose them or use other grouping methods such as genres, etc."
   ]
  },
  {
   "cell_type": "code",
   "execution_count": 264,
   "metadata": {
    "collapsed": false
   },
   "outputs": [
    {
     "data": {
      "image/png": "[encoded data removed]",
      "text/plain": [
       "<matplotlib.figure.Figure at 0x196089f60>"
      ]
     },
     "metadata": {},
     "output_type": "display_data"
    }
   ],
   "source": [
    "# Plot the distances between documents grouped by year against each other\n",
    "films_year = list(plot.year.unique())\n",
    "plot_heatmap(films_year, films_year, plotD2V)"
   ]
  },
  {
   "cell_type": "markdown",
   "metadata": {},
   "source": [
    "The above heatmap illustrated some information about the evolve of films over time in the past decade. As we can observe, generally speaking, the films are less similar over time and usually similar to films in the preceding year. We can observe a hot spot in the center which implies that films of year 2013 and 2014 are quite similar to those in year 2011 and 2012. We can also observe that films in year 2008 is quite different from those in year 2007, which might be related to the financial crisis in 2008."
   ]
  },
  {
   "cell_type": "code",
   "execution_count": 265,
   "metadata": {
    "collapsed": false
   },
   "outputs": [
    {
     "data": {
      "image/png": "[encoded data removed]",
      "text/plain": [
       "<matplotlib.figure.Figure at 0x195f6c7b8>"
      ]
     },
     "metadata": {},
     "output_type": "display_data"
    }
   ],
   "source": [
    "# Plot the distances between documents grouped by year against a set of informative words\n",
    "plot_heatmap(films_year, keywords, plotD2V)"
   ]
  },
  {
   "cell_type": "markdown",
   "metadata": {},
   "source": [
    "The above heatmap illustrated the change of topics of films over time. We can observe that among all the films in the last decade, the popular topics of films are \"superhero\", \"fashion\", \"affair\" and \"romance\", while \"family\" is not popular at all. From year 2007 to 2008, there are more films about \"business\" and \"superhero\" and less films about \"family\", \"romance\", \"affair\" and \"war\". It might indicates how the desperation from the financial cirsis is reflected in the entertainment that people talk more about \"business\" and want \"superhero\" to save them. However, again, it might be more informative to get some other keywords or other grouping methods to illsutrate the depiction of different genders in films."
   ]
  },
  {
   "cell_type": "markdown",
   "metadata": {},
   "source": [
    "# Projection"
   ]
  },
  {
   "cell_type": "markdown",
   "metadata": {},
   "source": [
    "We can also project word vectors to an arbitray semantic dimension. To demonstrate this possibility, let's first load a model trained with New York Times news articles. "
   ]
  },
  {
   "cell_type": "code",
   "execution_count": 266,
   "metadata": {
    "collapsed": true
   },
   "outputs": [],
   "source": [
    "nytimes_model = gensim.models.KeyedVectors.load_word2vec_format('../data/nytimes_cbow.reduced.txt')"
   ]
  },
  {
   "cell_type": "markdown",
   "metadata": {},
   "source": [
    "First we can visualize with dimension reduction"
   ]
  },
  {
   "cell_type": "code",
   "execution_count": 267,
   "metadata": {
    "collapsed": false
   },
   "outputs": [
    {
     "data": {
      "text/plain": [
       "array([[-0.343139, -0.117117, -0.50773 , ..., -0.995696,  0.921299,\n",
       "         0.943769],\n",
       "       [-0.362909, -0.263528,  0.032661, ..., -0.043032, -0.178965,\n",
       "         0.353556],\n",
       "       [-0.70167 , -0.344525, -0.320714, ...,  0.009001,  0.11055 ,\n",
       "         0.751077],\n",
       "       ...,\n",
       "       [-2.391626, -1.90143 ,  1.031182, ...,  2.947464,  1.01588 ,\n",
       "         2.00033 ],\n",
       "       [-2.432387, -1.161415,  1.060064, ...,  4.402381,  0.500471,\n",
       "         1.644596],\n",
       "       [ 0.981931,  0.628094, -0.747547, ...,  1.612927,  1.148063,\n",
       "         1.063776]], dtype=float32)"
      ]
     },
     "execution_count": 267,
     "metadata": {},
     "output_type": "execute_result"
    }
   ],
   "source": [
    "#words to create dimensions\n",
    "tnytTargetWords = ['man','him','he', 'woman', 'her', 'she', 'black','blacks','African', 'white', 'whites', 'Caucasian', 'rich', 'richer', 'richest', 'expensive', 'wealthy', 'poor', 'poorer', 'poorest', 'cheap', 'inexpensive']\n",
    "#words we will be mapping\n",
    "tnytTargetWords += [\"doctor\",\"lawyer\",\"plumber\",\"scientist\",\"hairdresser\", \"nanny\",\"carpenter\",\"entrepreneur\",\"musician\",\"writer\", \"banker\",\"poet\",\"nurse\", \"steak\", \"bacon\", \"croissant\", \"cheesecake\", \"salad\", \"cheeseburger\", \"vegetables\", \"beer\", \"wine\", \"pastry\", \"basketball\", \"baseball\", \"boxing\", \"softball\", \"volleyball\", \"tennis\", \"golf\", \"hockey\", \"soccer\"]\n",
    "\n",
    "\n",
    "wordsSubMatrix = []\n",
    "for word in tnytTargetWords:\n",
    "    wordsSubMatrix.append(nytimes_model[word])\n",
    "wordsSubMatrix = np.array(wordsSubMatrix)\n",
    "wordsSubMatrix"
   ]
  },
  {
   "cell_type": "code",
   "execution_count": 268,
   "metadata": {
    "collapsed": true
   },
   "outputs": [],
   "source": [
    "pcaWordsNYT = sklearn.decomposition.PCA(n_components = 50).fit(wordsSubMatrix)\n",
    "reducedPCA_dataNYT = pcaWordsNYT.transform(wordsSubMatrix)\n",
    "#T-SNE is theoretically better, but you should experiment\n",
    "tsneWordsNYT = sklearn.manifold.TSNE(n_components = 2).fit_transform(reducedPCA_dataNYT)"
   ]
  },
  {
   "cell_type": "code",
   "execution_count": 269,
   "metadata": {
    "collapsed": false
   },
   "outputs": [
    {
     "data": {
      "image/png": "[encoded data removed]",
      "text/plain": [
       "<matplotlib.figure.Figure at 0x1930797f0>"
      ]
     },
     "metadata": {},
     "output_type": "display_data"
    }
   ],
   "source": [
    "fig = plt.figure(figsize = (10,6))\n",
    "ax = fig.add_subplot(111)\n",
    "ax.set_frame_on(False)\n",
    "plt.scatter(tsneWordsNYT[:, 0], tsneWordsNYT[:, 1], alpha = 0) #Making the points invisible\n",
    "for i, word in enumerate(tnytTargetWords):\n",
    "    ax.annotate(word, (tsneWordsNYT[:, 0][i],tsneWordsNYT[:, 1][i]), size =  20 * (len(tnytTargetWords) - i) / len(tnytTargetWords))\n",
    "plt.xticks(())\n",
    "plt.yticks(())\n",
    "plt.show()"
   ]
  },
  {
   "cell_type": "markdown",
   "metadata": {},
   "source": [
    "Define some convenient functions for getting dimensions. "
   ]
  },
  {
   "cell_type": "code",
   "execution_count": 270,
   "metadata": {
    "collapsed": true
   },
   "outputs": [],
   "source": [
    "def normalize(vector):\n",
    "    normalized_vector = vector / np.linalg.norm(vector)\n",
    "    return normalized_vector\n",
    "\n",
    "def dimension(model, positives, negatives):\n",
    "    diff = sum([normalize(model[x]) for x in positives]) - sum([normalize(model[y]) for y in negatives])\n",
    "    return diff"
   ]
  },
  {
   "cell_type": "markdown",
   "metadata": {},
   "source": [
    "Let's calculate three dimensions: gender, race, and class."
   ]
  },
  {
   "cell_type": "code",
   "execution_count": 271,
   "metadata": {
    "collapsed": true
   },
   "outputs": [],
   "source": [
    "Gender = dimension(nytimes_model, ['man','him','he'], ['woman', 'her', 'she'])\n",
    "Race = dimension(nytimes_model, ['black','blacks','African'], ['white', 'whites', 'Caucasian'])\n",
    "Class = dimension(nytimes_model, ['rich', 'richer', 'richest', 'expensive', 'wealthy'], ['poor', 'poorer', 'poorest', 'cheap', 'inexpensive'])"
   ]
  },
  {
   "cell_type": "markdown",
   "metadata": {},
   "source": [
    "Here we have some words."
   ]
  },
  {
   "cell_type": "code",
   "execution_count": 272,
   "metadata": {
    "collapsed": true
   },
   "outputs": [],
   "source": [
    "Occupations = [\"doctor\",\"lawyer\",\"plumber\",\"scientist\",\"hairdresser\", \"nanny\",\"carpenter\",\"entrepreneur\",\"musician\",\"writer\", \"banker\",\"poet\",\"nurse\"]\n",
    "\n",
    "Foods = [\"steak\", \"bacon\", \"croissant\", \"cheesecake\", \"salad\", \"cheeseburger\", \"vegetables\", \"beer\", \"wine\", \"pastry\"]\n",
    "\n",
    "Sports  = [\"basketball\", \"baseball\", \"boxing\", \"softball\", \"volleyball\", \"tennis\", \"golf\", \"hockey\", \"soccer\"]"
   ]
  },
  {
   "cell_type": "markdown",
   "metadata": {},
   "source": [
    "Define a function to project words in a word list to each of the three dimensions."
   ]
  },
  {
   "cell_type": "code",
   "execution_count": 273,
   "metadata": {
    "collapsed": true
   },
   "outputs": [],
   "source": [
    "def makeDF(model, word_list):\n",
    "    g = []\n",
    "    r = []\n",
    "    c = []\n",
    "    for word in word_list:\n",
    "        g.append(sklearn.metrics.pairwise.cosine_similarity(nytimes_model[word].reshape(1,-1), Gender.reshape(1,-1))[0][0])\n",
    "        r.append(sklearn.metrics.pairwise.cosine_similarity(nytimes_model[word].reshape(1,-1), Race.reshape(1,-1))[0][0])\n",
    "        c.append(sklearn.metrics.pairwise.cosine_similarity(nytimes_model[word].reshape(1,-1), Class.reshape(1,-1))[0][0])\n",
    "    df = pandas.DataFrame({'gender': g, 'race': r, 'class': c}, index = word_list)\n",
    "    return df"
   ]
  },
  {
   "cell_type": "markdown",
   "metadata": {},
   "source": [
    "Get the projections."
   ]
  },
  {
   "cell_type": "code",
   "execution_count": 274,
   "metadata": {
    "collapsed": true
   },
   "outputs": [],
   "source": [
    "OCCdf = makeDF(nytimes_model, Occupations) \n",
    "Fooddf = makeDF(nytimes_model, Foods)\n",
    "Sportsdf = makeDF(nytimes_model, Sports)"
   ]
  },
  {
   "cell_type": "markdown",
   "metadata": {},
   "source": [
    "Define some useful functions for plotting."
   ]
  },
  {
   "cell_type": "code",
   "execution_count": 275,
   "metadata": {
    "collapsed": true
   },
   "outputs": [],
   "source": [
    "def Coloring(Series):\n",
    "    x = Series.values\n",
    "    y = x-x.min()\n",
    "    z = y/y.max()\n",
    "    c = list(plt.cm.rainbow(z))\n",
    "    return c\n",
    "\n",
    "def PlotDimension(ax,df, dim):\n",
    "    ax.set_frame_on(False)\n",
    "    ax.set_title(dim, fontsize = 20)\n",
    "    colors = Coloring(df[dim])\n",
    "    for i, word in enumerate(df.index):\n",
    "        ax.annotate(word, (0, df[dim][i]), color = colors[i], alpha = 0.6, fontsize = 12)\n",
    "    MaxY = df[dim].max()\n",
    "    MinY = df[dim].min()\n",
    "    plt.ylim(MinY,MaxY)\n",
    "    plt.yticks(())\n",
    "    plt.xticks(())"
   ]
  },
  {
   "cell_type": "markdown",
   "metadata": {},
   "source": [
    "Plot the occupational words in each of the three dimensions."
   ]
  },
  {
   "cell_type": "code",
   "execution_count": 276,
   "metadata": {
    "collapsed": false,
    "scrolled": true
   },
   "outputs": [
    {
     "data": {
      "image/png": "[encoded data removed]",
      "text/plain": [
       "<matplotlib.figure.Figure at 0x1955e6d68>"
      ]
     },
     "metadata": {},
     "output_type": "display_data"
    }
   ],
   "source": [
    "fig = plt.figure(figsize = (12,4))\n",
    "ax1 = fig.add_subplot(131)\n",
    "PlotDimension(ax1, OCCdf, 'gender')\n",
    "ax2 = fig.add_subplot(132)\n",
    "PlotDimension(ax2, OCCdf, 'race')\n",
    "ax3 = fig.add_subplot(133)\n",
    "PlotDimension(ax3, OCCdf, 'class')\n",
    "plt.show()"
   ]
  },
  {
   "cell_type": "markdown",
   "metadata": {},
   "source": [
    "Foods:"
   ]
  },
  {
   "cell_type": "code",
   "execution_count": 277,
   "metadata": {
    "collapsed": false
   },
   "outputs": [
    {
     "data": {
      "image/png": "[encoded data removed]",
      "text/plain": [
       "<matplotlib.figure.Figure at 0x124dd2470>"
      ]
     },
     "metadata": {},
     "output_type": "display_data"
    }
   ],
   "source": [
    "fig = plt.figure(figsize = (12,4))\n",
    "ax1 = fig.add_subplot(131)\n",
    "PlotDimension(ax1, Fooddf, 'gender')\n",
    "ax2 = fig.add_subplot(132)\n",
    "PlotDimension(ax2, Fooddf, 'race')\n",
    "ax3 = fig.add_subplot(133)\n",
    "PlotDimension(ax3, Fooddf, 'class')\n",
    "plt.show()"
   ]
  },
  {
   "cell_type": "markdown",
   "metadata": {},
   "source": [
    "Sports:"
   ]
  },
  {
   "cell_type": "code",
   "execution_count": 278,
   "metadata": {
    "collapsed": false
   },
   "outputs": [
    {
     "data": {
      "image/png": "[encoded data removed]",
      "text/plain": [
       "<matplotlib.figure.Figure at 0x12b26fba8>"
      ]
     },
     "metadata": {},
     "output_type": "display_data"
    }
   ],
   "source": [
    "fig = plt.figure(figsize = (12,4))\n",
    "ax1 = fig.add_subplot(131)\n",
    "PlotDimension(ax1, Sportsdf, 'gender')\n",
    "ax2 = fig.add_subplot(132)\n",
    "PlotDimension(ax2, Sportsdf, 'race')\n",
    "ax3 = fig.add_subplot(133)\n",
    "PlotDimension(ax3, Sportsdf, 'class')\n",
    "plt.show()"
   ]
  },
  {
   "cell_type": "markdown",
   "metadata": {},
   "source": [
    "## <span style=\"color:red\">*Exercise 3*</span>\n",
    "\n",
    "<span style=\"color:red\">Construct cells immediately below this that identify semantic dimensions of interest from your data (e.g., gender: man-woman) and project words onto these dimensions. Plot the array of relevant words along each semantic dimension. Which words are most different. Which dimensions are most different? On which dimension are your words most different? Print three short textual examples from the corpus that illustrate the association you have explored.\n",
    "\n",
    "<span style=\"color:red\">***Stretch***: Project documents from your corpus along a dimension of interest. Sample relevant documents from your corpus with this functionality and explain your rationale? Calculate the cosine of the angle between two dimensions (encoded as vectors) of interest. What does this suggest about the relationship between them within your corpus? \n",
    "\n",
    "<span style=\"color:red\">***Stretch***: Create 90% bootstrap confidence intervals around your word projections onto a given dimension. Which words are *significantly* different on your semantic dimension of interest?"
   ]
  },
  {
   "cell_type": "code",
   "execution_count": 283,
   "metadata": {
    "collapsed": false
   },
   "outputs": [],
   "source": [
    "# semantic dimensions of interest\n",
    "Gender = dimension(plotW2V, ['man', 'him', 'he', 'himself'], ['woman', 'her', 'she', 'herself'])\n",
    "Race = dimension(plotW2V, ['black', 'blacks'], ['white', 'whites'])\n",
    "Class = dimension(plotW2V, ['rich', 'richer', 'richest', 'expensive', 'wealthy'], ['poor', 'poorer', 'poorest', 'cheap', 'inexpensive'])"
   ]
  },
  {
   "cell_type": "code",
   "execution_count": 301,
   "metadata": {
    "collapsed": false
   },
   "outputs": [],
   "source": [
    "# words\n",
    "Occupation = [\"doctor\", \"lawyer\", \"plumber\", \"scientist\", \"professor\", \"barber\", \"hairdresser\", \"nanny\", \"carpenter\",\"entrepreneur\", \"musician\", \"writer\", \"banker\", \"poet\", \"nurse\", \"robber\", \"prostitute\", \"driver\", \"singer\", \"thief\"]\n",
    "Emotion = ['happy', 'excited', 'joy', 'content', 'peaceful', 'motivated', 'sad', 'sorrow', 'grieving', 'bitter', 'depressed', 'frustrated', 'angry', 'annoyed', 'anxious', 'bored', 'determined', 'envious', 'jealous', 'lonely', 'nervous', 'scared']\n",
    "Power = ['powerful', 'strong', 'control', 'submissive', 'important', 'influential', 'dominant', 'weak', 'gentle', 'obedient', 'kill', 'die']"
   ]
  },
  {
   "cell_type": "code",
   "execution_count": 302,
   "metadata": {
    "collapsed": false
   },
   "outputs": [
    {
     "data": {
      "text/plain": [
       "array([[-8.0500114e-01, -4.4445002e-01,  6.4454114e-01, ...,\n",
       "         6.2412018e-01, -1.2074210e-01,  3.0290353e-01],\n",
       "       [-8.9390731e-01, -6.7303628e-01, -3.6833350e-02, ...,\n",
       "         4.4787154e-01,  1.1570322e-01,  4.6101478e-01],\n",
       "       [-8.0352575e-02, -1.7411555e-01,  8.1285514e-02, ...,\n",
       "         1.3722293e-01,  3.5386651e-03,  1.1675708e-01],\n",
       "       ...,\n",
       "       [ 2.4206951e-01, -2.9296565e-01,  2.1686901e-01, ...,\n",
       "        -2.9500006e-02,  2.9461671e-02,  7.5973123e-01],\n",
       "       [-4.2824149e-03, -5.4595155e-01,  2.7124292e-01, ...,\n",
       "         2.8383234e-01,  8.0748186e-02,  1.6311997e-01],\n",
       "       [ 8.0922229e-04, -1.3782658e-01,  5.9653934e-02, ...,\n",
       "         6.6797122e-02,  5.8024853e-02, -1.7662834e-02]], dtype=float32)"
      ]
     },
     "execution_count": 302,
     "metadata": {},
     "output_type": "execute_result"
    }
   ],
   "source": [
    "# Visualize with dimension reduction\n",
    "plotTargetWords = Occupation + Emotion + Power + ['man','him','he','himself','woman','her','she','herself','black','blacks','white','whites', 'rich', 'richer', 'richest', 'expensive', 'wealthy', 'poor', 'poorer', 'poorest', 'cheap', 'inexpensive']\n",
    "\n",
    "wordsSubMatrix = []\n",
    "for word in plotTargetWords:\n",
    "    wordsSubMatrix.append(plotW2V[word])\n",
    "wordsSubMatrix = np.array(wordsSubMatrix)\n",
    "wordsSubMatrix"
   ]
  },
  {
   "cell_type": "code",
   "execution_count": 303,
   "metadata": {
    "collapsed": false
   },
   "outputs": [],
   "source": [
    "pcaWordsplot = sklearn.decomposition.PCA(n_components = 50).fit(wordsSubMatrix)\n",
    "reducedPCA_dataplot = pcaWordsplot.transform(wordsSubMatrix)\n",
    "tsneWordsplot = sklearn.manifold.TSNE(n_components = 2).fit_transform(reducedPCA_dataplot)"
   ]
  },
  {
   "cell_type": "code",
   "execution_count": 304,
   "metadata": {
    "collapsed": false
   },
   "outputs": [
    {
     "data": {
      "image/png": "[encoded data removed]",
      "text/plain": [
       "<matplotlib.figure.Figure at 0x192cb6240>"
      ]
     },
     "metadata": {},
     "output_type": "display_data"
    }
   ],
   "source": [
    "fig = plt.figure(figsize = (10,6))\n",
    "ax = fig.add_subplot(111)\n",
    "ax.set_frame_on(False)\n",
    "plt.scatter(tsneWordsplot[:, 0], tsneWordsplot[:, 1], alpha = 0) #Making the points invisible\n",
    "for i, word in enumerate(plotTargetWords):\n",
    "    ax.annotate(word, (tsneWordsplot[:, 0][i],tsneWordsplot[:, 1][i]), size =  20 * (len(plotTargetWords) - i) / len(plotTargetWords))\n",
    "plt.xticks(())\n",
    "plt.yticks(())\n",
    "plt.show()"
   ]
  },
  {
   "cell_type": "code",
   "execution_count": 306,
   "metadata": {
    "collapsed": true
   },
   "outputs": [],
   "source": [
    "def makePlotDF(model, word_list):\n",
    "    g = []\n",
    "    r = []\n",
    "    c = []\n",
    "    for word in word_list:\n",
    "        g.append(sklearn.metrics.pairwise.cosine_similarity(model[word].reshape(1,-1), Gender.reshape(1,-1))[0][0])\n",
    "        r.append(sklearn.metrics.pairwise.cosine_similarity(model[word].reshape(1,-1), Race.reshape(1,-1))[0][0])\n",
    "        c.append(sklearn.metrics.pairwise.cosine_similarity(model[word].reshape(1,-1), Class.reshape(1,-1))[0][0])\n",
    "    df = pandas.DataFrame({'gender': g, 'race': r, 'class': c}, index = word_list)\n",
    "    return df"
   ]
  },
  {
   "cell_type": "code",
   "execution_count": 307,
   "metadata": {
    "collapsed": false
   },
   "outputs": [],
   "source": [
    "OccDF = makePlotDF(plotW2V, Occupation) \n",
    "EmoDF = makePlotDF(plotW2V, Emotion)\n",
    "PowerDF = makePlotDF(plotW2V, Power)"
   ]
  },
  {
   "cell_type": "code",
   "execution_count": 311,
   "metadata": {
    "collapsed": false
   },
   "outputs": [
    {
     "data": {
      "image/png": "[encoded data removed]",
      "text/plain": [
       "<matplotlib.figure.Figure at 0x192faf940>"
      ]
     },
     "metadata": {},
     "output_type": "display_data"
    }
   ],
   "source": [
    "# Plot the occupational words in each of the three dimensions\n",
    "fig = plt.figure(figsize = (12,6))\n",
    "ax1 = fig.add_subplot(131)\n",
    "PlotDimension(ax1, OccDF, 'gender')\n",
    "ax2 = fig.add_subplot(132)\n",
    "PlotDimension(ax2, OccDF, 'race')\n",
    "ax3 = fig.add_subplot(133)\n",
    "PlotDimension(ax3, OccDF, 'class')\n",
    "plt.show()"
   ]
  },
  {
   "cell_type": "code",
   "execution_count": 316,
   "metadata": {
    "collapsed": false
   },
   "outputs": [
    {
     "data": {
      "text/html": [
       "<div>\n",
       "<style scoped>\n",
       "    .dataframe tbody tr th:only-of-type {\n",
       "        vertical-align: middle;\n",
       "    }\n",
       "\n",
       "    .dataframe tbody tr th {\n",
       "        vertical-align: top;\n",
       "    }\n",
       "\n",
       "    .dataframe thead th {\n",
       "        text-align: right;\n",
       "    }\n",
       "</style>\n",
       "<table border=\"1\" class=\"dataframe\">\n",
       "  <thead>\n",
       "    <tr style=\"text-align: right;\">\n",
       "      <th></th>\n",
       "      <th>class</th>\n",
       "      <th>gender</th>\n",
       "      <th>race</th>\n",
       "    </tr>\n",
       "  </thead>\n",
       "  <tbody>\n",
       "    <tr>\n",
       "      <th>doctor</th>\n",
       "      <td>0.033479</td>\n",
       "      <td>-0.070042</td>\n",
       "      <td>-0.278344</td>\n",
       "    </tr>\n",
       "    <tr>\n",
       "      <th>lawyer</th>\n",
       "      <td>0.288975</td>\n",
       "      <td>-0.020097</td>\n",
       "      <td>-0.215934</td>\n",
       "    </tr>\n",
       "    <tr>\n",
       "      <th>plumber</th>\n",
       "      <td>-0.102233</td>\n",
       "      <td>0.038597</td>\n",
       "      <td>-0.142178</td>\n",
       "    </tr>\n",
       "    <tr>\n",
       "      <th>scientist</th>\n",
       "      <td>0.025014</td>\n",
       "      <td>0.118586</td>\n",
       "      <td>-0.167376</td>\n",
       "    </tr>\n",
       "    <tr>\n",
       "      <th>professor</th>\n",
       "      <td>0.124618</td>\n",
       "      <td>0.015932</td>\n",
       "      <td>-0.266590</td>\n",
       "    </tr>\n",
       "    <tr>\n",
       "      <th>barber</th>\n",
       "      <td>0.284814</td>\n",
       "      <td>0.104613</td>\n",
       "      <td>-0.348880</td>\n",
       "    </tr>\n",
       "    <tr>\n",
       "      <th>hairdresser</th>\n",
       "      <td>-0.023210</td>\n",
       "      <td>-0.187217</td>\n",
       "      <td>-0.184637</td>\n",
       "    </tr>\n",
       "    <tr>\n",
       "      <th>nanny</th>\n",
       "      <td>0.236427</td>\n",
       "      <td>-0.202315</td>\n",
       "      <td>-0.348909</td>\n",
       "    </tr>\n",
       "    <tr>\n",
       "      <th>carpenter</th>\n",
       "      <td>0.133322</td>\n",
       "      <td>0.018757</td>\n",
       "      <td>-0.307202</td>\n",
       "    </tr>\n",
       "    <tr>\n",
       "      <th>entrepreneur</th>\n",
       "      <td>0.281439</td>\n",
       "      <td>0.042035</td>\n",
       "      <td>-0.276227</td>\n",
       "    </tr>\n",
       "    <tr>\n",
       "      <th>musician</th>\n",
       "      <td>0.412492</td>\n",
       "      <td>0.075741</td>\n",
       "      <td>-0.307485</td>\n",
       "    </tr>\n",
       "    <tr>\n",
       "      <th>writer</th>\n",
       "      <td>0.366631</td>\n",
       "      <td>0.113443</td>\n",
       "      <td>-0.289542</td>\n",
       "    </tr>\n",
       "    <tr>\n",
       "      <th>banker</th>\n",
       "      <td>0.128580</td>\n",
       "      <td>0.055646</td>\n",
       "      <td>-0.150835</td>\n",
       "    </tr>\n",
       "    <tr>\n",
       "      <th>poet</th>\n",
       "      <td>0.249051</td>\n",
       "      <td>-0.036377</td>\n",
       "      <td>-0.261561</td>\n",
       "    </tr>\n",
       "    <tr>\n",
       "      <th>nurse</th>\n",
       "      <td>0.149347</td>\n",
       "      <td>-0.315446</td>\n",
       "      <td>-0.305479</td>\n",
       "    </tr>\n",
       "    <tr>\n",
       "      <th>robber</th>\n",
       "      <td>-0.011827</td>\n",
       "      <td>0.119383</td>\n",
       "      <td>-0.129453</td>\n",
       "    </tr>\n",
       "    <tr>\n",
       "      <th>prostitute</th>\n",
       "      <td>0.226214</td>\n",
       "      <td>-0.183729</td>\n",
       "      <td>-0.309844</td>\n",
       "    </tr>\n",
       "    <tr>\n",
       "      <th>driver</th>\n",
       "      <td>0.189683</td>\n",
       "      <td>0.122438</td>\n",
       "      <td>-0.252321</td>\n",
       "    </tr>\n",
       "    <tr>\n",
       "      <th>singer</th>\n",
       "      <td>0.409709</td>\n",
       "      <td>-0.024363</td>\n",
       "      <td>-0.385954</td>\n",
       "    </tr>\n",
       "    <tr>\n",
       "      <th>thief</th>\n",
       "      <td>0.316669</td>\n",
       "      <td>0.163659</td>\n",
       "      <td>-0.309395</td>\n",
       "    </tr>\n",
       "  </tbody>\n",
       "</table>\n",
       "</div>"
      ],
      "text/plain": [
       "                 class    gender      race\n",
       "doctor        0.033479 -0.070042 -0.278344\n",
       "lawyer        0.288975 -0.020097 -0.215934\n",
       "plumber      -0.102233  0.038597 -0.142178\n",
       "scientist     0.025014  0.118586 -0.167376\n",
       "professor     0.124618  0.015932 -0.266590\n",
       "barber        0.284814  0.104613 -0.348880\n",
       "hairdresser  -0.023210 -0.187217 -0.184637\n",
       "nanny         0.236427 -0.202315 -0.348909\n",
       "carpenter     0.133322  0.018757 -0.307202\n",
       "entrepreneur  0.281439  0.042035 -0.276227\n",
       "musician      0.412492  0.075741 -0.307485\n",
       "writer        0.366631  0.113443 -0.289542\n",
       "banker        0.128580  0.055646 -0.150835\n",
       "poet          0.249051 -0.036377 -0.261561\n",
       "nurse         0.149347 -0.315446 -0.305479\n",
       "robber       -0.011827  0.119383 -0.129453\n",
       "prostitute    0.226214 -0.183729 -0.309844\n",
       "driver        0.189683  0.122438 -0.252321\n",
       "singer        0.409709 -0.024363 -0.385954\n",
       "thief         0.316669  0.163659 -0.309395"
      ]
     },
     "execution_count": 316,
     "metadata": {},
     "output_type": "execute_result"
    }
   ],
   "source": [
    "OccDF"
   ]
  },
  {
   "cell_type": "markdown",
   "metadata": {},
   "source": [
    "In this plot, we can observe that the occupational words are more clustered together on the gender dimension, which indicates that the occupational words are more different on the gender dimension than the other two dimensions. \n",
    "\n",
    "Considering the variance of cosine difference within each dimension, the most different dimension is race.\n",
    "\n",
    "On the gender dimension, \"thief\", \"driver\", \"scientist\", \"writer\", \"barber\" are the most masculine jobs and \"nurse\", \"nanny\", \"prositute\", \"hairdresser\" are the most feminine jobs, thus \"thief\" and \"nurse\" are the most different jobs on the gender dimension. On the race dimension, \"robber\", \"plumber\", \"banker\", \"scientist\" are the most white jobs, and \"singer\", \"nanny\", \"barber\" are the most black jobs, thus \"robber\" and \"singer\" are the most different jobs on the race dimension. On the class dimension, \"musician\", \"singer\", \"writer\", \"thief\", \"lawyer\", \"enterprenuer\" are the most wealthy jobs, and \"plumber\", \"hairdresser\", \"robber\" are the most poor jobs, thus \"musician\" and \"plumber\" are the most different jobs.\n",
    "\n",
    "It seems that across three dimensions, \"plumber\" and \"singer\" are the most different jobs which are thought to be \"masculine\", \"white\", \"poor\" and \"masculine\", \"black\", \"wealthy\" respectively. We can have a look at a textual example of \"plumber\" to verify our finding."
   ]
  },
  {
   "cell_type": "code",
   "execution_count": 344,
   "metadata": {
    "collapsed": false
   },
   "outputs": [
    {
     "data": {
      "text/plain": [
       "'Everett Walsh, an over confident handyman, travels to the depths of a creepy sewer after being hired by a kooky cat-lady with a broken sink. Within the sewer, Everett discovers another plumber hired for the same job and Everett must fight to maintain his pride as a \"never give up\" handyman, while something else lurks in the slimy sewer, besides bickering plumbers.'"
      ]
     },
     "execution_count": 344,
     "metadata": {},
     "output_type": "execute_result"
    }
   ],
   "source": [
    "plot[plot['plot'].str.contains(\"plumber\")]['plot'].iloc[0]"
   ]
  },
  {
   "cell_type": "code",
   "execution_count": 312,
   "metadata": {
    "collapsed": false
   },
   "outputs": [
    {
     "data": {
      "image/png": "[encoded data removed]",
      "text/plain": [
       "<matplotlib.figure.Figure at 0x19301d048>"
      ]
     },
     "metadata": {},
     "output_type": "display_data"
    }
   ],
   "source": [
    "# Plot the emotion-related words in each of the three dimensions\n",
    "fig = plt.figure(figsize = (12,6))\n",
    "ax1 = fig.add_subplot(131)\n",
    "PlotDimension(ax1, EmoDF, 'gender')\n",
    "ax2 = fig.add_subplot(132)\n",
    "PlotDimension(ax2, EmoDF, 'race')\n",
    "ax3 = fig.add_subplot(133)\n",
    "PlotDimension(ax3, EmoDF, 'class')\n",
    "plt.show()"
   ]
  },
  {
   "cell_type": "code",
   "execution_count": 345,
   "metadata": {
    "collapsed": false
   },
   "outputs": [
    {
     "data": {
      "text/html": [
       "<div>\n",
       "<style scoped>\n",
       "    .dataframe tbody tr th:only-of-type {\n",
       "        vertical-align: middle;\n",
       "    }\n",
       "\n",
       "    .dataframe tbody tr th {\n",
       "        vertical-align: top;\n",
       "    }\n",
       "\n",
       "    .dataframe thead th {\n",
       "        text-align: right;\n",
       "    }\n",
       "</style>\n",
       "<table border=\"1\" class=\"dataframe\">\n",
       "  <thead>\n",
       "    <tr style=\"text-align: right;\">\n",
       "      <th></th>\n",
       "      <th>class</th>\n",
       "      <th>gender</th>\n",
       "      <th>race</th>\n",
       "    </tr>\n",
       "  </thead>\n",
       "  <tbody>\n",
       "    <tr>\n",
       "      <th>happy</th>\n",
       "      <td>0.241399</td>\n",
       "      <td>-0.141291</td>\n",
       "      <td>-0.193498</td>\n",
       "    </tr>\n",
       "    <tr>\n",
       "      <th>excited</th>\n",
       "      <td>0.137569</td>\n",
       "      <td>-0.133785</td>\n",
       "      <td>-0.200716</td>\n",
       "    </tr>\n",
       "    <tr>\n",
       "      <th>joy</th>\n",
       "      <td>0.033387</td>\n",
       "      <td>-0.131726</td>\n",
       "      <td>-0.229047</td>\n",
       "    </tr>\n",
       "    <tr>\n",
       "      <th>content</th>\n",
       "      <td>-0.242407</td>\n",
       "      <td>-0.018276</td>\n",
       "      <td>0.052462</td>\n",
       "    </tr>\n",
       "    <tr>\n",
       "      <th>peaceful</th>\n",
       "      <td>-0.153667</td>\n",
       "      <td>-0.071580</td>\n",
       "      <td>0.161624</td>\n",
       "    </tr>\n",
       "    <tr>\n",
       "      <th>motivated</th>\n",
       "      <td>-0.276699</td>\n",
       "      <td>-0.045781</td>\n",
       "      <td>0.074350</td>\n",
       "    </tr>\n",
       "    <tr>\n",
       "      <th>sad</th>\n",
       "      <td>0.020967</td>\n",
       "      <td>-0.080445</td>\n",
       "      <td>-0.224768</td>\n",
       "    </tr>\n",
       "    <tr>\n",
       "      <th>sorrow</th>\n",
       "      <td>-0.170007</td>\n",
       "      <td>-0.095457</td>\n",
       "      <td>-0.041454</td>\n",
       "    </tr>\n",
       "    <tr>\n",
       "      <th>grieving</th>\n",
       "      <td>0.120030</td>\n",
       "      <td>-0.126312</td>\n",
       "      <td>-0.160245</td>\n",
       "    </tr>\n",
       "    <tr>\n",
       "      <th>bitter</th>\n",
       "      <td>0.133174</td>\n",
       "      <td>-0.030049</td>\n",
       "      <td>-0.112071</td>\n",
       "    </tr>\n",
       "    <tr>\n",
       "      <th>depressed</th>\n",
       "      <td>0.359328</td>\n",
       "      <td>0.045766</td>\n",
       "      <td>-0.208835</td>\n",
       "    </tr>\n",
       "    <tr>\n",
       "      <th>frustrated</th>\n",
       "      <td>0.292154</td>\n",
       "      <td>0.000594</td>\n",
       "      <td>-0.151536</td>\n",
       "    </tr>\n",
       "    <tr>\n",
       "      <th>angry</th>\n",
       "      <td>0.181965</td>\n",
       "      <td>0.058674</td>\n",
       "      <td>-0.065932</td>\n",
       "    </tr>\n",
       "    <tr>\n",
       "      <th>annoyed</th>\n",
       "      <td>-0.066714</td>\n",
       "      <td>-0.082923</td>\n",
       "      <td>-0.157793</td>\n",
       "    </tr>\n",
       "    <tr>\n",
       "      <th>anxious</th>\n",
       "      <td>0.214339</td>\n",
       "      <td>-0.075933</td>\n",
       "      <td>-0.328848</td>\n",
       "    </tr>\n",
       "    <tr>\n",
       "      <th>bored</th>\n",
       "      <td>0.187486</td>\n",
       "      <td>-0.153823</td>\n",
       "      <td>-0.301513</td>\n",
       "    </tr>\n",
       "    <tr>\n",
       "      <th>determined</th>\n",
       "      <td>0.034776</td>\n",
       "      <td>-0.053150</td>\n",
       "      <td>-0.043455</td>\n",
       "    </tr>\n",
       "    <tr>\n",
       "      <th>envious</th>\n",
       "      <td>-0.094006</td>\n",
       "      <td>-0.067244</td>\n",
       "      <td>-0.168058</td>\n",
       "    </tr>\n",
       "    <tr>\n",
       "      <th>jealous</th>\n",
       "      <td>0.308970</td>\n",
       "      <td>-0.149789</td>\n",
       "      <td>-0.207239</td>\n",
       "    </tr>\n",
       "    <tr>\n",
       "      <th>lonely</th>\n",
       "      <td>0.442451</td>\n",
       "      <td>-0.121382</td>\n",
       "      <td>-0.332871</td>\n",
       "    </tr>\n",
       "    <tr>\n",
       "      <th>nervous</th>\n",
       "      <td>0.093503</td>\n",
       "      <td>-0.095360</td>\n",
       "      <td>-0.212049</td>\n",
       "    </tr>\n",
       "    <tr>\n",
       "      <th>scared</th>\n",
       "      <td>-0.096232</td>\n",
       "      <td>-0.012108</td>\n",
       "      <td>-0.113672</td>\n",
       "    </tr>\n",
       "  </tbody>\n",
       "</table>\n",
       "</div>"
      ],
      "text/plain": [
       "               class    gender      race\n",
       "happy       0.241399 -0.141291 -0.193498\n",
       "excited     0.137569 -0.133785 -0.200716\n",
       "joy         0.033387 -0.131726 -0.229047\n",
       "content    -0.242407 -0.018276  0.052462\n",
       "peaceful   -0.153667 -0.071580  0.161624\n",
       "motivated  -0.276699 -0.045781  0.074350\n",
       "sad         0.020967 -0.080445 -0.224768\n",
       "sorrow     -0.170007 -0.095457 -0.041454\n",
       "grieving    0.120030 -0.126312 -0.160245\n",
       "bitter      0.133174 -0.030049 -0.112071\n",
       "depressed   0.359328  0.045766 -0.208835\n",
       "frustrated  0.292154  0.000594 -0.151536\n",
       "angry       0.181965  0.058674 -0.065932\n",
       "annoyed    -0.066714 -0.082923 -0.157793\n",
       "anxious     0.214339 -0.075933 -0.328848\n",
       "bored       0.187486 -0.153823 -0.301513\n",
       "determined  0.034776 -0.053150 -0.043455\n",
       "envious    -0.094006 -0.067244 -0.168058\n",
       "jealous     0.308970 -0.149789 -0.207239\n",
       "lonely      0.442451 -0.121382 -0.332871\n",
       "nervous     0.093503 -0.095360 -0.212049\n",
       "scared     -0.096232 -0.012108 -0.113672"
      ]
     },
     "execution_count": 345,
     "metadata": {},
     "output_type": "execute_result"
    }
   ],
   "source": [
    "EmoDF"
   ]
  },
  {
   "cell_type": "markdown",
   "metadata": {},
   "source": [
    "In this plot, we can observe that the emotion-related words are more clustered together on the race dimensions, which indicates that the emotion-related words are more different on the race dimension than the other two dimensions. \n",
    "\n",
    "Considering the variance of cosine difference within each dimension, the most different dimension is class.\n",
    "\n",
    "On the gender dimension, \"angry\", \"depressed\" are the most masculine emotions and \"board\", \"jealous\", \"happy\" are the most feminine emotions, thus \"angry\" and \"board\" are the most different emotions on the gender dimension. On the race dimension, \"peaceful\" is the most white emotion, and \"angry\", \"anxious\", \"bored\" are the most black emotions, thus \"peaceful\" and \"angry\" are the most different emotions on the race dimension. On the class dimension, \"lonely\" is the most wealthy emotion, and \"motivated\", \"content\" are the most poor emotions, thus \"lonely\" and \"motivated\" are the most different emotions.\n",
    "\n",
    "It seems that across three dimensions, \"angry\" is the most different emotion which are thought to be \"masculine\", \"black\", and \"wealthy\". We can have a look at a textual example of \"angry\" to verify our finding."
   ]
  },
  {
   "cell_type": "code",
   "execution_count": 346,
   "metadata": {
    "collapsed": false
   },
   "outputs": [
    {
     "data": {
      "text/plain": [
       "'After Matthew Dragna inherits a rundown old casino from his deceased uncle, Matthew, his loyal girlfriend JJ, and several other friends decide to check the place out. Alas, the casino turns out to be haunted by the lethal and angry ghosts of vicious Las Vegas mobster Roy \"The Word\" Donahue and his equally pernicious flunky Gil Wachetta. Will Matthew and any of his friends survive a night in the casino with these vengeful spirits?'"
      ]
     },
     "execution_count": 346,
     "metadata": {},
     "output_type": "execute_result"
    }
   ],
   "source": [
    "plot[plot['plot'].str.contains(\"angry\")]['plot'].iloc[0]"
   ]
  },
  {
   "cell_type": "code",
   "execution_count": 314,
   "metadata": {
    "collapsed": false
   },
   "outputs": [
    {
     "data": {
      "image/png": "[encoded data removed]",
      "text/plain": [
       "<matplotlib.figure.Figure at 0x1956551d0>"
      ]
     },
     "metadata": {},
     "output_type": "display_data"
    }
   ],
   "source": [
    "# Plot the power-related words in each of the three dimensions\n",
    "fig = plt.figure(figsize = (12,6))\n",
    "ax1 = fig.add_subplot(131)\n",
    "PlotDimension(ax1, PowerDF, 'gender')\n",
    "ax2 = fig.add_subplot(132)\n",
    "PlotDimension(ax2, PowerDF, 'race')\n",
    "ax3 = fig.add_subplot(133)\n",
    "PlotDimension(ax3, PowerDF, 'class')\n",
    "plt.show()"
   ]
  },
  {
   "cell_type": "code",
   "execution_count": 347,
   "metadata": {
    "collapsed": false
   },
   "outputs": [
    {
     "data": {
      "text/html": [
       "<div>\n",
       "<style scoped>\n",
       "    .dataframe tbody tr th:only-of-type {\n",
       "        vertical-align: middle;\n",
       "    }\n",
       "\n",
       "    .dataframe tbody tr th {\n",
       "        vertical-align: top;\n",
       "    }\n",
       "\n",
       "    .dataframe thead th {\n",
       "        text-align: right;\n",
       "    }\n",
       "</style>\n",
       "<table border=\"1\" class=\"dataframe\">\n",
       "  <thead>\n",
       "    <tr style=\"text-align: right;\">\n",
       "      <th></th>\n",
       "      <th>class</th>\n",
       "      <th>gender</th>\n",
       "      <th>race</th>\n",
       "    </tr>\n",
       "  </thead>\n",
       "  <tbody>\n",
       "    <tr>\n",
       "      <th>powerful</th>\n",
       "      <td>-0.039000</td>\n",
       "      <td>0.024955</td>\n",
       "      <td>0.204237</td>\n",
       "    </tr>\n",
       "    <tr>\n",
       "      <th>strong</th>\n",
       "      <td>0.047314</td>\n",
       "      <td>-0.186845</td>\n",
       "      <td>-0.023670</td>\n",
       "    </tr>\n",
       "    <tr>\n",
       "      <th>control</th>\n",
       "      <td>-0.182513</td>\n",
       "      <td>0.122006</td>\n",
       "      <td>0.218370</td>\n",
       "    </tr>\n",
       "    <tr>\n",
       "      <th>submissive</th>\n",
       "      <td>-0.057339</td>\n",
       "      <td>-0.213085</td>\n",
       "      <td>-0.215914</td>\n",
       "    </tr>\n",
       "    <tr>\n",
       "      <th>important</th>\n",
       "      <td>-0.113144</td>\n",
       "      <td>0.040946</td>\n",
       "      <td>0.308854</td>\n",
       "    </tr>\n",
       "    <tr>\n",
       "      <th>influential</th>\n",
       "      <td>-0.151810</td>\n",
       "      <td>0.093743</td>\n",
       "      <td>0.201889</td>\n",
       "    </tr>\n",
       "    <tr>\n",
       "      <th>dominant</th>\n",
       "      <td>-0.360955</td>\n",
       "      <td>-0.051688</td>\n",
       "      <td>0.065274</td>\n",
       "    </tr>\n",
       "    <tr>\n",
       "      <th>weak</th>\n",
       "      <td>-0.291342</td>\n",
       "      <td>-0.042530</td>\n",
       "      <td>-0.057695</td>\n",
       "    </tr>\n",
       "    <tr>\n",
       "      <th>gentle</th>\n",
       "      <td>0.000633</td>\n",
       "      <td>-0.084912</td>\n",
       "      <td>-0.313672</td>\n",
       "    </tr>\n",
       "    <tr>\n",
       "      <th>obedient</th>\n",
       "      <td>0.040768</td>\n",
       "      <td>-0.034540</td>\n",
       "      <td>0.047834</td>\n",
       "    </tr>\n",
       "    <tr>\n",
       "      <th>kill</th>\n",
       "      <td>-0.116704</td>\n",
       "      <td>0.157046</td>\n",
       "      <td>0.141950</td>\n",
       "    </tr>\n",
       "    <tr>\n",
       "      <th>die</th>\n",
       "      <td>-0.250127</td>\n",
       "      <td>0.131671</td>\n",
       "      <td>0.161907</td>\n",
       "    </tr>\n",
       "  </tbody>\n",
       "</table>\n",
       "</div>"
      ],
      "text/plain": [
       "                class    gender      race\n",
       "powerful    -0.039000  0.024955  0.204237\n",
       "strong       0.047314 -0.186845 -0.023670\n",
       "control     -0.182513  0.122006  0.218370\n",
       "submissive  -0.057339 -0.213085 -0.215914\n",
       "important   -0.113144  0.040946  0.308854\n",
       "influential -0.151810  0.093743  0.201889\n",
       "dominant    -0.360955 -0.051688  0.065274\n",
       "weak        -0.291342 -0.042530 -0.057695\n",
       "gentle       0.000633 -0.084912 -0.313672\n",
       "obedient     0.040768 -0.034540  0.047834\n",
       "kill        -0.116704  0.157046  0.141950\n",
       "die         -0.250127  0.131671  0.161907"
      ]
     },
     "execution_count": 347,
     "metadata": {},
     "output_type": "execute_result"
    }
   ],
   "source": [
    "PowerDF"
   ]
  },
  {
   "cell_type": "markdown",
   "metadata": {},
   "source": [
    "In this plot, we can observe that the power-related words are more clustered together on the gender dimensions, which indicates that the power-related words are more different on the gender dimension than the other two dimensions. \n",
    "\n",
    "Considering the variance of cosine difference within each dimension, the most different dimension is race.\n",
    "\n",
    "On the gender dimension, \"kill\", \"die\", \"control\" are the most masculine powers and \"submissive\", \"strong\" are the most feminine powers, thus \"kill\" and \"submissive\" are the most different powers on the gender dimension. On the race dimension, \"important\" and \"gentle\" are the most different powers. On the class dimension, \"strong\", \"obedient\", \"gentle\" are the most wealthy powers, and \"dominant\" is the most poor power, thus \"strong\" and \"dominant\" are the most different powers.\n",
    "\n",
    "It seems that across three dimensions, \"strong\" is the most different power which are thought to be \"feminine\", \"black\", and \"wealthy\". We can have a look at a textual example of \"strong\" to verify our finding."
   ]
  },
  {
   "cell_type": "code",
   "execution_count": 348,
   "metadata": {
    "collapsed": false
   },
   "outputs": [
    {
     "data": {
      "text/plain": [
       "'n a time, when Islam is under tremendous attack-from within and without-\\'A Jihadfor Love\\' is a daring documentary-filmed in twelve countries and nine languages. Muslim gay filmmaker Parvez Sharma has gone where the silence is strongest, filming with great risk in nations where government permission to make this film was not an option. A Jihad for Love is the first-ever feature-length documentary to explore the complex global intersections of Islam and homosexuality. With unprecedented access and depth, Sharma brings to light the hidden lives of gay and lesbian Muslims from countries like Iran, Pakistan, Egypt, Turkey, France, India, and South Africa. The majority of gay and lesbian Muslims must travel a lonely and often dangerous road. In many nations with a Muslim majority, laws based on Quranic interpretations are enforced by authorities to monitor, entrap, imprison, torture and even execute homosexuals. Even for those who migrate to Europe or North America and adopt Western personae of \"gay,\" the relative freedoms of new homelands are mitigated by persistent racial profiling and intensified state surveillance after the terrorist attacks in New York, London and Madrid. As a result, many gay and lesbian Muslims end up renouncing their religion. But the real-life characters of A Jihad for Love aren\\'t willing to abandon a faith they cherish despite its flaws. Instead, they struggle to reconcile their ardent belief with the innate reality of their being. The international chorus of gay and lesbian Muslims brought together by A Jihad for Love doesn\\'t seek to vilify or reject Islam, but rather negotiate a new relationship to it. In doing so, the film\\'s extraordinary characters point the way for all Muslims to move beyond the hostile, war-torn present, toward a more hopeful future. As one can imagine, it was a difficult decision for the subjects to participate in the film due to the violence they could face. However, those who have come forward to tell their stories feel this film is too important for 1.4 billion Muslims and non-Muslims around the world for them to say no. They are willing to take the risk in their quest to lay equal claim to their profoundly held faith. \"A Jihad for Love\\' is produced by Sandi DuBowski (Director of Trembling Before G-d) in association with ZZDF-Arte Channel 4, and LOGO.'"
      ]
     },
     "execution_count": 348,
     "metadata": {},
     "output_type": "execute_result"
    }
   ],
   "source": [
    "plot[plot['plot'].str.contains(\"strong\")]['plot'].iloc[0]"
   ]
  },
  {
   "cell_type": "markdown",
   "metadata": {},
   "source": [
    "Back to my research interest that I mentioned in the beginning, from the projection of three groups of words to gender dimension, we can observe the difference and find the specific female image on screen, which is working as  \"nurse\", \"nanny\", \"prositute\", or \"hairdresser\", being \"board\", \"jealous\", or \"happy\", and being \"submissive\" or \"strong\". There definitely exists some stereotypes that can be explored and analyzed further."
   ]
  },
  {
   "cell_type": "code",
   "execution_count": null,
   "metadata": {
    "collapsed": true
   },
   "outputs": [],
   "source": []
  }
 ],
 "metadata": {
  "anaconda-cloud": {},
  "kernelspec": {
   "display_name": "Python [default]",
   "language": "python",
   "name": "python3"
  },
  "language_info": {
   "codemirror_mode": {
    "name": "ipython",
    "version": 3
   },
   "file_extension": ".py",
   "mimetype": "text/x-python",
   "name": "python",
   "nbconvert_exporter": "python",
   "pygments_lexer": "ipython3",
   "version": "3.5.1"
  }
 },
 "nbformat": 4,
 "nbformat_minor": 1
}
